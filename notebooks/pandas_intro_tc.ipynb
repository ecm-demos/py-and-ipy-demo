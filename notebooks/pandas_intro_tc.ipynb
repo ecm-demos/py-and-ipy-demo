{
 "metadata": {
  "name": "pandas_intro_tc"
 },
 "nbformat": 3,
 "nbformat_minor": 0,
 "worksheets": [
  {
   "cells": [
    {
     "cell_type": "code",
     "collapsed": false,
     "input": [
      "import pandas as pd\n",
      "\n",
      "from pandas import Series, DataFrame, Panel"
     ],
     "language": "python",
     "metadata": {},
     "outputs": [],
     "prompt_number": 1
    },
    {
     "cell_type": "markdown",
     "metadata": {},
     "source": [
      "Pandas\n",
      "======\n",
      "\n",
      "http://pandas.pydata.org/\n",
      "\n",
      "https://github.com/pydata/pandas\n",
      "\n",
      "Python for Data Analysis ( http://shop.oreilly.com/product/0636920023784.do )\n",
      "\n",
      "Important topics:\n",
      "\n",
      "- Creating and accessing data structures\n",
      "  - Series, DataFrame, Panel\n",
      "- Creating labels (Index, MultiIndex)\n",
      "- Indexing/slicing data structures\n",
      "- Data IO\n",
      "- Numerical computations\n",
      "- Data alignment\n",
      "- Missing data handling\n",
      "- Grouping"
     ]
    },
    {
     "cell_type": "markdown",
     "metadata": {},
     "source": [
      "##Pandas has data structures for 1-D, 2-D, and 3-D data\n",
      "- Series (1-D vector data)\n",
      "- DataFrame (2-D tabular data)\n",
      "- Panel (3-D data cube)"
     ]
    },
    {
     "cell_type": "markdown",
     "metadata": {},
     "source": [
      "####Series"
     ]
    },
    {
     "cell_type": "code",
     "collapsed": false,
     "input": [
      "values = [1, 2, 3]\n",
      "labels = ['Cashews', 'Almonds', 'Peanuts']"
     ],
     "language": "python",
     "metadata": {},
     "outputs": [],
     "prompt_number": 31
    },
    {
     "cell_type": "code",
     "collapsed": false,
     "input": [
      "s = pd.Series(values, labels)\n",
      "s"
     ],
     "language": "python",
     "metadata": {},
     "outputs": [
      {
       "output_type": "pyout",
       "prompt_number": 36,
       "text": [
        "Cashews    1\n",
        "Almonds    2\n",
        "Peanuts    3"
       ]
      }
     ],
     "prompt_number": 36
    },
    {
     "cell_type": "code",
     "collapsed": false,
     "input": [
      "Series?"
     ],
     "language": "python",
     "metadata": {},
     "outputs": [],
     "prompt_number": 35
    },
    {
     "cell_type": "code",
     "collapsed": false,
     "input": [
      "s.index"
     ],
     "language": "python",
     "metadata": {},
     "outputs": [
      {
       "output_type": "pyout",
       "prompt_number": 37,
       "text": [
        "Index([Cashews, Almonds, Peanuts], dtype=object)"
       ]
      }
     ],
     "prompt_number": 37
    },
    {
     "cell_type": "code",
     "collapsed": false,
     "input": [
      "s.values"
     ],
     "language": "python",
     "metadata": {},
     "outputs": [
      {
       "output_type": "pyout",
       "prompt_number": 38,
       "text": [
        "array([1, 2, 3])"
       ]
      }
     ],
     "prompt_number": 38
    },
    {
     "cell_type": "code",
     "collapsed": false,
     "input": [
      "type(s.values)"
     ],
     "language": "python",
     "metadata": {},
     "outputs": [
      {
       "output_type": "pyout",
       "prompt_number": 39,
       "text": [
        "numpy.ndarray"
       ]
      }
     ],
     "prompt_number": 39
    },
    {
     "cell_type": "markdown",
     "metadata": {},
     "source": [
      "Accessing Series elements"
     ]
    },
    {
     "cell_type": "code",
     "collapsed": false,
     "input": [
      "s['Peanuts']"
     ],
     "language": "python",
     "metadata": {},
     "outputs": [
      {
       "output_type": "pyout",
       "prompt_number": 40,
       "text": [
        "3"
       ]
      }
     ],
     "prompt_number": 40
    },
    {
     "cell_type": "code",
     "collapsed": false,
     "input": [
      "s['Almonds']"
     ],
     "language": "python",
     "metadata": {},
     "outputs": [
      {
       "output_type": "pyout",
       "prompt_number": 41,
       "text": [
        "2"
       ]
      }
     ],
     "prompt_number": 41
    },
    {
     "cell_type": "code",
     "collapsed": false,
     "input": [
      "s['Cashews']"
     ],
     "language": "python",
     "metadata": {},
     "outputs": [
      {
       "output_type": "pyout",
       "prompt_number": 42,
       "text": [
        "1"
       ]
      }
     ],
     "prompt_number": 42
    },
    {
     "cell_type": "code",
     "collapsed": false,
     "input": [
      "s[0]"
     ],
     "language": "python",
     "metadata": {},
     "outputs": [
      {
       "output_type": "pyout",
       "prompt_number": 43,
       "text": [
        "1"
       ]
      }
     ],
     "prompt_number": 43
    },
    {
     "cell_type": "markdown",
     "metadata": {},
     "source": [
      "Series from dicts"
     ]
    },
    {
     "cell_type": "code",
     "collapsed": false,
     "input": [
      "d = dict(zip(labels, values))\n",
      "Series(d)"
     ],
     "language": "python",
     "metadata": {},
     "outputs": [
      {
       "output_type": "pyout",
       "prompt_number": 49,
       "text": [
        "Almonds    2\n",
        "Cashews    1\n",
        "Peanuts    3"
       ]
      }
     ],
     "prompt_number": 49
    },
    {
     "cell_type": "markdown",
     "metadata": {},
     "source": [
      "How come the order changed?"
     ]
    },
    {
     "cell_type": "markdown",
     "metadata": {},
     "source": [
      "####DataFrame"
     ]
    },
    {
     "cell_type": "code",
     "collapsed": false,
     "input": [
      "df = DataFrame([[1, 2, 3], \n",
      "                [4, 5, 6],\n",
      "                [7, 8, 9]], \n",
      "               index=['a', 'b', 'c'], \n",
      "               columns=labels)\n",
      "df"
     ],
     "language": "python",
     "metadata": {},
     "outputs": [
      {
       "html": [
        "<div style=\"max-height:1000px;max-width:1500px;overflow:auto;\">\n",
        "<table border=\"1\" class=\"dataframe\">\n",
        "  <thead>\n",
        "    <tr style=\"text-align: right;\">\n",
        "      <th></th>\n",
        "      <th>Cashews</th>\n",
        "      <th>Almonds</th>\n",
        "      <th>Peanuts</th>\n",
        "    </tr>\n",
        "  </thead>\n",
        "  <tbody>\n",
        "    <tr>\n",
        "      <td><strong>a</strong></td>\n",
        "      <td> 1</td>\n",
        "      <td> 2</td>\n",
        "      <td> 3</td>\n",
        "    </tr>\n",
        "    <tr>\n",
        "      <td><strong>b</strong></td>\n",
        "      <td> 4</td>\n",
        "      <td> 5</td>\n",
        "      <td> 6</td>\n",
        "    </tr>\n",
        "    <tr>\n",
        "      <td><strong>c</strong></td>\n",
        "      <td> 7</td>\n",
        "      <td> 8</td>\n",
        "      <td> 9</td>\n",
        "    </tr>\n",
        "  </tbody>\n",
        "</table>\n",
        "</div>"
       ],
       "output_type": "pyout",
       "prompt_number": 50,
       "text": [
        "   Cashews  Almonds  Peanuts\n",
        "a        1        2        3\n",
        "b        4        5        6\n",
        "c        7        8        9"
       ]
      }
     ],
     "prompt_number": 50
    },
    {
     "cell_type": "code",
     "collapsed": false,
     "input": [
      "df.index"
     ],
     "language": "python",
     "metadata": {},
     "outputs": [
      {
       "output_type": "pyout",
       "prompt_number": 51,
       "text": [
        "Index([a, b, c], dtype=object)"
       ]
      }
     ],
     "prompt_number": 51
    },
    {
     "cell_type": "code",
     "collapsed": false,
     "input": [
      "df.columns"
     ],
     "language": "python",
     "metadata": {},
     "outputs": [
      {
       "output_type": "pyout",
       "prompt_number": 52,
       "text": [
        "Index([Cashews, Almonds, Peanuts], dtype=object)"
       ]
      }
     ],
     "prompt_number": 52
    },
    {
     "cell_type": "code",
     "collapsed": false,
     "input": [
      "df.values"
     ],
     "language": "python",
     "metadata": {},
     "outputs": [
      {
       "output_type": "pyout",
       "prompt_number": 53,
       "text": [
        "array([[1, 2, 3],\n",
        "       [4, 5, 6],\n",
        "       [7, 8, 9]])"
       ]
      }
     ],
     "prompt_number": 53
    },
    {
     "cell_type": "markdown",
     "metadata": {},
     "source": [
      "Accessing DataFrame components"
     ]
    },
    {
     "cell_type": "code",
     "collapsed": false,
     "input": [
      "df['Cashews']"
     ],
     "language": "python",
     "metadata": {},
     "outputs": [
      {
       "output_type": "pyout",
       "prompt_number": 54,
       "text": [
        "a    1\n",
        "b    4\n",
        "c    7\n",
        "Name: Cashews"
       ]
      }
     ],
     "prompt_number": 54
    },
    {
     "cell_type": "code",
     "collapsed": false,
     "input": [
      "type(df['Cashews'])"
     ],
     "language": "python",
     "metadata": {},
     "outputs": [
      {
       "output_type": "pyout",
       "prompt_number": 55,
       "text": [
        "pandas.core.series.Series"
       ]
      }
     ],
     "prompt_number": 55
    },
    {
     "cell_type": "markdown",
     "metadata": {},
     "source": [
      "Columns can be accessed as attributes"
     ]
    },
    {
     "cell_type": "code",
     "collapsed": false,
     "input": [
      "df.Cashews"
     ],
     "language": "python",
     "metadata": {},
     "outputs": [
      {
       "output_type": "pyout",
       "prompt_number": 56,
       "text": [
        "a    1\n",
        "b    4\n",
        "c    7\n",
        "Name: Cashews"
       ]
      }
     ],
     "prompt_number": 56
    },
    {
     "cell_type": "code",
     "collapsed": false,
     "input": [
      "df.ix['a', :]"
     ],
     "language": "python",
     "metadata": {},
     "outputs": [
      {
       "output_type": "pyout",
       "prompt_number": 57,
       "text": [
        "Cashews    1\n",
        "Almonds    2\n",
        "Peanuts    3\n",
        "Name: a"
       ]
      }
     ],
     "prompt_number": 57
    },
    {
     "cell_type": "markdown",
     "metadata": {},
     "source": [
      "####Panel"
     ]
    },
    {
     "cell_type": "code",
     "collapsed": false,
     "input": [
      "p = Panel({'x' : df, 'y' : df**2})\n",
      "p"
     ],
     "language": "python",
     "metadata": {},
     "outputs": [
      {
       "output_type": "pyout",
       "prompt_number": 58,
       "text": [
        "<class 'pandas.core.panel.Panel'>\n",
        "Dimensions: 2 (items) x 3 (major) x 3 (minor)\n",
        "Items: x to y\n",
        "Major axis: a to c\n",
        "Minor axis: Cashews to Peanuts"
       ]
      }
     ],
     "prompt_number": 58
    },
    {
     "cell_type": "markdown",
     "metadata": {},
     "source": [
      "The axes are slightly different"
     ]
    },
    {
     "cell_type": "code",
     "collapsed": false,
     "input": [
      "p.index"
     ],
     "language": "python",
     "metadata": {},
     "outputs": [
      {
       "ename": "AttributeError",
       "evalue": "'Panel' object has no attribute 'index'",
       "output_type": "pyerr",
       "traceback": [
        "\u001b[0;31m---------------------------------------------------------------------------\u001b[0m\n\u001b[0;31mAttributeError\u001b[0m                            Traceback (most recent call last)",
        "\u001b[0;32m<ipython-input-59-4efc2fcac95a>\u001b[0m in \u001b[0;36m<module>\u001b[0;34m()\u001b[0m\n\u001b[0;32m----> 1\u001b[0;31m \u001b[0mp\u001b[0m\u001b[0;34m.\u001b[0m\u001b[0mindex\u001b[0m\u001b[0;34m\u001b[0m\u001b[0m\n\u001b[0m",
        "\u001b[0;32m/Users/snorlax13mba/anaconda/lib/python2.7/site-packages/pandas/core/panel.pyc\u001b[0m in \u001b[0;36m__getattr__\u001b[0;34m(self, name)\u001b[0m\n\u001b[1;32m    570\u001b[0m             \u001b[0;32mreturn\u001b[0m \u001b[0mself\u001b[0m\u001b[0;34m[\u001b[0m\u001b[0mname\u001b[0m\u001b[0;34m]\u001b[0m\u001b[0;34m\u001b[0m\u001b[0m\n\u001b[1;32m    571\u001b[0m         raise AttributeError(\"'%s' object has no attribute '%s'\" %\n\u001b[0;32m--> 572\u001b[0;31m                              (type(self).__name__, name))\n\u001b[0m\u001b[1;32m    573\u001b[0m \u001b[0;34m\u001b[0m\u001b[0m\n\u001b[1;32m    574\u001b[0m     \u001b[0;32mdef\u001b[0m \u001b[0m_slice\u001b[0m\u001b[0;34m(\u001b[0m\u001b[0mself\u001b[0m\u001b[0;34m,\u001b[0m \u001b[0mslobj\u001b[0m\u001b[0;34m,\u001b[0m \u001b[0maxis\u001b[0m\u001b[0;34m=\u001b[0m\u001b[0;36m0\u001b[0m\u001b[0;34m)\u001b[0m\u001b[0;34m:\u001b[0m\u001b[0;34m\u001b[0m\u001b[0m\n",
        "\u001b[0;31mAttributeError\u001b[0m: 'Panel' object has no attribute 'index'"
       ]
      }
     ],
     "prompt_number": 59
    },
    {
     "cell_type": "code",
     "collapsed": false,
     "input": [
      "p.items"
     ],
     "language": "python",
     "metadata": {},
     "outputs": [
      {
       "output_type": "pyout",
       "prompt_number": 60,
       "text": [
        "Index([x, y], dtype=object)"
       ]
      }
     ],
     "prompt_number": 60
    },
    {
     "cell_type": "code",
     "collapsed": false,
     "input": [
      "p.major_axis"
     ],
     "language": "python",
     "metadata": {},
     "outputs": [
      {
       "output_type": "pyout",
       "prompt_number": 61,
       "text": [
        "Index([a, b, c], dtype=object)"
       ]
      }
     ],
     "prompt_number": 61
    },
    {
     "cell_type": "code",
     "collapsed": false,
     "input": [
      "p.minor_axis"
     ],
     "language": "python",
     "metadata": {},
     "outputs": [
      {
       "output_type": "pyout",
       "prompt_number": 62,
       "text": [
        "Index([Cashews, Almonds, Peanuts], dtype=object)"
       ]
      }
     ],
     "prompt_number": 62
    },
    {
     "cell_type": "markdown",
     "metadata": {},
     "source": [
      "Accessing Panel components"
     ]
    },
    {
     "cell_type": "code",
     "collapsed": false,
     "input": [
      "p['x']"
     ],
     "language": "python",
     "metadata": {},
     "outputs": [
      {
       "html": [
        "<div style=\"max-height:1000px;max-width:1500px;overflow:auto;\">\n",
        "<table border=\"1\" class=\"dataframe\">\n",
        "  <thead>\n",
        "    <tr style=\"text-align: right;\">\n",
        "      <th></th>\n",
        "      <th>Cashews</th>\n",
        "      <th>Almonds</th>\n",
        "      <th>Peanuts</th>\n",
        "    </tr>\n",
        "  </thead>\n",
        "  <tbody>\n",
        "    <tr>\n",
        "      <td><strong>a</strong></td>\n",
        "      <td> 1</td>\n",
        "      <td> 2</td>\n",
        "      <td> 3</td>\n",
        "    </tr>\n",
        "    <tr>\n",
        "      <td><strong>b</strong></td>\n",
        "      <td> 4</td>\n",
        "      <td> 5</td>\n",
        "      <td> 6</td>\n",
        "    </tr>\n",
        "    <tr>\n",
        "      <td><strong>c</strong></td>\n",
        "      <td> 7</td>\n",
        "      <td> 8</td>\n",
        "      <td> 9</td>\n",
        "    </tr>\n",
        "  </tbody>\n",
        "</table>\n",
        "</div>"
       ],
       "output_type": "pyout",
       "prompt_number": 63,
       "text": [
        "   Cashews  Almonds  Peanuts\n",
        "a        1        2        3\n",
        "b        4        5        6\n",
        "c        7        8        9"
       ]
      }
     ],
     "prompt_number": 63
    },
    {
     "cell_type": "code",
     "collapsed": false,
     "input": [
      "type(p['x'])"
     ],
     "language": "python",
     "metadata": {},
     "outputs": [
      {
       "output_type": "pyout",
       "prompt_number": 64,
       "text": [
        "pandas.core.frame.DataFrame"
       ]
      }
     ],
     "prompt_number": 64
    },
    {
     "cell_type": "code",
     "collapsed": false,
     "input": [
      "p.ix['x', :, :]"
     ],
     "language": "python",
     "metadata": {},
     "outputs": [
      {
       "html": [
        "<div style=\"max-height:1000px;max-width:1500px;overflow:auto;\">\n",
        "<table border=\"1\" class=\"dataframe\">\n",
        "  <thead>\n",
        "    <tr style=\"text-align: right;\">\n",
        "      <th></th>\n",
        "      <th>Cashews</th>\n",
        "      <th>Almonds</th>\n",
        "      <th>Peanuts</th>\n",
        "    </tr>\n",
        "  </thead>\n",
        "  <tbody>\n",
        "    <tr>\n",
        "      <td><strong>a</strong></td>\n",
        "      <td> 1</td>\n",
        "      <td> 2</td>\n",
        "      <td> 3</td>\n",
        "    </tr>\n",
        "    <tr>\n",
        "      <td><strong>b</strong></td>\n",
        "      <td> 4</td>\n",
        "      <td> 5</td>\n",
        "      <td> 6</td>\n",
        "    </tr>\n",
        "    <tr>\n",
        "      <td><strong>c</strong></td>\n",
        "      <td> 7</td>\n",
        "      <td> 8</td>\n",
        "      <td> 9</td>\n",
        "    </tr>\n",
        "  </tbody>\n",
        "</table>\n",
        "</div>"
       ],
       "output_type": "pyout",
       "prompt_number": 65,
       "text": [
        "   Cashews  Almonds  Peanuts\n",
        "a        1        2        3\n",
        "b        4        5        6\n",
        "c        7        8        9"
       ]
      }
     ],
     "prompt_number": 65
    },
    {
     "cell_type": "code",
     "collapsed": false,
     "input": [
      "p.ix[:, :, 'Cashews'] #items, major, minor"
     ],
     "language": "python",
     "metadata": {},
     "outputs": [
      {
       "html": [
        "<div style=\"max-height:1000px;max-width:1500px;overflow:auto;\">\n",
        "<table border=\"1\" class=\"dataframe\">\n",
        "  <thead>\n",
        "    <tr style=\"text-align: right;\">\n",
        "      <th></th>\n",
        "      <th>x</th>\n",
        "      <th>y</th>\n",
        "    </tr>\n",
        "  </thead>\n",
        "  <tbody>\n",
        "    <tr>\n",
        "      <td><strong>a</strong></td>\n",
        "      <td> 1</td>\n",
        "      <td>  1</td>\n",
        "    </tr>\n",
        "    <tr>\n",
        "      <td><strong>b</strong></td>\n",
        "      <td> 4</td>\n",
        "      <td> 16</td>\n",
        "    </tr>\n",
        "    <tr>\n",
        "      <td><strong>c</strong></td>\n",
        "      <td> 7</td>\n",
        "      <td> 49</td>\n",
        "    </tr>\n",
        "  </tbody>\n",
        "</table>\n",
        "</div>"
       ],
       "output_type": "pyout",
       "prompt_number": 66,
       "text": [
        "   x   y\n",
        "a  1   1\n",
        "b  4  16\n",
        "c  7  49"
       ]
      }
     ],
     "prompt_number": 66
    },
    {
     "cell_type": "markdown",
     "metadata": {},
     "source": [
      "##There are many ways to access the data in pandas objects"
     ]
    },
    {
     "cell_type": "code",
     "collapsed": false,
     "input": [
      "s"
     ],
     "language": "python",
     "metadata": {},
     "outputs": [
      {
       "output_type": "pyout",
       "prompt_number": 67,
       "text": [
        "Cashews    1\n",
        "Almonds    2\n",
        "Peanuts    3"
       ]
      }
     ],
     "prompt_number": 67
    },
    {
     "cell_type": "markdown",
     "metadata": {},
     "source": [
      "positional"
     ]
    },
    {
     "cell_type": "code",
     "collapsed": false,
     "input": [
      "s[0]"
     ],
     "language": "python",
     "metadata": {},
     "outputs": [
      {
       "output_type": "pyout",
       "prompt_number": 68,
       "text": [
        "1"
       ]
      }
     ],
     "prompt_number": 68
    },
    {
     "cell_type": "code",
     "collapsed": false,
     "input": [
      "s[-1]"
     ],
     "language": "python",
     "metadata": {},
     "outputs": [
      {
       "output_type": "pyout",
       "prompt_number": 69,
       "text": [
        "3"
       ]
      }
     ],
     "prompt_number": 69
    },
    {
     "cell_type": "code",
     "collapsed": false,
     "input": [
      "s[:2]"
     ],
     "language": "python",
     "metadata": {},
     "outputs": [
      {
       "output_type": "pyout",
       "prompt_number": 70,
       "text": [
        "Cashews    1\n",
        "Almonds    2"
       ]
      }
     ],
     "prompt_number": 70
    },
    {
     "cell_type": "code",
     "collapsed": false,
     "input": [
      "s[:-1]"
     ],
     "language": "python",
     "metadata": {},
     "outputs": [
      {
       "output_type": "pyout",
       "prompt_number": 71,
       "text": [
        "Cashews    1\n",
        "Almonds    2"
       ]
      }
     ],
     "prompt_number": 71
    },
    {
     "cell_type": "markdown",
     "metadata": {},
     "source": [
      "list of labels"
     ]
    },
    {
     "cell_type": "code",
     "collapsed": false,
     "input": [
      "s[['Cashews', 'Peanuts', 'Almonds']]"
     ],
     "language": "python",
     "metadata": {},
     "outputs": [
      {
       "output_type": "pyout",
       "prompt_number": 72,
       "text": [
        "Cashews    1\n",
        "Peanuts    3\n",
        "Almonds    2"
       ]
      }
     ],
     "prompt_number": 72
    },
    {
     "cell_type": "code",
     "collapsed": false,
     "input": [
      "s[['Almonds','Cashews']]  # Hey, I can change the order"
     ],
     "language": "python",
     "metadata": {},
     "outputs": [
      {
       "output_type": "pyout",
       "prompt_number": 74,
       "text": [
        "Almonds    2\n",
        "Cashews    1"
       ]
      }
     ],
     "prompt_number": 74
    },
    {
     "cell_type": "code",
     "collapsed": false,
     "input": [
      "s[0] = 5"
     ],
     "language": "python",
     "metadata": {},
     "outputs": [],
     "prompt_number": 75
    },
    {
     "cell_type": "markdown",
     "metadata": {},
     "source": [
      "#### Accessing DataFrame via the indexer (.ix)"
     ]
    },
    {
     "cell_type": "code",
     "collapsed": false,
     "input": [
      "df"
     ],
     "language": "python",
     "metadata": {},
     "outputs": [
      {
       "html": [
        "<div style=\"max-height:1000px;max-width:1500px;overflow:auto;\">\n",
        "<table border=\"1\" class=\"dataframe\">\n",
        "  <thead>\n",
        "    <tr style=\"text-align: right;\">\n",
        "      <th></th>\n",
        "      <th>Cashews</th>\n",
        "      <th>Almonds</th>\n",
        "      <th>Peanuts</th>\n",
        "    </tr>\n",
        "  </thead>\n",
        "  <tbody>\n",
        "    <tr>\n",
        "      <td><strong>a</strong></td>\n",
        "      <td> 1</td>\n",
        "      <td> 2</td>\n",
        "      <td> 3</td>\n",
        "    </tr>\n",
        "    <tr>\n",
        "      <td><strong>b</strong></td>\n",
        "      <td> 4</td>\n",
        "      <td> 5</td>\n",
        "      <td> 6</td>\n",
        "    </tr>\n",
        "    <tr>\n",
        "      <td><strong>c</strong></td>\n",
        "      <td> 7</td>\n",
        "      <td> 8</td>\n",
        "      <td> 9</td>\n",
        "    </tr>\n",
        "  </tbody>\n",
        "</table>\n",
        "</div>"
       ],
       "output_type": "pyout",
       "prompt_number": 76,
       "text": [
        "   Cashews  Almonds  Peanuts\n",
        "a        1        2        3\n",
        "b        4        5        6\n",
        "c        7        8        9"
       ]
      }
     ],
     "prompt_number": 76
    },
    {
     "cell_type": "markdown",
     "metadata": {},
     "source": [
      "Single row using position"
     ]
    },
    {
     "cell_type": "code",
     "collapsed": false,
     "input": [
      "df.ix[0]"
     ],
     "language": "python",
     "metadata": {},
     "outputs": [
      {
       "output_type": "pyout",
       "prompt_number": 77,
       "text": [
        "Cashews    1\n",
        "Almonds    2\n",
        "Peanuts    3\n",
        "Name: a"
       ]
      }
     ],
     "prompt_number": 77
    },
    {
     "cell_type": "markdown",
     "metadata": {},
     "source": [
      "Using label"
     ]
    },
    {
     "cell_type": "code",
     "collapsed": false,
     "input": [
      "df.ix['a', :]"
     ],
     "language": "python",
     "metadata": {},
     "outputs": [
      {
       "output_type": "pyout",
       "prompt_number": 78,
       "text": [
        "Cashews    1\n",
        "Almonds    2\n",
        "Peanuts    3\n",
        "Name: a"
       ]
      }
     ],
     "prompt_number": 78
    },
    {
     "cell_type": "markdown",
     "metadata": {},
     "source": [
      "Single column"
     ]
    },
    {
     "cell_type": "code",
     "collapsed": false,
     "input": [
      "df.ix[:, 'Cashews']"
     ],
     "language": "python",
     "metadata": {},
     "outputs": [
      {
       "output_type": "pyout",
       "prompt_number": 79,
       "text": [
        "a    1\n",
        "b    4\n",
        "c    7\n",
        "Name: Cashews"
       ]
      }
     ],
     "prompt_number": 79
    },
    {
     "cell_type": "markdown",
     "metadata": {},
     "source": [
      "Single element access"
     ]
    },
    {
     "cell_type": "code",
     "collapsed": false,
     "input": [
      "df.ix[0, 1]"
     ],
     "language": "python",
     "metadata": {},
     "outputs": [
      {
       "output_type": "pyout",
       "prompt_number": 137,
       "text": [
        "2"
       ]
      }
     ],
     "prompt_number": 137
    },
    {
     "cell_type": "code",
     "collapsed": false,
     "input": [
      "df.ix['b', 'Peanuts']    # Similar but using labels"
     ],
     "language": "python",
     "metadata": {},
     "outputs": [
      {
       "output_type": "pyout",
       "prompt_number": 83,
       "text": [
        "6"
       ]
      }
     ],
     "prompt_number": 83
    },
    {
     "cell_type": "markdown",
     "metadata": {},
     "source": [
      "lists, tuples, slices, arrays, oh my!"
     ]
    },
    {
     "cell_type": "code",
     "collapsed": false,
     "input": [
      "df.ix[[0, 1], :-1]"
     ],
     "language": "python",
     "metadata": {},
     "outputs": [
      {
       "html": [
        "<div style=\"max-height:1000px;max-width:1500px;overflow:auto;\">\n",
        "<table border=\"1\" class=\"dataframe\">\n",
        "  <thead>\n",
        "    <tr style=\"text-align: right;\">\n",
        "      <th></th>\n",
        "      <th>Cashews</th>\n",
        "      <th>Almonds</th>\n",
        "    </tr>\n",
        "  </thead>\n",
        "  <tbody>\n",
        "    <tr>\n",
        "      <td><strong>a</strong></td>\n",
        "      <td> 1</td>\n",
        "      <td> 2</td>\n",
        "    </tr>\n",
        "    <tr>\n",
        "      <td><strong>b</strong></td>\n",
        "      <td> 4</td>\n",
        "      <td> 5</td>\n",
        "    </tr>\n",
        "  </tbody>\n",
        "</table>\n",
        "</div>"
       ],
       "output_type": "pyout",
       "prompt_number": 84,
       "text": [
        "   Cashews  Almonds\n",
        "a        1        2\n",
        "b        4        5"
       ]
      }
     ],
     "prompt_number": 84
    },
    {
     "cell_type": "markdown",
     "metadata": {},
     "source": [
      "boolean indexing"
     ]
    },
    {
     "cell_type": "code",
     "collapsed": false,
     "input": [
      "df.ix[df.Almonds > 4]"
     ],
     "language": "python",
     "metadata": {},
     "outputs": [
      {
       "html": [
        "<div style=\"max-height:1000px;max-width:1500px;overflow:auto;\">\n",
        "<table border=\"1\" class=\"dataframe\">\n",
        "  <thead>\n",
        "    <tr style=\"text-align: right;\">\n",
        "      <th></th>\n",
        "      <th>Cashews</th>\n",
        "      <th>Almonds</th>\n",
        "      <th>Peanuts</th>\n",
        "    </tr>\n",
        "  </thead>\n",
        "  <tbody>\n",
        "    <tr>\n",
        "      <td><strong>b</strong></td>\n",
        "      <td> 4</td>\n",
        "      <td> 5</td>\n",
        "      <td> 6</td>\n",
        "    </tr>\n",
        "    <tr>\n",
        "      <td><strong>c</strong></td>\n",
        "      <td> 7</td>\n",
        "      <td> 8</td>\n",
        "      <td> 9</td>\n",
        "    </tr>\n",
        "  </tbody>\n",
        "</table>\n",
        "</div>"
       ],
       "output_type": "pyout",
       "prompt_number": 85,
       "text": [
        "   Cashews  Almonds  Peanuts\n",
        "b        4        5        6\n",
        "c        7        8        9"
       ]
      }
     ],
     "prompt_number": 85
    },
    {
     "cell_type": "markdown",
     "metadata": {},
     "source": [
      "boolean indexing with a DataFrame"
     ]
    },
    {
     "cell_type": "code",
     "collapsed": false,
     "input": [
      "df[df > 3] # new in 0.9.1"
     ],
     "language": "python",
     "metadata": {},
     "outputs": [
      {
       "output_type": "pyout",
       "prompt_number": 86,
       "text": [
        "array([4, 5, 6, 7, 8, 9])"
       ]
      }
     ],
     "prompt_number": 86
    },
    {
     "cell_type": "markdown",
     "metadata": {},
     "source": [
      "Mutation can also happen via the indexer as well"
     ]
    },
    {
     "cell_type": "code",
     "collapsed": false,
     "input": [
      "df.ix[:, 0] = 1"
     ],
     "language": "python",
     "metadata": {},
     "outputs": [],
     "prompt_number": 87
    },
    {
     "cell_type": "code",
     "collapsed": false,
     "input": [
      "df.ix['b', :] = Series([6, 1, 5], df.columns)\n",
      "df"
     ],
     "language": "python",
     "metadata": {},
     "outputs": [
      {
       "html": [
        "<div style=\"max-height:1000px;max-width:1500px;overflow:auto;\">\n",
        "<table border=\"1\" class=\"dataframe\">\n",
        "  <thead>\n",
        "    <tr style=\"text-align: right;\">\n",
        "      <th></th>\n",
        "      <th>Cashews</th>\n",
        "      <th>Almonds</th>\n",
        "      <th>Peanuts</th>\n",
        "    </tr>\n",
        "  </thead>\n",
        "  <tbody>\n",
        "    <tr>\n",
        "      <td><strong>a</strong></td>\n",
        "      <td> 1</td>\n",
        "      <td> 2</td>\n",
        "      <td> 3</td>\n",
        "    </tr>\n",
        "    <tr>\n",
        "      <td><strong>b</strong></td>\n",
        "      <td> 6</td>\n",
        "      <td> 1</td>\n",
        "      <td> 5</td>\n",
        "    </tr>\n",
        "    <tr>\n",
        "      <td><strong>c</strong></td>\n",
        "      <td> 1</td>\n",
        "      <td> 8</td>\n",
        "      <td> 9</td>\n",
        "    </tr>\n",
        "  </tbody>\n",
        "</table>\n",
        "</div>"
       ],
       "output_type": "pyout",
       "prompt_number": 88,
       "text": [
        "   Cashews  Almonds  Peanuts\n",
        "a        1        2        3\n",
        "b        6        1        5\n",
        "c        1        8        9"
       ]
      }
     ],
     "prompt_number": 88
    },
    {
     "cell_type": "markdown",
     "metadata": {},
     "source": [
      "### Practical 1:\n",
      "\n",
      "Create a 4-by-2 DataFrame where\n",
      "- one column is ['A', 'B', 'A', 'B'] \n",
      "- the other is 4 random numbers\n",
      "\n",
      "Get all entries where the string column is 'A'\n",
      "\n",
      "Get the entry at position (2, 1)\n",
      "\n",
      "Get all entries from the numerical column where the string column is not 'A'"
     ]
    },
    {
     "cell_type": "code",
     "collapsed": false,
     "input": [
      "labels = ['A','B','A','B']\n",
      "import numpy as np\n",
      "valz = np.array(np.random.randn(4))\n",
      "print labels\n",
      "print valz\n",
      "dfr = DataFrame(data=valz,index=labels)\n",
      "dfr"
     ],
     "language": "python",
     "metadata": {},
     "outputs": [
      {
       "output_type": "stream",
       "stream": "stdout",
       "text": [
        "['A', 'B', 'A', 'B']\n",
        "[ 1.30911988 -0.03124061 -0.41260396  0.43902003]\n"
       ]
      },
      {
       "html": [
        "<div style=\"max-height:1000px;max-width:1500px;overflow:auto;\">\n",
        "<table border=\"1\" class=\"dataframe\">\n",
        "  <thead>\n",
        "    <tr style=\"text-align: right;\">\n",
        "      <th></th>\n",
        "      <th>0</th>\n",
        "    </tr>\n",
        "  </thead>\n",
        "  <tbody>\n",
        "    <tr>\n",
        "      <td><strong>A</strong></td>\n",
        "      <td> 1.309120</td>\n",
        "    </tr>\n",
        "    <tr>\n",
        "      <td><strong>B</strong></td>\n",
        "      <td>-0.031241</td>\n",
        "    </tr>\n",
        "    <tr>\n",
        "      <td><strong>A</strong></td>\n",
        "      <td>-0.412604</td>\n",
        "    </tr>\n",
        "    <tr>\n",
        "      <td><strong>B</strong></td>\n",
        "      <td> 0.439020</td>\n",
        "    </tr>\n",
        "  </tbody>\n",
        "</table>\n",
        "</div>"
       ],
       "output_type": "pyout",
       "prompt_number": 132,
       "text": [
        "          0\n",
        "A  1.309120\n",
        "B -0.031241\n",
        "A -0.412604\n",
        "B  0.439020"
       ]
      }
     ],
     "prompt_number": 132
    },
    {
     "cell_type": "code",
     "collapsed": false,
     "input": [
      "dfr.ix['A']"
     ],
     "language": "python",
     "metadata": {},
     "outputs": [
      {
       "html": [
        "<div style=\"max-height:1000px;max-width:1500px;overflow:auto;\">\n",
        "<table border=\"1\" class=\"dataframe\">\n",
        "  <thead>\n",
        "    <tr style=\"text-align: right;\">\n",
        "      <th></th>\n",
        "      <th>0</th>\n",
        "    </tr>\n",
        "  </thead>\n",
        "  <tbody>\n",
        "    <tr>\n",
        "      <td><strong>A</strong></td>\n",
        "      <td> 0.736124</td>\n",
        "    </tr>\n",
        "    <tr>\n",
        "      <td><strong>A</strong></td>\n",
        "      <td>-0.014440</td>\n",
        "    </tr>\n",
        "  </tbody>\n",
        "</table>\n",
        "</div>"
       ],
       "output_type": "pyout",
       "prompt_number": 130,
       "text": [
        "          0\n",
        "A  0.736124\n",
        "A -0.014440"
       ]
      }
     ],
     "prompt_number": 130
    },
    {
     "cell_type": "code",
     "collapsed": false,
     "input": [
      "dfr.ix[1][0]"
     ],
     "language": "python",
     "metadata": {},
     "outputs": [
      {
       "output_type": "pyout",
       "prompt_number": 144,
       "text": [
        "-0.031240613768229127"
       ]
      }
     ],
     "prompt_number": 144
    },
    {
     "cell_type": "code",
     "collapsed": false,
     "input": [
      "dfr.ix[dfr.index !='A']"
     ],
     "language": "python",
     "metadata": {},
     "outputs": [
      {
       "html": [
        "<div style=\"max-height:1000px;max-width:1500px;overflow:auto;\">\n",
        "<table border=\"1\" class=\"dataframe\">\n",
        "  <thead>\n",
        "    <tr style=\"text-align: right;\">\n",
        "      <th></th>\n",
        "      <th>0</th>\n",
        "    </tr>\n",
        "  </thead>\n",
        "  <tbody>\n",
        "    <tr>\n",
        "      <td><strong>B</strong></td>\n",
        "      <td>-0.031241</td>\n",
        "    </tr>\n",
        "    <tr>\n",
        "      <td><strong>B</strong></td>\n",
        "      <td> 0.439020</td>\n",
        "    </tr>\n",
        "  </tbody>\n",
        "</table>\n",
        "</div>"
       ],
       "output_type": "pyout",
       "prompt_number": 136,
       "text": [
        "          0\n",
        "B -0.031241\n",
        "B  0.439020"
       ]
      }
     ],
     "prompt_number": 136
    },
    {
     "cell_type": "markdown",
     "metadata": {},
     "source": [
      "##Real data comes from files and databases"
     ]
    },
    {
     "cell_type": "code",
     "collapsed": false,
     "input": [
      "path = 'https://dl.dropbox.com/u/22164876/data.csv'\n",
      "df = pd.read_csv(path)\n",
      "\n",
      "df"
     ],
     "language": "python",
     "metadata": {},
     "outputs": [
      {
       "output_type": "pyout",
       "prompt_number": 145,
       "text": [
        "<class 'pandas.core.frame.DataFrame'>\n",
        "Int64Index: 14632 entries, 0 to 14631\n",
        "Data columns:\n",
        "Date                                            14632  non-null values\n",
        "Time                                            14632  non-null values\n",
        "Price                                           14632  non-null values\n",
        "Volume                                          14632  non-null values\n",
        "Exchange Code                                   14632  non-null values\n",
        "Sales Condition                                 14632  non-null values\n",
        "Correction Indicator                            14632  non-null values\n",
        "Sequence Number                                 14632  non-null values\n",
        "Trade Stop Indicator                            14632  non-null values\n",
        "Source of Trade                                 14632  non-null values\n",
        "MDS 127 / TRF (Trade Reporting Facility) (*)    2421  non-null values\n",
        "Exclude Record Flag                             28  non-null values\n",
        "Filtered Price                                  0  non-null values\n",
        "dtypes: float64(2), int64(3), object(8)"
       ]
      }
     ],
     "prompt_number": 145
    },
    {
     "cell_type": "code",
     "collapsed": false,
     "input": [
      "df.shape"
     ],
     "language": "python",
     "metadata": {},
     "outputs": [
      {
       "output_type": "pyout",
       "prompt_number": 146,
       "text": [
        "(14632, 13)"
       ]
      }
     ],
     "prompt_number": 146
    },
    {
     "cell_type": "code",
     "collapsed": false,
     "input": [
      "df.index"
     ],
     "language": "python",
     "metadata": {},
     "outputs": [
      {
       "output_type": "pyout",
       "prompt_number": 147,
       "text": [
        "Int64Index([    0,     1,     2, ..., 14629, 14630, 14631])"
       ]
      }
     ],
     "prompt_number": 147
    },
    {
     "cell_type": "code",
     "collapsed": false,
     "input": [
      "df.head()"
     ],
     "language": "python",
     "metadata": {},
     "outputs": [
      {
       "output_type": "pyout",
       "prompt_number": 148,
       "text": [
        "<class 'pandas.core.frame.DataFrame'>\n",
        "Int64Index: 5 entries, 0 to 4\n",
        "Data columns:\n",
        "Date                                            5  non-null values\n",
        "Time                                            5  non-null values\n",
        "Price                                           5  non-null values\n",
        "Volume                                          5  non-null values\n",
        "Exchange Code                                   5  non-null values\n",
        "Sales Condition                                 5  non-null values\n",
        "Correction Indicator                            5  non-null values\n",
        "Sequence Number                                 5  non-null values\n",
        "Trade Stop Indicator                            5  non-null values\n",
        "Source of Trade                                 5  non-null values\n",
        "MDS 127 / TRF (Trade Reporting Facility) (*)    0  non-null values\n",
        "Exclude Record Flag                             0  non-null values\n",
        "Filtered Price                                  0  non-null values\n",
        "dtypes: float64(2), int64(3), object(8)"
       ]
      }
     ],
     "prompt_number": 148
    },
    {
     "cell_type": "markdown",
     "metadata": {},
     "source": [
      "The default index isn't very useful"
     ]
    },
    {
     "cell_type": "code",
     "collapsed": false,
     "input": [
      "df = pd.read_csv(path, index_col=['Date', 'Time'])\n",
      "df"
     ],
     "language": "python",
     "metadata": {},
     "outputs": [
      {
       "output_type": "pyout",
       "prompt_number": 149,
       "text": [
        "<class 'pandas.core.frame.DataFrame'>\n",
        "MultiIndex: 14632 entries, ('11/01/2011', '08:04:56.364') to ('11/03/2011', '16:09:47.834')\n",
        "Data columns:\n",
        "Price                                           14632  non-null values\n",
        "Volume                                          14632  non-null values\n",
        "Exchange Code                                   14632  non-null values\n",
        "Sales Condition                                 14632  non-null values\n",
        "Correction Indicator                            14632  non-null values\n",
        "Sequence Number                                 14632  non-null values\n",
        "Trade Stop Indicator                            14632  non-null values\n",
        "Source of Trade                                 14632  non-null values\n",
        "MDS 127 / TRF (Trade Reporting Facility) (*)    2421  non-null values\n",
        "Exclude Record Flag                             28  non-null values\n",
        "Filtered Price                                  0  non-null values\n",
        "dtypes: float64(2), int64(3), object(6)"
       ]
      }
     ],
     "prompt_number": 149
    },
    {
     "cell_type": "code",
     "collapsed": false,
     "input": [
      "df.index[:5]"
     ],
     "language": "python",
     "metadata": {},
     "outputs": [
      {
       "output_type": "pyout",
       "prompt_number": 150,
       "text": [
        "MultiIndex\n",
        "[('11/01/2011', '08:04:56.364') ('11/01/2011', '08:53:07.459')\n",
        " ('11/01/2011', '08:53:09.284') ('11/01/2011', '08:54:03.921')\n",
        " ('11/01/2011', '08:58:06.162')]"
       ]
      }
     ],
     "prompt_number": 150
    },
    {
     "cell_type": "code",
     "collapsed": false,
     "input": [
      "df.index[0]"
     ],
     "language": "python",
     "metadata": {},
     "outputs": [
      {
       "output_type": "pyout",
       "prompt_number": 151,
       "text": [
        "('11/01/2011', '08:04:56.364')"
       ]
      }
     ],
     "prompt_number": 151
    },
    {
     "cell_type": "markdown",
     "metadata": {},
     "source": [
      "We want pandas to interpret dates and times automatically"
     ]
    },
    {
     "cell_type": "code",
     "collapsed": false,
     "input": [
      "ticks = pd.read_csv(path, parse_dates={'ts': ['Date', 'Time']}, index_col='ts')\n",
      "ticks"
     ],
     "language": "python",
     "metadata": {},
     "outputs": [
      {
       "output_type": "pyout",
       "prompt_number": 161,
       "text": [
        "<class 'pandas.core.frame.DataFrame'>\n",
        "DatetimeIndex: 14632 entries, 2011-11-01 08:04:56.364000 to 2011-11-03 16:09:47.834000\n",
        "Data columns:\n",
        "Price                                           14632  non-null values\n",
        "Volume                                          14632  non-null values\n",
        "Exchange Code                                   14632  non-null values\n",
        "Sales Condition                                 14632  non-null values\n",
        "Correction Indicator                            14632  non-null values\n",
        "Sequence Number                                 14632  non-null values\n",
        "Trade Stop Indicator                            14632  non-null values\n",
        "Source of Trade                                 14632  non-null values\n",
        "MDS 127 / TRF (Trade Reporting Facility) (*)    2421  non-null values\n",
        "Exclude Record Flag                             28  non-null values\n",
        "Filtered Price                                  0  non-null values\n",
        "dtypes: float64(2), int64(3), object(6)"
       ]
      }
     ],
     "prompt_number": 161
    },
    {
     "cell_type": "code",
     "collapsed": false,
     "input": [
      "ticks.index"
     ],
     "language": "python",
     "metadata": {},
     "outputs": [
      {
       "output_type": "pyout",
       "prompt_number": 162,
       "text": [
        "<class 'pandas.tseries.index.DatetimeIndex'>\n",
        "[2011-11-01 08:04:56.364000, ..., 2011-11-03 16:09:47.834000]\n",
        "Length: 14632, Freq: None, Timezone: None"
       ]
      }
     ],
     "prompt_number": 162
    },
    {
     "cell_type": "code",
     "collapsed": false,
     "input": [
      "ticks.index[0]"
     ],
     "language": "python",
     "metadata": {},
     "outputs": [
      {
       "output_type": "pyout",
       "prompt_number": 163,
       "text": [
        "<Timestamp: 2011-11-01 08:04:56.364000>"
       ]
      }
     ],
     "prompt_number": 163
    },
    {
     "cell_type": "code",
     "collapsed": false,
     "input": [
      "isinstance(ticks.index[0], datetime.datetime)"
     ],
     "language": "python",
     "metadata": {},
     "outputs": [
      {
       "ename": "NameError",
       "evalue": "name 'datetime' is not defined",
       "output_type": "pyerr",
       "traceback": [
        "\u001b[0;31m---------------------------------------------------------------------------\u001b[0m\n\u001b[0;31mNameError\u001b[0m                                 Traceback (most recent call last)",
        "\u001b[0;32m<ipython-input-165-769cb2faeaa1>\u001b[0m in \u001b[0;36m<module>\u001b[0;34m()\u001b[0m\n\u001b[0;32m----> 1\u001b[0;31m \u001b[0misinstance\u001b[0m\u001b[0;34m(\u001b[0m\u001b[0mticks\u001b[0m\u001b[0;34m.\u001b[0m\u001b[0mindex\u001b[0m\u001b[0;34m[\u001b[0m\u001b[0;36m0\u001b[0m\u001b[0;34m]\u001b[0m\u001b[0;34m,\u001b[0m \u001b[0mdatetime\u001b[0m\u001b[0;34m.\u001b[0m\u001b[0mdatetime\u001b[0m\u001b[0;34m)\u001b[0m\u001b[0;34m\u001b[0m\u001b[0m\n\u001b[0m",
        "\u001b[0;31mNameError\u001b[0m: name 'datetime' is not defined"
       ]
      }
     ],
     "prompt_number": 165
    },
    {
     "cell_type": "markdown",
     "metadata": {},
     "source": [
      "Why did we make a subclass of datetime?"
     ]
    },
    {
     "cell_type": "code",
     "collapsed": false,
     "input": [
      "ticks.index[0].nanosecond"
     ],
     "language": "python",
     "metadata": {},
     "outputs": [
      {
       "output_type": "pyout",
       "prompt_number": 166,
       "text": [
        "0"
       ]
      }
     ],
     "prompt_number": 166
    },
    {
     "cell_type": "markdown",
     "metadata": {},
     "source": [
      "Let's do some simple operations"
     ]
    },
    {
     "cell_type": "code",
     "collapsed": false,
     "input": [
      "sq_price = ticks.Price**2\n",
      "np.sqrt(sq_price.mean())"
     ],
     "language": "python",
     "metadata": {},
     "outputs": [
      {
       "output_type": "pyout",
       "prompt_number": 167,
       "text": [
        "104.1281956079234"
       ]
      }
     ],
     "prompt_number": 167
    },
    {
     "cell_type": "code",
     "collapsed": false,
     "input": [
      "sq_vol = ticks.Volume**2\n",
      "np.sqrt(sq_vol.mean())"
     ],
     "language": "python",
     "metadata": {},
     "outputs": [
      {
       "output_type": "pyout",
       "prompt_number": 168,
       "text": [
        "2719.5531740799702"
       ]
      }
     ],
     "prompt_number": 168
    },
    {
     "cell_type": "code",
     "collapsed": false,
     "input": [
      "ticks['Price'].std()"
     ],
     "language": "python",
     "metadata": {},
     "outputs": [
      {
       "output_type": "pyout",
       "prompt_number": 169,
       "text": [
        "0.19535719815737804"
       ]
      }
     ],
     "prompt_number": 169
    },
    {
     "cell_type": "code",
     "collapsed": false,
     "input": [
      "mean = ticks.Price.mean()\n",
      "std = ticks.Price.std(ddof=0)\n",
      "uncentered = np.sqrt(mean**2 + std**2)\n",
      "uncentered"
     ],
     "language": "python",
     "metadata": {},
     "outputs": [
      {
       "output_type": "pyout",
       "prompt_number": 170,
       "text": [
        "104.1281956079234"
       ]
      }
     ],
     "prompt_number": 170
    },
    {
     "cell_type": "code",
     "collapsed": false,
     "input": [
      "std = ticks.Price.std()"
     ],
     "language": "python",
     "metadata": {},
     "outputs": [],
     "prompt_number": 171
    },
    {
     "cell_type": "code",
     "collapsed": false,
     "input": [
      "ticks['Price'].std()"
     ],
     "language": "python",
     "metadata": {},
     "outputs": [
      {
       "output_type": "pyout",
       "prompt_number": 172,
       "text": [
        "0.19535719815737804"
       ]
      }
     ],
     "prompt_number": 172
    },
    {
     "cell_type": "code",
     "collapsed": false,
     "input": [
      "ticks['Price'].std()"
     ],
     "language": "python",
     "metadata": {},
     "outputs": [
      {
       "output_type": "pyout",
       "prompt_number": 173,
       "text": [
        "0.19535719815737804"
       ]
      }
     ],
     "prompt_number": 173
    },
    {
     "cell_type": "markdown",
     "metadata": {},
     "source": [
      "read_csv and to_csv are good friends"
     ]
    },
    {
     "cell_type": "code",
     "collapsed": false,
     "input": [
      "ticks.to_csv('tmp.csv')"
     ],
     "language": "python",
     "metadata": {},
     "outputs": [],
     "prompt_number": 174
    },
    {
     "cell_type": "code",
     "collapsed": false,
     "input": [
      "pd.read_csv('tmp.csv', index_col='ts')"
     ],
     "language": "python",
     "metadata": {},
     "outputs": [
      {
       "output_type": "pyout",
       "prompt_number": 175,
       "text": [
        "<class 'pandas.core.frame.DataFrame'>\n",
        "Index: 14632 entries, 2011-11-01 08:04:56.364000 to 2011-11-03 16:09:47.834000\n",
        "Data columns:\n",
        "Price                                           14632  non-null values\n",
        "Volume                                          14632  non-null values\n",
        "Exchange Code                                   14632  non-null values\n",
        "Sales Condition                                 14632  non-null values\n",
        "Correction Indicator                            14632  non-null values\n",
        "Sequence Number                                 14632  non-null values\n",
        "Trade Stop Indicator                            14632  non-null values\n",
        "Source of Trade                                 14632  non-null values\n",
        "MDS 127 / TRF (Trade Reporting Facility) (*)    2421  non-null values\n",
        "Exclude Record Flag                             28  non-null values\n",
        "Filtered Price                                  0  non-null values\n",
        "dtypes: float64(2), int64(3), object(6)"
       ]
      }
     ],
     "prompt_number": 175
    },
    {
     "cell_type": "markdown",
     "metadata": {},
     "source": [
      "####Databases"
     ]
    },
    {
     "cell_type": "code",
     "collapsed": false,
     "input": [
      "import pandas.io.sql as sql\n",
      "import sqlite3"
     ],
     "language": "python",
     "metadata": {},
     "outputs": [],
     "prompt_number": 176
    },
    {
     "cell_type": "code",
     "collapsed": false,
     "input": [
      "con = sqlite3.connect(':memory:')"
     ],
     "language": "python",
     "metadata": {},
     "outputs": [],
     "prompt_number": 177
    },
    {
     "cell_type": "code",
     "collapsed": false,
     "input": [
      "sql.write_frame(ticks, 'ticks', con)"
     ],
     "language": "python",
     "metadata": {},
     "outputs": [
      {
       "ename": "OperationalError",
       "evalue": "near \"127\": syntax error",
       "output_type": "pyerr",
       "traceback": [
        "\u001b[0;31m---------------------------------------------------------------------------\u001b[0m\n\u001b[0;31mOperationalError\u001b[0m                          Traceback (most recent call last)",
        "\u001b[0;32m<ipython-input-178-1ca5f2a7d089>\u001b[0m in \u001b[0;36m<module>\u001b[0;34m()\u001b[0m\n\u001b[0;32m----> 1\u001b[0;31m \u001b[0msql\u001b[0m\u001b[0;34m.\u001b[0m\u001b[0mwrite_frame\u001b[0m\u001b[0;34m(\u001b[0m\u001b[0mticks\u001b[0m\u001b[0;34m,\u001b[0m \u001b[0;34m'ticks'\u001b[0m\u001b[0;34m,\u001b[0m \u001b[0mcon\u001b[0m\u001b[0;34m)\u001b[0m\u001b[0;34m\u001b[0m\u001b[0m\n\u001b[0m",
        "\u001b[0;32m/Users/snorlax13mba/anaconda/lib/python2.7/site-packages/pandas/io/sql.pyc\u001b[0m in \u001b[0;36mwrite_frame\u001b[0;34m(frame, name, con, flavor, append)\u001b[0m\n\u001b[1;32m    164\u001b[0m \u001b[0;34m\u001b[0m\u001b[0m\n\u001b[1;32m    165\u001b[0m     \u001b[0;32mif\u001b[0m \u001b[0;32mnot\u001b[0m \u001b[0mappend\u001b[0m \u001b[0;32mand\u001b[0m \u001b[0;32mnot\u001b[0m \u001b[0mhas_table\u001b[0m\u001b[0;34m(\u001b[0m\u001b[0mname\u001b[0m\u001b[0;34m,\u001b[0m \u001b[0mcon\u001b[0m\u001b[0;34m)\u001b[0m\u001b[0;34m:\u001b[0m\u001b[0;34m\u001b[0m\u001b[0m\n\u001b[0;32m--> 166\u001b[0;31m         \u001b[0mcon\u001b[0m\u001b[0;34m.\u001b[0m\u001b[0mexecute\u001b[0m\u001b[0;34m(\u001b[0m\u001b[0mschema\u001b[0m\u001b[0;34m)\u001b[0m\u001b[0;34m\u001b[0m\u001b[0m\n\u001b[0m\u001b[1;32m    167\u001b[0m \u001b[0;34m\u001b[0m\u001b[0m\n\u001b[1;32m    168\u001b[0m     \u001b[0mwildcards\u001b[0m \u001b[0;34m=\u001b[0m \u001b[0;34m','\u001b[0m\u001b[0;34m.\u001b[0m\u001b[0mjoin\u001b[0m\u001b[0;34m(\u001b[0m\u001b[0;34m[\u001b[0m\u001b[0;34m'?'\u001b[0m\u001b[0;34m]\u001b[0m \u001b[0;34m*\u001b[0m \u001b[0mlen\u001b[0m\u001b[0;34m(\u001b[0m\u001b[0mframe\u001b[0m\u001b[0;34m.\u001b[0m\u001b[0mcolumns\u001b[0m\u001b[0;34m)\u001b[0m\u001b[0;34m)\u001b[0m\u001b[0;34m\u001b[0m\u001b[0m\n",
        "\u001b[0;31mOperationalError\u001b[0m: near \"127\": syntax error"
       ]
      }
     ],
     "prompt_number": 178
    },
    {
     "cell_type": "code",
     "collapsed": false,
     "input": [
      "sql.read_frame('select * from ticks', con)"
     ],
     "language": "python",
     "metadata": {},
     "outputs": [
      {
       "ename": "OperationalError",
       "evalue": "no such table: ticks",
       "output_type": "pyerr",
       "traceback": [
        "\u001b[0;31m---------------------------------------------------------------------------\u001b[0m\n\u001b[0;31mOperationalError\u001b[0m                          Traceback (most recent call last)",
        "\u001b[0;32m<ipython-input-179-ae4d1b08ddaf>\u001b[0m in \u001b[0;36m<module>\u001b[0;34m()\u001b[0m\n\u001b[0;32m----> 1\u001b[0;31m \u001b[0msql\u001b[0m\u001b[0;34m.\u001b[0m\u001b[0mread_frame\u001b[0m\u001b[0;34m(\u001b[0m\u001b[0;34m'select * from ticks'\u001b[0m\u001b[0;34m,\u001b[0m \u001b[0mcon\u001b[0m\u001b[0;34m)\u001b[0m\u001b[0;34m\u001b[0m\u001b[0m\n\u001b[0m",
        "\u001b[0;32m/Users/snorlax13mba/anaconda/lib/python2.7/site-packages/pandas/io/sql.pyc\u001b[0m in \u001b[0;36mread_frame\u001b[0;34m(sql, con, index_col, coerce_float)\u001b[0m\n\u001b[1;32m    136\u001b[0m         \u001b[0mcolumn\u001b[0m \u001b[0mname\u001b[0m \u001b[0mto\u001b[0m \u001b[0muse\u001b[0m \u001b[0;32mfor\u001b[0m \u001b[0mthe\u001b[0m \u001b[0mreturned\u001b[0m \u001b[0mDataFrame\u001b[0m \u001b[0mobject\u001b[0m\u001b[0;34m.\u001b[0m\u001b[0;34m\u001b[0m\u001b[0m\n\u001b[1;32m    137\u001b[0m     \"\"\"\n\u001b[0;32m--> 138\u001b[0;31m     \u001b[0mcur\u001b[0m \u001b[0;34m=\u001b[0m \u001b[0mexecute\u001b[0m\u001b[0;34m(\u001b[0m\u001b[0msql\u001b[0m\u001b[0;34m,\u001b[0m \u001b[0mcon\u001b[0m\u001b[0;34m)\u001b[0m\u001b[0;34m\u001b[0m\u001b[0m\n\u001b[0m\u001b[1;32m    139\u001b[0m     \u001b[0mrows\u001b[0m \u001b[0;34m=\u001b[0m \u001b[0m_safe_fetch\u001b[0m\u001b[0;34m(\u001b[0m\u001b[0mcur\u001b[0m\u001b[0;34m)\u001b[0m\u001b[0;34m\u001b[0m\u001b[0m\n\u001b[1;32m    140\u001b[0m     \u001b[0mcolumns\u001b[0m \u001b[0;34m=\u001b[0m \u001b[0;34m[\u001b[0m\u001b[0mcol_desc\u001b[0m\u001b[0;34m[\u001b[0m\u001b[0;36m0\u001b[0m\u001b[0;34m]\u001b[0m \u001b[0;32mfor\u001b[0m \u001b[0mcol_desc\u001b[0m \u001b[0;32min\u001b[0m \u001b[0mcur\u001b[0m\u001b[0;34m.\u001b[0m\u001b[0mdescription\u001b[0m\u001b[0;34m]\u001b[0m\u001b[0;34m\u001b[0m\u001b[0m\n",
        "\u001b[0;32m/Users/snorlax13mba/anaconda/lib/python2.7/site-packages/pandas/io/sql.pyc\u001b[0m in \u001b[0;36mexecute\u001b[0;34m(sql, con, retry, cur, params)\u001b[0m\n\u001b[1;32m     32\u001b[0m \u001b[0;34m\u001b[0m\u001b[0m\n\u001b[1;32m     33\u001b[0m         \u001b[0;32mif\u001b[0m \u001b[0mparams\u001b[0m \u001b[0;32mis\u001b[0m \u001b[0mNone\u001b[0m\u001b[0;34m:\u001b[0m\u001b[0;34m\u001b[0m\u001b[0m\n\u001b[0;32m---> 34\u001b[0;31m             \u001b[0mcur\u001b[0m\u001b[0;34m.\u001b[0m\u001b[0mexecute\u001b[0m\u001b[0;34m(\u001b[0m\u001b[0msql\u001b[0m\u001b[0;34m)\u001b[0m\u001b[0;34m\u001b[0m\u001b[0m\n\u001b[0m\u001b[1;32m     35\u001b[0m         \u001b[0;32melse\u001b[0m\u001b[0;34m:\u001b[0m\u001b[0;34m\u001b[0m\u001b[0m\n\u001b[1;32m     36\u001b[0m             \u001b[0mcur\u001b[0m\u001b[0;34m.\u001b[0m\u001b[0mexecute\u001b[0m\u001b[0;34m(\u001b[0m\u001b[0msql\u001b[0m\u001b[0;34m,\u001b[0m \u001b[0mparams\u001b[0m\u001b[0;34m)\u001b[0m\u001b[0;34m\u001b[0m\u001b[0m\n",
        "\u001b[0;31mOperationalError\u001b[0m: no such table: ticks"
       ]
      },
      {
       "output_type": "stream",
       "stream": "stdout",
       "text": [
        "Error on sql select * from ticks\n"
       ]
      }
     ],
     "prompt_number": 179
    },
    {
     "cell_type": "markdown",
     "metadata": {},
     "source": [
      "####HDF"
     ]
    },
    {
     "cell_type": "code",
     "collapsed": false,
     "input": [
      "store = pd.HDFStore('ticks.h5')\n",
      "store['ticks'] = ticks"
     ],
     "language": "python",
     "metadata": {},
     "outputs": [],
     "prompt_number": 180
    },
    {
     "cell_type": "code",
     "collapsed": false,
     "input": [
      "store['ticks']"
     ],
     "language": "python",
     "metadata": {},
     "outputs": [
      {
       "output_type": "pyout",
       "prompt_number": 181,
       "text": [
        "<class 'pandas.core.frame.DataFrame'>\n",
        "DatetimeIndex: 14632 entries, 2011-11-01 08:04:56.364000 to 2011-11-03 16:09:47.834000\n",
        "Data columns:\n",
        "Price                                           14632  non-null values\n",
        "Volume                                          14632  non-null values\n",
        "Exchange Code                                   14632  non-null values\n",
        "Sales Condition                                 14632  non-null values\n",
        "Correction Indicator                            14632  non-null values\n",
        "Sequence Number                                 14632  non-null values\n",
        "Trade Stop Indicator                            14632  non-null values\n",
        "Source of Trade                                 14632  non-null values\n",
        "MDS 127 / TRF (Trade Reporting Facility) (*)    2421  non-null values\n",
        "Exclude Record Flag                             28  non-null values\n",
        "Filtered Price                                  0  non-null values\n",
        "dtypes: float64(2), int64(3), object(6)"
       ]
      }
     ],
     "prompt_number": 181
    },
    {
     "cell_type": "code",
     "collapsed": false,
     "input": [
      "store.close()"
     ],
     "language": "python",
     "metadata": {},
     "outputs": [],
     "prompt_number": 182
    },
    {
     "cell_type": "markdown",
     "metadata": {},
     "source": [
      "### Basic Computations"
     ]
    },
    {
     "cell_type": "code",
     "collapsed": false,
     "input": [
      "df = ticks.ix[:1000, ['Price', 'Volume']]\n",
      "df"
     ],
     "language": "python",
     "metadata": {},
     "outputs": [
      {
       "output_type": "pyout",
       "prompt_number": 183,
       "text": [
        "<class 'pandas.core.frame.DataFrame'>\n",
        "DatetimeIndex: 1000 entries, 2011-11-01 08:04:56.364000 to 2011-11-01 10:02:46.482000\n",
        "Data columns:\n",
        "Price     1000  non-null values\n",
        "Volume    1000  non-null values\n",
        "dtypes: float64(1), int64(1)"
       ]
      }
     ],
     "prompt_number": 183
    },
    {
     "cell_type": "code",
     "collapsed": false,
     "input": [
      "df.index[0]"
     ],
     "language": "python",
     "metadata": {},
     "outputs": [
      {
       "output_type": "pyout",
       "prompt_number": 184,
       "text": [
        "<Timestamp: 2011-11-01 08:04:56.364000>"
       ]
      }
     ],
     "prompt_number": 184
    },
    {
     "cell_type": "markdown",
     "metadata": {},
     "source": [
      "Summary statistics about this DataFrame"
     ]
    },
    {
     "cell_type": "code",
     "collapsed": false,
     "input": [
      "df.describe()"
     ],
     "language": "python",
     "metadata": {},
     "outputs": [
      {
       "html": [
        "<div style=\"max-height:1000px;max-width:1500px;overflow:auto;\">\n",
        "<table border=\"1\" class=\"dataframe\">\n",
        "  <thead>\n",
        "    <tr style=\"text-align: right;\">\n",
        "      <th></th>\n",
        "      <th>Price</th>\n",
        "      <th>Volume</th>\n",
        "    </tr>\n",
        "  </thead>\n",
        "  <tbody>\n",
        "    <tr>\n",
        "      <td><strong>count</strong></td>\n",
        "      <td> 1000.000000</td>\n",
        "      <td>  1000.000000</td>\n",
        "    </tr>\n",
        "    <tr>\n",
        "      <td><strong>mean</strong></td>\n",
        "      <td>  104.175107</td>\n",
        "      <td>   283.971000</td>\n",
        "    </tr>\n",
        "    <tr>\n",
        "      <td><strong>std</strong></td>\n",
        "      <td>    0.070310</td>\n",
        "      <td>  2178.766554</td>\n",
        "    </tr>\n",
        "    <tr>\n",
        "      <td><strong>min</strong></td>\n",
        "      <td>  103.300800</td>\n",
        "      <td>   100.000000</td>\n",
        "    </tr>\n",
        "    <tr>\n",
        "      <td><strong>25%</strong></td>\n",
        "      <td>  104.120000</td>\n",
        "      <td>   100.000000</td>\n",
        "    </tr>\n",
        "    <tr>\n",
        "      <td><strong>50%</strong></td>\n",
        "      <td>  104.180000</td>\n",
        "      <td>   100.000000</td>\n",
        "    </tr>\n",
        "    <tr>\n",
        "      <td><strong>75%</strong></td>\n",
        "      <td>  104.222025</td>\n",
        "      <td>   155.250000</td>\n",
        "    </tr>\n",
        "    <tr>\n",
        "      <td><strong>max</strong></td>\n",
        "      <td>  104.550000</td>\n",
        "      <td> 65267.000000</td>\n",
        "    </tr>\n",
        "  </tbody>\n",
        "</table>\n",
        "</div>"
       ],
       "output_type": "pyout",
       "prompt_number": 185,
       "text": [
        "             Price        Volume\n",
        "count  1000.000000   1000.000000\n",
        "mean    104.175107    283.971000\n",
        "std       0.070310   2178.766554\n",
        "min     103.300800    100.000000\n",
        "25%     104.120000    100.000000\n",
        "50%     104.180000    100.000000\n",
        "75%     104.222025    155.250000\n",
        "max     104.550000  65267.000000"
       ]
      }
     ],
     "prompt_number": 185
    },
    {
     "cell_type": "markdown",
     "metadata": {},
     "source": [
      "Each of the summary stats can be computed separately"
     ]
    },
    {
     "cell_type": "code",
     "collapsed": false,
     "input": [
      "df.count()"
     ],
     "language": "python",
     "metadata": {},
     "outputs": []
    },
    {
     "cell_type": "code",
     "collapsed": false,
     "input": [
      "df.mean()"
     ],
     "language": "python",
     "metadata": {},
     "outputs": []
    },
    {
     "cell_type": "code",
     "collapsed": false,
     "input": [
      "df.std()"
     ],
     "language": "python",
     "metadata": {},
     "outputs": []
    },
    {
     "cell_type": "code",
     "collapsed": false,
     "input": [
      "df.min()"
     ],
     "language": "python",
     "metadata": {},
     "outputs": []
    },
    {
     "cell_type": "code",
     "collapsed": false,
     "input": [
      "df.max()"
     ],
     "language": "python",
     "metadata": {},
     "outputs": []
    },
    {
     "cell_type": "code",
     "collapsed": false,
     "input": [
      "df.quantile(0.50)"
     ],
     "language": "python",
     "metadata": {},
     "outputs": []
    },
    {
     "cell_type": "code",
     "collapsed": false,
     "input": [
      "df.median()"
     ],
     "language": "python",
     "metadata": {},
     "outputs": []
    },
    {
     "cell_type": "markdown",
     "metadata": {},
     "source": [
      "#### Compute across a different axes"
     ]
    },
    {
     "cell_type": "code",
     "collapsed": true,
     "input": [
      "df.mean(axis=1)"
     ],
     "language": "python",
     "metadata": {},
     "outputs": []
    },
    {
     "cell_type": "code",
     "collapsed": false,
     "input": [
      "df.ix[:10, :].std(axis=1)"
     ],
     "language": "python",
     "metadata": {},
     "outputs": []
    },
    {
     "cell_type": "markdown",
     "metadata": {},
     "source": [
      "### Arbitrary functions\n",
      "\n",
      "- `apply` for columnwise operations\n",
      "- `applymap` for elementwise operations"
     ]
    },
    {
     "cell_type": "code",
     "collapsed": false,
     "input": [
      "df.sum()"
     ],
     "language": "python",
     "metadata": {},
     "outputs": [
      {
       "output_type": "pyout",
       "prompt_number": 186,
       "text": [
        "Price     104175.1071\n",
        "Volume    283971.0000"
       ]
      }
     ],
     "prompt_number": 186
    },
    {
     "cell_type": "code",
     "collapsed": false,
     "input": [
      "df.apply(lambda x: x.sum())"
     ],
     "language": "python",
     "metadata": {},
     "outputs": [
      {
       "output_type": "pyout",
       "prompt_number": 187,
       "text": [
        "Price     104175.1071\n",
        "Volume    283971.0000"
       ]
      }
     ],
     "prompt_number": 187
    },
    {
     "cell_type": "code",
     "collapsed": false,
     "input": [
      "df.applymap(lambda x: x.sum()).head() # no effect"
     ],
     "language": "python",
     "metadata": {},
     "outputs": [
      {
       "html": [
        "<div style=\"max-height:1000px;max-width:1500px;overflow:auto;\">\n",
        "<table border=\"1\" class=\"dataframe\">\n",
        "  <thead>\n",
        "    <tr style=\"text-align: right;\">\n",
        "      <th></th>\n",
        "      <th>Price</th>\n",
        "      <th>Volume</th>\n",
        "    </tr>\n",
        "    <tr>\n",
        "      <th>ts</th>\n",
        "      <th></th>\n",
        "      <th></th>\n",
        "    </tr>\n",
        "  </thead>\n",
        "  <tbody>\n",
        "    <tr>\n",
        "      <td><strong>2011-11-01 08:04:56.364000</strong></td>\n",
        "      <td> 104.55</td>\n",
        "      <td>  100</td>\n",
        "    </tr>\n",
        "    <tr>\n",
        "      <td><strong>2011-11-01 08:53:07.459000</strong></td>\n",
        "      <td> 104.43</td>\n",
        "      <td>  150</td>\n",
        "    </tr>\n",
        "    <tr>\n",
        "      <td><strong>2011-11-01 08:53:09.284000</strong></td>\n",
        "      <td> 104.43</td>\n",
        "      <td>  100</td>\n",
        "    </tr>\n",
        "    <tr>\n",
        "      <td><strong>2011-11-01 08:54:03.921000</strong></td>\n",
        "      <td> 104.50</td>\n",
        "      <td>  100</td>\n",
        "    </tr>\n",
        "    <tr>\n",
        "      <td><strong>2011-11-01 08:58:06.162000</strong></td>\n",
        "      <td> 104.46</td>\n",
        "      <td> 1000</td>\n",
        "    </tr>\n",
        "  </tbody>\n",
        "</table>\n",
        "</div>"
       ],
       "output_type": "pyout",
       "prompt_number": 188,
       "text": [
        "                             Price  Volume\n",
        "ts                                        \n",
        "2011-11-01 08:04:56.364000  104.55     100\n",
        "2011-11-01 08:53:07.459000  104.43     150\n",
        "2011-11-01 08:53:09.284000  104.43     100\n",
        "2011-11-01 08:54:03.921000  104.50     100\n",
        "2011-11-01 08:58:06.162000  104.46    1000"
       ]
      }
     ],
     "prompt_number": 188
    },
    {
     "cell_type": "code",
     "collapsed": false,
     "input": [
      "df.head()"
     ],
     "language": "python",
     "metadata": {},
     "outputs": [
      {
       "html": [
        "<div style=\"max-height:1000px;max-width:1500px;overflow:auto;\">\n",
        "<table border=\"1\" class=\"dataframe\">\n",
        "  <thead>\n",
        "    <tr style=\"text-align: right;\">\n",
        "      <th></th>\n",
        "      <th>Price</th>\n",
        "      <th>Volume</th>\n",
        "    </tr>\n",
        "    <tr>\n",
        "      <th>ts</th>\n",
        "      <th></th>\n",
        "      <th></th>\n",
        "    </tr>\n",
        "  </thead>\n",
        "  <tbody>\n",
        "    <tr>\n",
        "      <td><strong>2011-11-01 08:04:56.364000</strong></td>\n",
        "      <td> 104.55</td>\n",
        "      <td>  100</td>\n",
        "    </tr>\n",
        "    <tr>\n",
        "      <td><strong>2011-11-01 08:53:07.459000</strong></td>\n",
        "      <td> 104.43</td>\n",
        "      <td>  150</td>\n",
        "    </tr>\n",
        "    <tr>\n",
        "      <td><strong>2011-11-01 08:53:09.284000</strong></td>\n",
        "      <td> 104.43</td>\n",
        "      <td>  100</td>\n",
        "    </tr>\n",
        "    <tr>\n",
        "      <td><strong>2011-11-01 08:54:03.921000</strong></td>\n",
        "      <td> 104.50</td>\n",
        "      <td>  100</td>\n",
        "    </tr>\n",
        "    <tr>\n",
        "      <td><strong>2011-11-01 08:58:06.162000</strong></td>\n",
        "      <td> 104.46</td>\n",
        "      <td> 1000</td>\n",
        "    </tr>\n",
        "  </tbody>\n",
        "</table>\n",
        "</div>"
       ],
       "output_type": "pyout",
       "prompt_number": 189,
       "text": [
        "                             Price  Volume\n",
        "ts                                        \n",
        "2011-11-01 08:04:56.364000  104.55     100\n",
        "2011-11-01 08:53:07.459000  104.43     150\n",
        "2011-11-01 08:53:09.284000  104.43     100\n",
        "2011-11-01 08:54:03.921000  104.50     100\n",
        "2011-11-01 08:58:06.162000  104.46    1000"
       ]
      }
     ],
     "prompt_number": 189
    },
    {
     "cell_type": "code",
     "collapsed": false,
     "input": [
      "df.head().applymap(lambda x: x**2)"
     ],
     "language": "python",
     "metadata": {},
     "outputs": [
      {
       "html": [
        "<div style=\"max-height:1000px;max-width:1500px;overflow:auto;\">\n",
        "<table border=\"1\" class=\"dataframe\">\n",
        "  <thead>\n",
        "    <tr style=\"text-align: right;\">\n",
        "      <th></th>\n",
        "      <th>Price</th>\n",
        "      <th>Volume</th>\n",
        "    </tr>\n",
        "    <tr>\n",
        "      <th>ts</th>\n",
        "      <th></th>\n",
        "      <th></th>\n",
        "    </tr>\n",
        "  </thead>\n",
        "  <tbody>\n",
        "    <tr>\n",
        "      <td><strong>2011-11-01 08:04:56.364000</strong></td>\n",
        "      <td> 10930.7025</td>\n",
        "      <td>   10000</td>\n",
        "    </tr>\n",
        "    <tr>\n",
        "      <td><strong>2011-11-01 08:53:07.459000</strong></td>\n",
        "      <td> 10905.6249</td>\n",
        "      <td>   22500</td>\n",
        "    </tr>\n",
        "    <tr>\n",
        "      <td><strong>2011-11-01 08:53:09.284000</strong></td>\n",
        "      <td> 10905.6249</td>\n",
        "      <td>   10000</td>\n",
        "    </tr>\n",
        "    <tr>\n",
        "      <td><strong>2011-11-01 08:54:03.921000</strong></td>\n",
        "      <td> 10920.2500</td>\n",
        "      <td>   10000</td>\n",
        "    </tr>\n",
        "    <tr>\n",
        "      <td><strong>2011-11-01 08:58:06.162000</strong></td>\n",
        "      <td> 10911.8916</td>\n",
        "      <td> 1000000</td>\n",
        "    </tr>\n",
        "  </tbody>\n",
        "</table>\n",
        "</div>"
       ],
       "output_type": "pyout",
       "prompt_number": 192,
       "text": [
        "                                 Price   Volume\n",
        "ts                                             \n",
        "2011-11-01 08:04:56.364000  10930.7025    10000\n",
        "2011-11-01 08:53:07.459000  10905.6249    22500\n",
        "2011-11-01 08:53:09.284000  10905.6249    10000\n",
        "2011-11-01 08:54:03.921000  10920.2500    10000\n",
        "2011-11-01 08:58:06.162000  10911.8916  1000000"
       ]
      }
     ],
     "prompt_number": 192
    },
    {
     "cell_type": "markdown",
     "metadata": {},
     "source": [
      "#### One of the three R's of education"
     ]
    },
    {
     "cell_type": "code",
     "collapsed": false,
     "input": [
      "df.ix[:5]"
     ],
     "language": "python",
     "metadata": {},
     "outputs": [
      {
       "html": [
        "<div style=\"max-height:1000px;max-width:1500px;overflow:auto;\">\n",
        "<table border=\"1\" class=\"dataframe\">\n",
        "  <thead>\n",
        "    <tr style=\"text-align: right;\">\n",
        "      <th></th>\n",
        "      <th>Price</th>\n",
        "      <th>Volume</th>\n",
        "    </tr>\n",
        "    <tr>\n",
        "      <th>ts</th>\n",
        "      <th></th>\n",
        "      <th></th>\n",
        "    </tr>\n",
        "  </thead>\n",
        "  <tbody>\n",
        "    <tr>\n",
        "      <td><strong>2011-11-01 08:04:56.364000</strong></td>\n",
        "      <td> 104.55</td>\n",
        "      <td>  100</td>\n",
        "    </tr>\n",
        "    <tr>\n",
        "      <td><strong>2011-11-01 08:53:07.459000</strong></td>\n",
        "      <td> 104.43</td>\n",
        "      <td>  150</td>\n",
        "    </tr>\n",
        "    <tr>\n",
        "      <td><strong>2011-11-01 08:53:09.284000</strong></td>\n",
        "      <td> 104.43</td>\n",
        "      <td>  100</td>\n",
        "    </tr>\n",
        "    <tr>\n",
        "      <td><strong>2011-11-01 08:54:03.921000</strong></td>\n",
        "      <td> 104.50</td>\n",
        "      <td>  100</td>\n",
        "    </tr>\n",
        "    <tr>\n",
        "      <td><strong>2011-11-01 08:58:06.162000</strong></td>\n",
        "      <td> 104.46</td>\n",
        "      <td> 1000</td>\n",
        "    </tr>\n",
        "  </tbody>\n",
        "</table>\n",
        "</div>"
       ],
       "output_type": "pyout",
       "prompt_number": 193,
       "text": [
        "                             Price  Volume\n",
        "ts                                        \n",
        "2011-11-01 08:04:56.364000  104.55     100\n",
        "2011-11-01 08:53:07.459000  104.43     150\n",
        "2011-11-01 08:53:09.284000  104.43     100\n",
        "2011-11-01 08:54:03.921000  104.50     100\n",
        "2011-11-01 08:58:06.162000  104.46    1000"
       ]
      }
     ],
     "prompt_number": 193
    },
    {
     "cell_type": "markdown",
     "metadata": {},
     "source": [
      "Scalar operations are done element-wise"
     ]
    },
    {
     "cell_type": "code",
     "collapsed": false,
     "input": [
      "df.ix[:5] * 10"
     ],
     "language": "python",
     "metadata": {},
     "outputs": [
      {
       "html": [
        "<div style=\"max-height:1000px;max-width:1500px;overflow:auto;\">\n",
        "<table border=\"1\" class=\"dataframe\">\n",
        "  <thead>\n",
        "    <tr style=\"text-align: right;\">\n",
        "      <th></th>\n",
        "      <th>Price</th>\n",
        "      <th>Volume</th>\n",
        "    </tr>\n",
        "    <tr>\n",
        "      <th>ts</th>\n",
        "      <th></th>\n",
        "      <th></th>\n",
        "    </tr>\n",
        "  </thead>\n",
        "  <tbody>\n",
        "    <tr>\n",
        "      <td><strong>2011-11-01 08:04:56.364000</strong></td>\n",
        "      <td> 1045.5</td>\n",
        "      <td>  1000</td>\n",
        "    </tr>\n",
        "    <tr>\n",
        "      <td><strong>2011-11-01 08:53:07.459000</strong></td>\n",
        "      <td> 1044.3</td>\n",
        "      <td>  1500</td>\n",
        "    </tr>\n",
        "    <tr>\n",
        "      <td><strong>2011-11-01 08:53:09.284000</strong></td>\n",
        "      <td> 1044.3</td>\n",
        "      <td>  1000</td>\n",
        "    </tr>\n",
        "    <tr>\n",
        "      <td><strong>2011-11-01 08:54:03.921000</strong></td>\n",
        "      <td> 1045.0</td>\n",
        "      <td>  1000</td>\n",
        "    </tr>\n",
        "    <tr>\n",
        "      <td><strong>2011-11-01 08:58:06.162000</strong></td>\n",
        "      <td> 1044.6</td>\n",
        "      <td> 10000</td>\n",
        "    </tr>\n",
        "  </tbody>\n",
        "</table>\n",
        "</div>"
       ],
       "output_type": "pyout",
       "prompt_number": 194,
       "text": [
        "                             Price  Volume\n",
        "ts                                        \n",
        "2011-11-01 08:04:56.364000  1045.5    1000\n",
        "2011-11-01 08:53:07.459000  1044.3    1500\n",
        "2011-11-01 08:53:09.284000  1044.3    1000\n",
        "2011-11-01 08:54:03.921000  1045.0    1000\n",
        "2011-11-01 08:58:06.162000  1044.6   10000"
       ]
      }
     ],
     "prompt_number": 194
    },
    {
     "cell_type": "code",
     "collapsed": false,
     "input": [
      "df.ix[:5] + 100"
     ],
     "language": "python",
     "metadata": {},
     "outputs": [
      {
       "html": [
        "<div style=\"max-height:1000px;max-width:1500px;overflow:auto;\">\n",
        "<table border=\"1\" class=\"dataframe\">\n",
        "  <thead>\n",
        "    <tr style=\"text-align: right;\">\n",
        "      <th></th>\n",
        "      <th>Price</th>\n",
        "      <th>Volume</th>\n",
        "    </tr>\n",
        "    <tr>\n",
        "      <th>ts</th>\n",
        "      <th></th>\n",
        "      <th></th>\n",
        "    </tr>\n",
        "  </thead>\n",
        "  <tbody>\n",
        "    <tr>\n",
        "      <td><strong>2011-11-01 08:04:56.364000</strong></td>\n",
        "      <td> 204.55</td>\n",
        "      <td>  200</td>\n",
        "    </tr>\n",
        "    <tr>\n",
        "      <td><strong>2011-11-01 08:53:07.459000</strong></td>\n",
        "      <td> 204.43</td>\n",
        "      <td>  250</td>\n",
        "    </tr>\n",
        "    <tr>\n",
        "      <td><strong>2011-11-01 08:53:09.284000</strong></td>\n",
        "      <td> 204.43</td>\n",
        "      <td>  200</td>\n",
        "    </tr>\n",
        "    <tr>\n",
        "      <td><strong>2011-11-01 08:54:03.921000</strong></td>\n",
        "      <td> 204.50</td>\n",
        "      <td>  200</td>\n",
        "    </tr>\n",
        "    <tr>\n",
        "      <td><strong>2011-11-01 08:58:06.162000</strong></td>\n",
        "      <td> 204.46</td>\n",
        "      <td> 1100</td>\n",
        "    </tr>\n",
        "  </tbody>\n",
        "</table>\n",
        "</div>"
       ],
       "output_type": "pyout",
       "prompt_number": 195,
       "text": [
        "                             Price  Volume\n",
        "ts                                        \n",
        "2011-11-01 08:04:56.364000  204.55     200\n",
        "2011-11-01 08:53:07.459000  204.43     250\n",
        "2011-11-01 08:53:09.284000  204.43     200\n",
        "2011-11-01 08:54:03.921000  204.50     200\n",
        "2011-11-01 08:58:06.162000  204.46    1100"
       ]
      }
     ],
     "prompt_number": 195
    },
    {
     "cell_type": "markdown",
     "metadata": {},
     "source": [
      "DataFrame with DataFrame (or Series with Series) is element-by-element"
     ]
    },
    {
     "cell_type": "code",
     "collapsed": false,
     "input": [
      "df.ix[:5] - df.ix[:5]"
     ],
     "language": "python",
     "metadata": {},
     "outputs": [
      {
       "html": [
        "<div style=\"max-height:1000px;max-width:1500px;overflow:auto;\">\n",
        "<table border=\"1\" class=\"dataframe\">\n",
        "  <thead>\n",
        "    <tr style=\"text-align: right;\">\n",
        "      <th></th>\n",
        "      <th>Price</th>\n",
        "      <th>Volume</th>\n",
        "    </tr>\n",
        "    <tr>\n",
        "      <th>ts</th>\n",
        "      <th></th>\n",
        "      <th></th>\n",
        "    </tr>\n",
        "  </thead>\n",
        "  <tbody>\n",
        "    <tr>\n",
        "      <td><strong>2011-11-01 08:04:56.364000</strong></td>\n",
        "      <td> 0</td>\n",
        "      <td> 0</td>\n",
        "    </tr>\n",
        "    <tr>\n",
        "      <td><strong>2011-11-01 08:53:07.459000</strong></td>\n",
        "      <td> 0</td>\n",
        "      <td> 0</td>\n",
        "    </tr>\n",
        "    <tr>\n",
        "      <td><strong>2011-11-01 08:53:09.284000</strong></td>\n",
        "      <td> 0</td>\n",
        "      <td> 0</td>\n",
        "    </tr>\n",
        "    <tr>\n",
        "      <td><strong>2011-11-01 08:54:03.921000</strong></td>\n",
        "      <td> 0</td>\n",
        "      <td> 0</td>\n",
        "    </tr>\n",
        "    <tr>\n",
        "      <td><strong>2011-11-01 08:58:06.162000</strong></td>\n",
        "      <td> 0</td>\n",
        "      <td> 0</td>\n",
        "    </tr>\n",
        "  </tbody>\n",
        "</table>\n",
        "</div>"
       ],
       "output_type": "pyout",
       "prompt_number": 196,
       "text": [
        "                            Price  Volume\n",
        "ts                                       \n",
        "2011-11-01 08:04:56.364000      0       0\n",
        "2011-11-01 08:53:07.459000      0       0\n",
        "2011-11-01 08:53:09.284000      0       0\n",
        "2011-11-01 08:54:03.921000      0       0\n",
        "2011-11-01 08:58:06.162000      0       0"
       ]
      }
     ],
     "prompt_number": 196
    },
    {
     "cell_type": "markdown",
     "metadata": {},
     "source": [
      "### Broadcasting"
     ]
    },
    {
     "cell_type": "code",
     "collapsed": false,
     "input": [
      "means = df.mean()\n",
      "means"
     ],
     "language": "python",
     "metadata": {},
     "outputs": [
      {
       "output_type": "pyout",
       "prompt_number": 197,
       "text": [
        "Price     104.175107\n",
        "Volume    283.971000"
       ]
      }
     ],
     "prompt_number": 197
    },
    {
     "cell_type": "code",
     "collapsed": false,
     "input": [
      "df.ix[:5] - means"
     ],
     "language": "python",
     "metadata": {},
     "outputs": [
      {
       "html": [
        "<div style=\"max-height:1000px;max-width:1500px;overflow:auto;\">\n",
        "<table border=\"1\" class=\"dataframe\">\n",
        "  <thead>\n",
        "    <tr style=\"text-align: right;\">\n",
        "      <th></th>\n",
        "      <th>Price</th>\n",
        "      <th>Volume</th>\n",
        "    </tr>\n",
        "    <tr>\n",
        "      <th>ts</th>\n",
        "      <th></th>\n",
        "      <th></th>\n",
        "    </tr>\n",
        "  </thead>\n",
        "  <tbody>\n",
        "    <tr>\n",
        "      <td><strong>2011-11-01 08:04:56.364000</strong></td>\n",
        "      <td> 0.374893</td>\n",
        "      <td>-183.971</td>\n",
        "    </tr>\n",
        "    <tr>\n",
        "      <td><strong>2011-11-01 08:53:07.459000</strong></td>\n",
        "      <td> 0.254893</td>\n",
        "      <td>-133.971</td>\n",
        "    </tr>\n",
        "    <tr>\n",
        "      <td><strong>2011-11-01 08:53:09.284000</strong></td>\n",
        "      <td> 0.254893</td>\n",
        "      <td>-183.971</td>\n",
        "    </tr>\n",
        "    <tr>\n",
        "      <td><strong>2011-11-01 08:54:03.921000</strong></td>\n",
        "      <td> 0.324893</td>\n",
        "      <td>-183.971</td>\n",
        "    </tr>\n",
        "    <tr>\n",
        "      <td><strong>2011-11-01 08:58:06.162000</strong></td>\n",
        "      <td> 0.284893</td>\n",
        "      <td> 716.029</td>\n",
        "    </tr>\n",
        "  </tbody>\n",
        "</table>\n",
        "</div>"
       ],
       "output_type": "pyout",
       "prompt_number": 198,
       "text": [
        "                               Price   Volume\n",
        "ts                                           \n",
        "2011-11-01 08:04:56.364000  0.374893 -183.971\n",
        "2011-11-01 08:53:07.459000  0.254893 -133.971\n",
        "2011-11-01 08:53:09.284000  0.254893 -183.971\n",
        "2011-11-01 08:54:03.921000  0.324893 -183.971\n",
        "2011-11-01 08:58:06.162000  0.284893  716.029"
       ]
      }
     ],
     "prompt_number": 198
    },
    {
     "cell_type": "markdown",
     "metadata": {},
     "source": [
      "DataFrame with Series means each Series element is applied to each DataFrame column"
     ]
    },
    {
     "cell_type": "code",
     "collapsed": false,
     "input": [
      "result = df - means\n",
      "\n",
      "result.mean()"
     ],
     "language": "python",
     "metadata": {},
     "outputs": [
      {
       "output_type": "pyout",
       "prompt_number": 199,
       "text": [
        "Price     3.931149e-13\n",
        "Volume    4.488356e-13"
       ]
      }
     ],
     "prompt_number": 199
    },
    {
     "cell_type": "markdown",
     "metadata": {},
     "source": [
      "The term broadcasting describes how arrays with different shapes are manipulated together in computations. \n",
      "Start with the last dimension, two dimensions are compatible for broadcasting if either they are equal or one of them has 1 element"
     ]
    },
    {
     "cell_type": "markdown",
     "metadata": {},
     "source": [
      "## Basic stats computations"
     ]
    },
    {
     "cell_type": "code",
     "collapsed": false,
     "input": [
      "df.cov()"
     ],
     "language": "python",
     "metadata": {},
     "outputs": [
      {
       "html": [
        "<div style=\"max-height:1000px;max-width:1500px;overflow:auto;\">\n",
        "<table border=\"1\" class=\"dataframe\">\n",
        "  <thead>\n",
        "    <tr style=\"text-align: right;\">\n",
        "      <th></th>\n",
        "      <th>Price</th>\n",
        "      <th>Volume</th>\n",
        "    </tr>\n",
        "  </thead>\n",
        "  <tbody>\n",
        "    <tr>\n",
        "      <td><strong>Price</strong></td>\n",
        "      <td> 0.004943</td>\n",
        "      <td>       0.618009</td>\n",
        "    </tr>\n",
        "    <tr>\n",
        "      <td><strong>Volume</strong></td>\n",
        "      <td> 0.618009</td>\n",
        "      <td> 4747023.695855</td>\n",
        "    </tr>\n",
        "  </tbody>\n",
        "</table>\n",
        "</div>"
       ],
       "output_type": "pyout",
       "prompt_number": 200,
       "text": [
        "           Price          Volume\n",
        "Price   0.004943        0.618009\n",
        "Volume  0.618009  4747023.695855"
       ]
      }
     ],
     "prompt_number": 200
    },
    {
     "cell_type": "code",
     "collapsed": false,
     "input": [
      "df.dot(df.T) # oops, wrong orientation"
     ],
     "language": "python",
     "metadata": {},
     "outputs": [
      {
       "ename": "KeyError",
       "evalue": "'no item named 2011-11-01 08:58:06.162000'",
       "output_type": "pyerr",
       "traceback": [
        "\u001b[0;31m---------------------------------------------------------------------------\u001b[0m\n\u001b[0;31mKeyError\u001b[0m                                  Traceback (most recent call last)",
        "\u001b[0;32m<ipython-input-201-e5fc2d889aa2>\u001b[0m in \u001b[0;36m<module>\u001b[0;34m()\u001b[0m\n\u001b[0;32m----> 1\u001b[0;31m \u001b[0mdf\u001b[0m\u001b[0;34m.\u001b[0m\u001b[0mdot\u001b[0m\u001b[0;34m(\u001b[0m\u001b[0mdf\u001b[0m\u001b[0;34m.\u001b[0m\u001b[0mT\u001b[0m\u001b[0;34m)\u001b[0m \u001b[0;31m# oops, wrong orientation\u001b[0m\u001b[0;34m\u001b[0m\u001b[0m\n\u001b[0m",
        "\u001b[0;32m/Users/snorlax13mba/anaconda/lib/python2.7/site-packages/IPython/core/displayhook.pyc\u001b[0m in \u001b[0;36m__call__\u001b[0;34m(self, result)\u001b[0m\n\u001b[1;32m    236\u001b[0m             \u001b[0mself\u001b[0m\u001b[0;34m.\u001b[0m\u001b[0mstart_displayhook\u001b[0m\u001b[0;34m(\u001b[0m\u001b[0;34m)\u001b[0m\u001b[0;34m\u001b[0m\u001b[0m\n\u001b[1;32m    237\u001b[0m             \u001b[0mself\u001b[0m\u001b[0;34m.\u001b[0m\u001b[0mwrite_output_prompt\u001b[0m\u001b[0;34m(\u001b[0m\u001b[0;34m)\u001b[0m\u001b[0;34m\u001b[0m\u001b[0m\n\u001b[0;32m--> 238\u001b[0;31m             \u001b[0mformat_dict\u001b[0m \u001b[0;34m=\u001b[0m \u001b[0mself\u001b[0m\u001b[0;34m.\u001b[0m\u001b[0mcompute_format_data\u001b[0m\u001b[0;34m(\u001b[0m\u001b[0mresult\u001b[0m\u001b[0;34m)\u001b[0m\u001b[0;34m\u001b[0m\u001b[0m\n\u001b[0m\u001b[1;32m    239\u001b[0m             \u001b[0mself\u001b[0m\u001b[0;34m.\u001b[0m\u001b[0mwrite_format_data\u001b[0m\u001b[0;34m(\u001b[0m\u001b[0mformat_dict\u001b[0m\u001b[0;34m)\u001b[0m\u001b[0;34m\u001b[0m\u001b[0m\n\u001b[1;32m    240\u001b[0m             \u001b[0mself\u001b[0m\u001b[0;34m.\u001b[0m\u001b[0mupdate_user_ns\u001b[0m\u001b[0;34m(\u001b[0m\u001b[0mresult\u001b[0m\u001b[0;34m)\u001b[0m\u001b[0;34m\u001b[0m\u001b[0m\n",
        "\u001b[0;32m/Users/snorlax13mba/anaconda/lib/python2.7/site-packages/IPython/core/displayhook.pyc\u001b[0m in \u001b[0;36mcompute_format_data\u001b[0;34m(self, result)\u001b[0m\n\u001b[1;32m    148\u001b[0m             \u001b[0mMIME\u001b[0m \u001b[0mtype\u001b[0m \u001b[0mrepresentation\u001b[0m \u001b[0mof\u001b[0m \u001b[0mthe\u001b[0m \u001b[0mobject\u001b[0m\u001b[0;34m.\u001b[0m\u001b[0;34m\u001b[0m\u001b[0m\n\u001b[1;32m    149\u001b[0m         \"\"\"\n\u001b[0;32m--> 150\u001b[0;31m         \u001b[0;32mreturn\u001b[0m \u001b[0mself\u001b[0m\u001b[0;34m.\u001b[0m\u001b[0mshell\u001b[0m\u001b[0;34m.\u001b[0m\u001b[0mdisplay_formatter\u001b[0m\u001b[0;34m.\u001b[0m\u001b[0mformat\u001b[0m\u001b[0;34m(\u001b[0m\u001b[0mresult\u001b[0m\u001b[0;34m)\u001b[0m\u001b[0;34m\u001b[0m\u001b[0m\n\u001b[0m\u001b[1;32m    151\u001b[0m \u001b[0;34m\u001b[0m\u001b[0m\n\u001b[1;32m    152\u001b[0m     \u001b[0;32mdef\u001b[0m \u001b[0mwrite_format_data\u001b[0m\u001b[0;34m(\u001b[0m\u001b[0mself\u001b[0m\u001b[0;34m,\u001b[0m \u001b[0mformat_dict\u001b[0m\u001b[0;34m)\u001b[0m\u001b[0;34m:\u001b[0m\u001b[0;34m\u001b[0m\u001b[0m\n",
        "\u001b[0;32m/Users/snorlax13mba/anaconda/lib/python2.7/site-packages/IPython/core/formatters.pyc\u001b[0m in \u001b[0;36mformat\u001b[0;34m(self, obj, include, exclude)\u001b[0m\n\u001b[1;32m    124\u001b[0m                     \u001b[0;32mcontinue\u001b[0m\u001b[0;34m\u001b[0m\u001b[0m\n\u001b[1;32m    125\u001b[0m             \u001b[0;32mtry\u001b[0m\u001b[0;34m:\u001b[0m\u001b[0;34m\u001b[0m\u001b[0m\n\u001b[0;32m--> 126\u001b[0;31m                 \u001b[0mdata\u001b[0m \u001b[0;34m=\u001b[0m \u001b[0mformatter\u001b[0m\u001b[0;34m(\u001b[0m\u001b[0mobj\u001b[0m\u001b[0;34m)\u001b[0m\u001b[0;34m\u001b[0m\u001b[0m\n\u001b[0m\u001b[1;32m    127\u001b[0m             \u001b[0;32mexcept\u001b[0m\u001b[0;34m:\u001b[0m\u001b[0;34m\u001b[0m\u001b[0m\n\u001b[1;32m    128\u001b[0m                 \u001b[0;31m# FIXME: log the exception\u001b[0m\u001b[0;34m\u001b[0m\u001b[0;34m\u001b[0m\u001b[0m\n",
        "\u001b[0;32m/Users/snorlax13mba/anaconda/lib/python2.7/site-packages/IPython/core/formatters.pyc\u001b[0m in \u001b[0;36m__call__\u001b[0;34m(self, obj)\u001b[0m\n\u001b[1;32m    445\u001b[0m                 \u001b[0mtype_pprinters\u001b[0m\u001b[0;34m=\u001b[0m\u001b[0mself\u001b[0m\u001b[0;34m.\u001b[0m\u001b[0mtype_printers\u001b[0m\u001b[0;34m,\u001b[0m\u001b[0;34m\u001b[0m\u001b[0m\n\u001b[1;32m    446\u001b[0m                 deferred_pprinters=self.deferred_printers)\n\u001b[0;32m--> 447\u001b[0;31m             \u001b[0mprinter\u001b[0m\u001b[0;34m.\u001b[0m\u001b[0mpretty\u001b[0m\u001b[0;34m(\u001b[0m\u001b[0mobj\u001b[0m\u001b[0;34m)\u001b[0m\u001b[0;34m\u001b[0m\u001b[0m\n\u001b[0m\u001b[1;32m    448\u001b[0m             \u001b[0mprinter\u001b[0m\u001b[0;34m.\u001b[0m\u001b[0mflush\u001b[0m\u001b[0;34m(\u001b[0m\u001b[0;34m)\u001b[0m\u001b[0;34m\u001b[0m\u001b[0m\n\u001b[1;32m    449\u001b[0m             \u001b[0;32mreturn\u001b[0m \u001b[0mstream\u001b[0m\u001b[0;34m.\u001b[0m\u001b[0mgetvalue\u001b[0m\u001b[0;34m(\u001b[0m\u001b[0;34m)\u001b[0m\u001b[0;34m\u001b[0m\u001b[0m\n",
        "\u001b[0;32m/Users/snorlax13mba/anaconda/lib/python2.7/site-packages/IPython/lib/pretty.pyc\u001b[0m in \u001b[0;36mpretty\u001b[0;34m(self, obj)\u001b[0m\n\u001b[1;32m    358\u001b[0m                             \u001b[0;32mif\u001b[0m \u001b[0mcallable\u001b[0m\u001b[0;34m(\u001b[0m\u001b[0mmeth\u001b[0m\u001b[0;34m)\u001b[0m\u001b[0;34m:\u001b[0m\u001b[0;34m\u001b[0m\u001b[0m\n\u001b[1;32m    359\u001b[0m                                 \u001b[0;32mreturn\u001b[0m \u001b[0mmeth\u001b[0m\u001b[0;34m(\u001b[0m\u001b[0mobj\u001b[0m\u001b[0;34m,\u001b[0m \u001b[0mself\u001b[0m\u001b[0;34m,\u001b[0m \u001b[0mcycle\u001b[0m\u001b[0;34m)\u001b[0m\u001b[0;34m\u001b[0m\u001b[0m\n\u001b[0;32m--> 360\u001b[0;31m             \u001b[0;32mreturn\u001b[0m \u001b[0m_default_pprint\u001b[0m\u001b[0;34m(\u001b[0m\u001b[0mobj\u001b[0m\u001b[0;34m,\u001b[0m \u001b[0mself\u001b[0m\u001b[0;34m,\u001b[0m \u001b[0mcycle\u001b[0m\u001b[0;34m)\u001b[0m\u001b[0;34m\u001b[0m\u001b[0m\n\u001b[0m\u001b[1;32m    361\u001b[0m         \u001b[0;32mfinally\u001b[0m\u001b[0;34m:\u001b[0m\u001b[0;34m\u001b[0m\u001b[0m\n\u001b[1;32m    362\u001b[0m             \u001b[0mself\u001b[0m\u001b[0;34m.\u001b[0m\u001b[0mend_group\u001b[0m\u001b[0;34m(\u001b[0m\u001b[0;34m)\u001b[0m\u001b[0;34m\u001b[0m\u001b[0m\n",
        "\u001b[0;32m/Users/snorlax13mba/anaconda/lib/python2.7/site-packages/IPython/lib/pretty.pyc\u001b[0m in \u001b[0;36m_default_pprint\u001b[0;34m(obj, p, cycle)\u001b[0m\n\u001b[1;32m    478\u001b[0m     \u001b[0;32mif\u001b[0m \u001b[0mgetattr\u001b[0m\u001b[0;34m(\u001b[0m\u001b[0mklass\u001b[0m\u001b[0;34m,\u001b[0m \u001b[0;34m'__repr__'\u001b[0m\u001b[0;34m,\u001b[0m \u001b[0mNone\u001b[0m\u001b[0;34m)\u001b[0m \u001b[0;32mnot\u001b[0m \u001b[0;32min\u001b[0m \u001b[0m_baseclass_reprs\u001b[0m\u001b[0;34m:\u001b[0m\u001b[0;34m\u001b[0m\u001b[0m\n\u001b[1;32m    479\u001b[0m         \u001b[0;31m# A user-provided repr.\u001b[0m\u001b[0;34m\u001b[0m\u001b[0;34m\u001b[0m\u001b[0m\n\u001b[0;32m--> 480\u001b[0;31m         \u001b[0mp\u001b[0m\u001b[0;34m.\u001b[0m\u001b[0mtext\u001b[0m\u001b[0;34m(\u001b[0m\u001b[0mrepr\u001b[0m\u001b[0;34m(\u001b[0m\u001b[0mobj\u001b[0m\u001b[0;34m)\u001b[0m\u001b[0;34m)\u001b[0m\u001b[0;34m\u001b[0m\u001b[0m\n\u001b[0m\u001b[1;32m    481\u001b[0m         \u001b[0;32mreturn\u001b[0m\u001b[0;34m\u001b[0m\u001b[0m\n\u001b[1;32m    482\u001b[0m     \u001b[0mp\u001b[0m\u001b[0;34m.\u001b[0m\u001b[0mbegin_group\u001b[0m\u001b[0;34m(\u001b[0m\u001b[0;36m1\u001b[0m\u001b[0;34m,\u001b[0m \u001b[0;34m'<'\u001b[0m\u001b[0;34m)\u001b[0m\u001b[0;34m\u001b[0m\u001b[0m\n",
        "\u001b[0;32m/Users/snorlax13mba/anaconda/lib/python2.7/site-packages/pandas/core/frame.pyc\u001b[0m in \u001b[0;36m__repr__\u001b[0;34m(self)\u001b[0m\n\u001b[1;32m    581\u001b[0m         \u001b[0mbuf\u001b[0m \u001b[0;34m=\u001b[0m \u001b[0mStringIO\u001b[0m\u001b[0;34m(\u001b[0m\u001b[0;34m)\u001b[0m\u001b[0;34m\u001b[0m\u001b[0m\n\u001b[1;32m    582\u001b[0m         \u001b[0;32mif\u001b[0m \u001b[0mself\u001b[0m\u001b[0;34m.\u001b[0m\u001b[0m_need_info_repr_\u001b[0m\u001b[0;34m(\u001b[0m\u001b[0;34m)\u001b[0m\u001b[0;34m:\u001b[0m\u001b[0;34m\u001b[0m\u001b[0m\n\u001b[0;32m--> 583\u001b[0;31m             \u001b[0mself\u001b[0m\u001b[0;34m.\u001b[0m\u001b[0minfo\u001b[0m\u001b[0;34m(\u001b[0m\u001b[0mbuf\u001b[0m\u001b[0;34m=\u001b[0m\u001b[0mbuf\u001b[0m\u001b[0;34m,\u001b[0m \u001b[0mverbose\u001b[0m\u001b[0;34m=\u001b[0m\u001b[0mself\u001b[0m\u001b[0;34m.\u001b[0m\u001b[0m_verbose_info\u001b[0m\u001b[0;34m)\u001b[0m\u001b[0;34m\u001b[0m\u001b[0m\n\u001b[0m\u001b[1;32m    584\u001b[0m         \u001b[0;32melse\u001b[0m\u001b[0;34m:\u001b[0m\u001b[0;34m\u001b[0m\u001b[0m\n\u001b[1;32m    585\u001b[0m             \u001b[0mself\u001b[0m\u001b[0;34m.\u001b[0m\u001b[0mto_string\u001b[0m\u001b[0;34m(\u001b[0m\u001b[0mbuf\u001b[0m\u001b[0;34m=\u001b[0m\u001b[0mbuf\u001b[0m\u001b[0;34m)\u001b[0m\u001b[0;34m\u001b[0m\u001b[0m\n",
        "\u001b[0;32m/Users/snorlax13mba/anaconda/lib/python2.7/site-packages/pandas/core/frame.pyc\u001b[0m in \u001b[0;36minfo\u001b[0;34m(self, verbose, buf)\u001b[0m\n\u001b[1;32m   1377\u001b[0m             \u001b[0mlines\u001b[0m\u001b[0;34m.\u001b[0m\u001b[0mappend\u001b[0m\u001b[0;34m(\u001b[0m\u001b[0mself\u001b[0m\u001b[0;34m.\u001b[0m\u001b[0mcolumns\u001b[0m\u001b[0;34m.\u001b[0m\u001b[0msummary\u001b[0m\u001b[0;34m(\u001b[0m\u001b[0mname\u001b[0m\u001b[0;34m=\u001b[0m\u001b[0;34m'Columns'\u001b[0m\u001b[0;34m)\u001b[0m\u001b[0;34m)\u001b[0m\u001b[0;34m\u001b[0m\u001b[0m\n\u001b[1;32m   1378\u001b[0m \u001b[0;34m\u001b[0m\u001b[0m\n\u001b[0;32m-> 1379\u001b[0;31m         \u001b[0mcounts\u001b[0m \u001b[0;34m=\u001b[0m \u001b[0mself\u001b[0m\u001b[0;34m.\u001b[0m\u001b[0mget_dtype_counts\u001b[0m\u001b[0;34m(\u001b[0m\u001b[0;34m)\u001b[0m\u001b[0;34m\u001b[0m\u001b[0m\n\u001b[0m\u001b[1;32m   1380\u001b[0m         \u001b[0mdtypes\u001b[0m \u001b[0;34m=\u001b[0m \u001b[0;34m[\u001b[0m\u001b[0;34m'%s(%d)'\u001b[0m \u001b[0;34m%\u001b[0m \u001b[0mk\u001b[0m \u001b[0;32mfor\u001b[0m \u001b[0mk\u001b[0m \u001b[0;32min\u001b[0m \u001b[0msorted\u001b[0m\u001b[0;34m(\u001b[0m\u001b[0mcounts\u001b[0m\u001b[0;34m.\u001b[0m\u001b[0miteritems\u001b[0m\u001b[0;34m(\u001b[0m\u001b[0;34m)\u001b[0m\u001b[0;34m)\u001b[0m\u001b[0;34m]\u001b[0m\u001b[0;34m\u001b[0m\u001b[0m\n\u001b[1;32m   1381\u001b[0m         \u001b[0mlines\u001b[0m\u001b[0;34m.\u001b[0m\u001b[0mappend\u001b[0m\u001b[0;34m(\u001b[0m\u001b[0;34m'dtypes: %s'\u001b[0m \u001b[0;34m%\u001b[0m \u001b[0;34m', '\u001b[0m\u001b[0;34m.\u001b[0m\u001b[0mjoin\u001b[0m\u001b[0;34m(\u001b[0m\u001b[0mdtypes\u001b[0m\u001b[0;34m)\u001b[0m\u001b[0;34m)\u001b[0m\u001b[0;34m\u001b[0m\u001b[0m\n",
        "\u001b[0;32m/Users/snorlax13mba/anaconda/lib/python2.7/site-packages/pandas/core/frame.pyc\u001b[0m in \u001b[0;36mget_dtype_counts\u001b[0;34m(self)\u001b[0m\n\u001b[1;32m   1408\u001b[0m         \u001b[0mcounts\u001b[0m \u001b[0;34m=\u001b[0m \u001b[0;34m{\u001b[0m\u001b[0;34m}\u001b[0m\u001b[0;34m\u001b[0m\u001b[0m\n\u001b[1;32m   1409\u001b[0m         \u001b[0;32mfor\u001b[0m \u001b[0mi\u001b[0m \u001b[0;32min\u001b[0m \u001b[0mrange\u001b[0m\u001b[0;34m(\u001b[0m\u001b[0mlen\u001b[0m\u001b[0;34m(\u001b[0m\u001b[0mself\u001b[0m\u001b[0;34m.\u001b[0m\u001b[0mcolumns\u001b[0m\u001b[0;34m)\u001b[0m\u001b[0;34m)\u001b[0m\u001b[0;34m:\u001b[0m\u001b[0;34m\u001b[0m\u001b[0m\n\u001b[0;32m-> 1410\u001b[0;31m             \u001b[0mseries\u001b[0m \u001b[0;34m=\u001b[0m \u001b[0mself\u001b[0m\u001b[0;34m.\u001b[0m\u001b[0micol\u001b[0m\u001b[0;34m(\u001b[0m\u001b[0mi\u001b[0m\u001b[0;34m)\u001b[0m\u001b[0;34m\u001b[0m\u001b[0m\n\u001b[0m\u001b[1;32m   1411\u001b[0m             \u001b[0;31m# endianness can cause dtypes to look different\u001b[0m\u001b[0;34m\u001b[0m\u001b[0;34m\u001b[0m\u001b[0m\n\u001b[1;32m   1412\u001b[0m             \u001b[0mdtype_str\u001b[0m \u001b[0;34m=\u001b[0m \u001b[0mstr\u001b[0m\u001b[0;34m(\u001b[0m\u001b[0mseries\u001b[0m\u001b[0;34m.\u001b[0m\u001b[0mdtype\u001b[0m\u001b[0;34m)\u001b[0m\u001b[0;34m\u001b[0m\u001b[0m\n",
        "\u001b[0;32m/Users/snorlax13mba/anaconda/lib/python2.7/site-packages/pandas/core/frame.pyc\u001b[0m in \u001b[0;36micol\u001b[0;34m(self, i)\u001b[0m\n\u001b[1;32m   1644\u001b[0m                 \u001b[0;32mreturn\u001b[0m \u001b[0mself\u001b[0m\u001b[0;34m.\u001b[0m\u001b[0mreindex\u001b[0m\u001b[0;34m(\u001b[0m\u001b[0mcolumns\u001b[0m\u001b[0;34m=\u001b[0m\u001b[0mlabel\u001b[0m\u001b[0;34m)\u001b[0m\u001b[0;34m\u001b[0m\u001b[0m\n\u001b[1;32m   1645\u001b[0m \u001b[0;34m\u001b[0m\u001b[0m\n\u001b[0;32m-> 1646\u001b[0;31m             \u001b[0mvalues\u001b[0m \u001b[0;34m=\u001b[0m \u001b[0mself\u001b[0m\u001b[0;34m.\u001b[0m\u001b[0m_data\u001b[0m\u001b[0;34m.\u001b[0m\u001b[0miget\u001b[0m\u001b[0;34m(\u001b[0m\u001b[0mi\u001b[0m\u001b[0;34m)\u001b[0m\u001b[0;34m\u001b[0m\u001b[0m\n\u001b[0m\u001b[1;32m   1647\u001b[0m             \u001b[0;32mreturn\u001b[0m \u001b[0mSeries\u001b[0m\u001b[0;34m(\u001b[0m\u001b[0mvalues\u001b[0m\u001b[0;34m,\u001b[0m \u001b[0mindex\u001b[0m\u001b[0;34m=\u001b[0m\u001b[0mself\u001b[0m\u001b[0;34m.\u001b[0m\u001b[0mindex\u001b[0m\u001b[0;34m,\u001b[0m \u001b[0mname\u001b[0m\u001b[0;34m=\u001b[0m\u001b[0mlabel\u001b[0m\u001b[0;34m)\u001b[0m\u001b[0;34m\u001b[0m\u001b[0m\n\u001b[1;32m   1648\u001b[0m \u001b[0;34m\u001b[0m\u001b[0m\n",
        "\u001b[0;32m/Users/snorlax13mba/anaconda/lib/python2.7/site-packages/pandas/core/internals.pyc\u001b[0m in \u001b[0;36miget\u001b[0;34m(self, i)\u001b[0m\n\u001b[1;32m    839\u001b[0m                 \u001b[0minds\u001b[0m\u001b[0;34m,\u001b[0m \u001b[0;34m=\u001b[0m \u001b[0mself\u001b[0m\u001b[0;34m.\u001b[0m\u001b[0mitems\u001b[0m\u001b[0;34m.\u001b[0m\u001b[0mmap\u001b[0m\u001b[0;34m(\u001b[0m\u001b[0;32mlambda\u001b[0m \u001b[0mx\u001b[0m\u001b[0;34m:\u001b[0m \u001b[0mx\u001b[0m \u001b[0;34m==\u001b[0m \u001b[0mitem\u001b[0m\u001b[0;34m)\u001b[0m\u001b[0;34m.\u001b[0m\u001b[0mnonzero\u001b[0m\u001b[0;34m(\u001b[0m\u001b[0;34m)\u001b[0m\u001b[0;34m\u001b[0m\u001b[0m\n\u001b[1;32m    840\u001b[0m \u001b[0;34m\u001b[0m\u001b[0m\n\u001b[0;32m--> 841\u001b[0;31m             \u001b[0m_\u001b[0m\u001b[0;34m,\u001b[0m \u001b[0mblock\u001b[0m \u001b[0;34m=\u001b[0m \u001b[0mself\u001b[0m\u001b[0;34m.\u001b[0m\u001b[0m_find_block\u001b[0m\u001b[0;34m(\u001b[0m\u001b[0mitem\u001b[0m\u001b[0;34m)\u001b[0m\u001b[0;34m\u001b[0m\u001b[0m\n\u001b[0m\u001b[1;32m    842\u001b[0m \u001b[0;34m\u001b[0m\u001b[0m\n\u001b[1;32m    843\u001b[0m             \u001b[0;32mtry\u001b[0m\u001b[0;34m:\u001b[0m\u001b[0;34m\u001b[0m\u001b[0m\n",
        "\u001b[0;32m/Users/snorlax13mba/anaconda/lib/python2.7/site-packages/pandas/core/internals.pyc\u001b[0m in \u001b[0;36m_find_block\u001b[0;34m(self, item)\u001b[0m\n\u001b[1;32m    939\u001b[0m \u001b[0;34m\u001b[0m\u001b[0m\n\u001b[1;32m    940\u001b[0m     \u001b[0;32mdef\u001b[0m \u001b[0m_find_block\u001b[0m\u001b[0;34m(\u001b[0m\u001b[0mself\u001b[0m\u001b[0;34m,\u001b[0m \u001b[0mitem\u001b[0m\u001b[0;34m)\u001b[0m\u001b[0;34m:\u001b[0m\u001b[0;34m\u001b[0m\u001b[0m\n\u001b[0;32m--> 941\u001b[0;31m         \u001b[0mself\u001b[0m\u001b[0;34m.\u001b[0m\u001b[0m_check_have\u001b[0m\u001b[0;34m(\u001b[0m\u001b[0mitem\u001b[0m\u001b[0;34m)\u001b[0m\u001b[0;34m\u001b[0m\u001b[0m\n\u001b[0m\u001b[1;32m    942\u001b[0m         \u001b[0;32mfor\u001b[0m \u001b[0mi\u001b[0m\u001b[0;34m,\u001b[0m \u001b[0mblock\u001b[0m \u001b[0;32min\u001b[0m \u001b[0menumerate\u001b[0m\u001b[0;34m(\u001b[0m\u001b[0mself\u001b[0m\u001b[0;34m.\u001b[0m\u001b[0mblocks\u001b[0m\u001b[0;34m)\u001b[0m\u001b[0;34m:\u001b[0m\u001b[0;34m\u001b[0m\u001b[0m\n\u001b[1;32m    943\u001b[0m             \u001b[0;32mif\u001b[0m \u001b[0mitem\u001b[0m \u001b[0;32min\u001b[0m \u001b[0mblock\u001b[0m\u001b[0;34m:\u001b[0m\u001b[0;34m\u001b[0m\u001b[0m\n",
        "\u001b[0;32m/Users/snorlax13mba/anaconda/lib/python2.7/site-packages/pandas/core/internals.pyc\u001b[0m in \u001b[0;36m_check_have\u001b[0;34m(self, item)\u001b[0m\n\u001b[1;32m    946\u001b[0m     \u001b[0;32mdef\u001b[0m \u001b[0m_check_have\u001b[0m\u001b[0;34m(\u001b[0m\u001b[0mself\u001b[0m\u001b[0;34m,\u001b[0m \u001b[0mitem\u001b[0m\u001b[0;34m)\u001b[0m\u001b[0;34m:\u001b[0m\u001b[0;34m\u001b[0m\u001b[0m\n\u001b[1;32m    947\u001b[0m         \u001b[0;32mif\u001b[0m \u001b[0mitem\u001b[0m \u001b[0;32mnot\u001b[0m \u001b[0;32min\u001b[0m \u001b[0mself\u001b[0m\u001b[0;34m.\u001b[0m\u001b[0mitems\u001b[0m\u001b[0;34m:\u001b[0m\u001b[0;34m\u001b[0m\u001b[0m\n\u001b[0;32m--> 948\u001b[0;31m             \u001b[0;32mraise\u001b[0m \u001b[0mKeyError\u001b[0m\u001b[0;34m(\u001b[0m\u001b[0;34m'no item named %s'\u001b[0m \u001b[0;34m%\u001b[0m \u001b[0mstr\u001b[0m\u001b[0;34m(\u001b[0m\u001b[0mitem\u001b[0m\u001b[0;34m)\u001b[0m\u001b[0;34m)\u001b[0m\u001b[0;34m\u001b[0m\u001b[0m\n\u001b[0m\u001b[1;32m    949\u001b[0m \u001b[0;34m\u001b[0m\u001b[0m\n\u001b[1;32m    950\u001b[0m     \u001b[0;32mdef\u001b[0m \u001b[0mreindex_axis\u001b[0m\u001b[0;34m(\u001b[0m\u001b[0mself\u001b[0m\u001b[0;34m,\u001b[0m \u001b[0mnew_axis\u001b[0m\u001b[0;34m,\u001b[0m \u001b[0mmethod\u001b[0m\u001b[0;34m=\u001b[0m\u001b[0mNone\u001b[0m\u001b[0;34m,\u001b[0m \u001b[0maxis\u001b[0m\u001b[0;34m=\u001b[0m\u001b[0;36m0\u001b[0m\u001b[0;34m,\u001b[0m \u001b[0mcopy\u001b[0m\u001b[0;34m=\u001b[0m\u001b[0mTrue\u001b[0m\u001b[0;34m)\u001b[0m\u001b[0;34m:\u001b[0m\u001b[0;34m\u001b[0m\u001b[0m\n",
        "\u001b[0;31mKeyError\u001b[0m: 'no item named 2011-11-01 08:58:06.162000'"
       ]
      }
     ],
     "prompt_number": 201
    },
    {
     "cell_type": "code",
     "collapsed": false,
     "input": [
      "df.T.dot(df)"
     ],
     "language": "python",
     "metadata": {},
     "outputs": [
      {
       "html": [
        "<div style=\"max-height:1000px;max-width:1500px;overflow:auto;\">\n",
        "<table border=\"1\" class=\"dataframe\">\n",
        "  <thead>\n",
        "    <tr style=\"text-align: right;\">\n",
        "      <th></th>\n",
        "      <th>Price</th>\n",
        "      <th>Volume</th>\n",
        "    </tr>\n",
        "  </thead>\n",
        "  <tbody>\n",
        "    <tr>\n",
        "      <td><strong>Price</strong></td>\n",
        "      <td> 10852457.877816</td>\n",
        "      <td> 2.958333e+07</td>\n",
        "    </tr>\n",
        "    <tr>\n",
        "      <td><strong>Volume</strong></td>\n",
        "      <td> 29583326.729700</td>\n",
        "      <td> 4.822916e+09</td>\n",
        "    </tr>\n",
        "  </tbody>\n",
        "</table>\n",
        "</div>"
       ],
       "output_type": "pyout",
       "prompt_number": 202,
       "text": [
        "                  Price        Volume\n",
        "Price   10852457.877816  2.958333e+07\n",
        "Volume  29583326.729700  4.822916e+09"
       ]
      }
     ],
     "prompt_number": 202
    },
    {
     "cell_type": "code",
     "collapsed": false,
     "input": [
      "df.corr()"
     ],
     "language": "python",
     "metadata": {},
     "outputs": [
      {
       "html": [
        "<div style=\"max-height:1000px;max-width:1500px;overflow:auto;\">\n",
        "<table border=\"1\" class=\"dataframe\">\n",
        "  <thead>\n",
        "    <tr style=\"text-align: right;\">\n",
        "      <th></th>\n",
        "      <th>Price</th>\n",
        "      <th>Volume</th>\n",
        "    </tr>\n",
        "  </thead>\n",
        "  <tbody>\n",
        "    <tr>\n",
        "      <td><strong>Price</strong></td>\n",
        "      <td> 1.000000</td>\n",
        "      <td> 0.004034</td>\n",
        "    </tr>\n",
        "    <tr>\n",
        "      <td><strong>Volume</strong></td>\n",
        "      <td> 0.004034</td>\n",
        "      <td> 1.000000</td>\n",
        "    </tr>\n",
        "  </tbody>\n",
        "</table>\n",
        "</div>"
       ],
       "output_type": "pyout",
       "prompt_number": 203,
       "text": [
        "           Price    Volume\n",
        "Price   1.000000  0.004034\n",
        "Volume  0.004034  1.000000"
       ]
      }
     ],
     "prompt_number": 203
    },
    {
     "cell_type": "code",
     "collapsed": false,
     "input": [
      "df.ix[:5].abs()"
     ],
     "language": "python",
     "metadata": {},
     "outputs": [
      {
       "html": [
        "<div style=\"max-height:1000px;max-width:1500px;overflow:auto;\">\n",
        "<table border=\"1\" class=\"dataframe\">\n",
        "  <thead>\n",
        "    <tr style=\"text-align: right;\">\n",
        "      <th></th>\n",
        "      <th>Price</th>\n",
        "      <th>Volume</th>\n",
        "    </tr>\n",
        "    <tr>\n",
        "      <th>ts</th>\n",
        "      <th></th>\n",
        "      <th></th>\n",
        "    </tr>\n",
        "  </thead>\n",
        "  <tbody>\n",
        "    <tr>\n",
        "      <td><strong>2011-11-01 08:04:56.364000</strong></td>\n",
        "      <td> 104.55</td>\n",
        "      <td>  100</td>\n",
        "    </tr>\n",
        "    <tr>\n",
        "      <td><strong>2011-11-01 08:53:07.459000</strong></td>\n",
        "      <td> 104.43</td>\n",
        "      <td>  150</td>\n",
        "    </tr>\n",
        "    <tr>\n",
        "      <td><strong>2011-11-01 08:53:09.284000</strong></td>\n",
        "      <td> 104.43</td>\n",
        "      <td>  100</td>\n",
        "    </tr>\n",
        "    <tr>\n",
        "      <td><strong>2011-11-01 08:54:03.921000</strong></td>\n",
        "      <td> 104.50</td>\n",
        "      <td>  100</td>\n",
        "    </tr>\n",
        "    <tr>\n",
        "      <td><strong>2011-11-01 08:58:06.162000</strong></td>\n",
        "      <td> 104.46</td>\n",
        "      <td> 1000</td>\n",
        "    </tr>\n",
        "  </tbody>\n",
        "</table>\n",
        "</div>"
       ],
       "output_type": "pyout",
       "prompt_number": 204,
       "text": [
        "                             Price  Volume\n",
        "ts                                        \n",
        "2011-11-01 08:04:56.364000  104.55     100\n",
        "2011-11-01 08:53:07.459000  104.43     150\n",
        "2011-11-01 08:53:09.284000  104.43     100\n",
        "2011-11-01 08:54:03.921000  104.50     100\n",
        "2011-11-01 08:58:06.162000  104.46    1000"
       ]
      }
     ],
     "prompt_number": 204
    },
    {
     "cell_type": "code",
     "collapsed": false,
     "input": [
      "df.kurt()"
     ],
     "language": "python",
     "metadata": {},
     "outputs": [
      {
       "output_type": "pyout",
       "prompt_number": 205,
       "text": [
        "Price      25.236590\n",
        "Volume    801.193401"
       ]
      }
     ],
     "prompt_number": 205
    },
    {
     "cell_type": "code",
     "collapsed": false,
     "input": [
      "ticks.ix[:, :3].head()"
     ],
     "language": "python",
     "metadata": {},
     "outputs": [
      {
       "html": [
        "<div style=\"max-height:1000px;max-width:1500px;overflow:auto;\">\n",
        "<table border=\"1\" class=\"dataframe\">\n",
        "  <thead>\n",
        "    <tr style=\"text-align: right;\">\n",
        "      <th></th>\n",
        "      <th>Price</th>\n",
        "      <th>Volume</th>\n",
        "      <th>Exchange Code</th>\n",
        "    </tr>\n",
        "    <tr>\n",
        "      <th>ts</th>\n",
        "      <th></th>\n",
        "      <th></th>\n",
        "      <th></th>\n",
        "    </tr>\n",
        "  </thead>\n",
        "  <tbody>\n",
        "    <tr>\n",
        "      <td><strong>2011-11-01 08:04:56.364000</strong></td>\n",
        "      <td> 104.55</td>\n",
        "      <td>  100</td>\n",
        "      <td> P</td>\n",
        "    </tr>\n",
        "    <tr>\n",
        "      <td><strong>2011-11-01 08:53:07.459000</strong></td>\n",
        "      <td> 104.43</td>\n",
        "      <td>  150</td>\n",
        "      <td> T</td>\n",
        "    </tr>\n",
        "    <tr>\n",
        "      <td><strong>2011-11-01 08:53:09.284000</strong></td>\n",
        "      <td> 104.43</td>\n",
        "      <td>  100</td>\n",
        "      <td> T</td>\n",
        "    </tr>\n",
        "    <tr>\n",
        "      <td><strong>2011-11-01 08:54:03.921000</strong></td>\n",
        "      <td> 104.50</td>\n",
        "      <td>  100</td>\n",
        "      <td> P</td>\n",
        "    </tr>\n",
        "    <tr>\n",
        "      <td><strong>2011-11-01 08:58:06.162000</strong></td>\n",
        "      <td> 104.46</td>\n",
        "      <td> 1000</td>\n",
        "      <td> Z</td>\n",
        "    </tr>\n",
        "  </tbody>\n",
        "</table>\n",
        "</div>"
       ],
       "output_type": "pyout",
       "prompt_number": 206,
       "text": [
        "                             Price  Volume Exchange Code\n",
        "ts                                                      \n",
        "2011-11-01 08:04:56.364000  104.55     100             P\n",
        "2011-11-01 08:53:07.459000  104.43     150             T\n",
        "2011-11-01 08:53:09.284000  104.43     100             T\n",
        "2011-11-01 08:54:03.921000  104.50     100             P\n",
        "2011-11-01 08:58:06.162000  104.46    1000             Z"
       ]
      }
     ],
     "prompt_number": 206
    },
    {
     "cell_type": "markdown",
     "metadata": {},
     "source": [
      "### Practical 2:\n",
      "\n",
      "Reimplement DataFrame.cov"
     ]
    },
    {
     "cell_type": "code",
     "collapsed": false,
     "input": [
      "df.cov()"
     ],
     "language": "python",
     "metadata": {},
     "outputs": [
      {
       "html": [
        "<div style=\"max-height:1000px;max-width:1500px;overflow:auto;\">\n",
        "<table border=\"1\" class=\"dataframe\">\n",
        "  <thead>\n",
        "    <tr style=\"text-align: right;\">\n",
        "      <th></th>\n",
        "      <th>Price</th>\n",
        "      <th>Volume</th>\n",
        "    </tr>\n",
        "  </thead>\n",
        "  <tbody>\n",
        "    <tr>\n",
        "      <td><strong>Price</strong></td>\n",
        "      <td> 0.004943</td>\n",
        "      <td>       0.618009</td>\n",
        "    </tr>\n",
        "    <tr>\n",
        "      <td><strong>Volume</strong></td>\n",
        "      <td> 0.618009</td>\n",
        "      <td> 4747023.695855</td>\n",
        "    </tr>\n",
        "  </tbody>\n",
        "</table>\n",
        "</div>"
       ],
       "output_type": "pyout",
       "prompt_number": 207,
       "text": [
        "           Price          Volume\n",
        "Price   0.004943        0.618009\n",
        "Volume  0.618009  4747023.695855"
       ]
      }
     ],
     "prompt_number": 207
    },
    {
     "cell_type": "code",
     "collapsed": false,
     "input": [
      "demeaned = df - df.mean()\n",
      "numer = demeaned.T.dot(demeaned)\n",
      "denom = demeaned.count()\n",
      "numer / denom"
     ],
     "language": "python",
     "metadata": {},
     "outputs": [
      {
       "html": [
        "<div style=\"max-height:1000px;max-width:1500px;overflow:auto;\">\n",
        "<table border=\"1\" class=\"dataframe\">\n",
        "  <thead>\n",
        "    <tr style=\"text-align: right;\">\n",
        "      <th></th>\n",
        "      <th>Price</th>\n",
        "      <th>Volume</th>\n",
        "    </tr>\n",
        "  </thead>\n",
        "  <tbody>\n",
        "    <tr>\n",
        "      <td><strong>Price</strong></td>\n",
        "      <td> 0.004939</td>\n",
        "      <td>       0.617391</td>\n",
        "    </tr>\n",
        "    <tr>\n",
        "      <td><strong>Volume</strong></td>\n",
        "      <td> 0.617391</td>\n",
        "      <td> 4742276.672159</td>\n",
        "    </tr>\n",
        "  </tbody>\n",
        "</table>\n",
        "</div>"
       ],
       "output_type": "pyout",
       "prompt_number": 208,
       "text": [
        "           Price          Volume\n",
        "Price   0.004939        0.617391\n",
        "Volume  0.617391  4742276.672159"
       ]
      }
     ],
     "prompt_number": 208
    },
    {
     "cell_type": "markdown",
     "metadata": {},
     "source": [
      "Sample cov!"
     ]
    },
    {
     "cell_type": "code",
     "collapsed": false,
     "input": [
      "numer / (denom - 1)"
     ],
     "language": "python",
     "metadata": {},
     "outputs": [
      {
       "html": [
        "<div style=\"max-height:1000px;max-width:1500px;overflow:auto;\">\n",
        "<table border=\"1\" class=\"dataframe\">\n",
        "  <thead>\n",
        "    <tr style=\"text-align: right;\">\n",
        "      <th></th>\n",
        "      <th>Price</th>\n",
        "      <th>Volume</th>\n",
        "    </tr>\n",
        "  </thead>\n",
        "  <tbody>\n",
        "    <tr>\n",
        "      <td><strong>Price</strong></td>\n",
        "      <td> 0.004943</td>\n",
        "      <td>       0.618009</td>\n",
        "    </tr>\n",
        "    <tr>\n",
        "      <td><strong>Volume</strong></td>\n",
        "      <td> 0.618009</td>\n",
        "      <td> 4747023.695855</td>\n",
        "    </tr>\n",
        "  </tbody>\n",
        "</table>\n",
        "</div>"
       ],
       "output_type": "pyout",
       "prompt_number": 209,
       "text": [
        "           Price          Volume\n",
        "Price   0.004943        0.618009\n",
        "Volume  0.618009  4747023.695855"
       ]
      }
     ],
     "prompt_number": 209
    },
    {
     "cell_type": "markdown",
     "metadata": {},
     "source": [
      "Now package it up as a function and test against DataFrame.cov"
     ]
    },
    {
     "cell_type": "code",
     "collapsed": false,
     "input": [
      "def cov(df):\n",
      "    demeaned = df - df.mean()\n",
      "    numer = demeaned.T.dot(demeaned)\n",
      "    denom = demeaned.count()\n",
      "    return numer / (denom - 1)"
     ],
     "language": "python",
     "metadata": {},
     "outputs": []
    },
    {
     "cell_type": "markdown",
     "metadata": {},
     "source": [
      "#### Extra credit: what about NA handling?"
     ]
    },
    {
     "cell_type": "code",
     "collapsed": false,
     "input": [
      "df2 = df.copy()\n",
      "df2.ix[:10, 0] = np.nan\n",
      "df2.ix[-10:, 1] = np.nan"
     ],
     "language": "python",
     "metadata": {},
     "outputs": []
    },
    {
     "cell_type": "code",
     "collapsed": false,
     "input": [
      "cov(df2)"
     ],
     "language": "python",
     "metadata": {},
     "outputs": []
    },
    {
     "cell_type": "markdown",
     "metadata": {},
     "source": [
      "oops, we want to limit the data here"
     ]
    },
    {
     "cell_type": "code",
     "collapsed": false,
     "input": [
      "cov(df2.dropna())"
     ],
     "language": "python",
     "metadata": {},
     "outputs": []
    },
    {
     "cell_type": "code",
     "collapsed": false,
     "input": [
      "df2.cov()"
     ],
     "language": "python",
     "metadata": {},
     "outputs": []
    },
    {
     "cell_type": "markdown",
     "metadata": {},
     "source": [
      "Take home: how to implement this NA handling generically for arbitrary sized DataFrame?"
     ]
    },
    {
     "cell_type": "markdown",
     "metadata": {},
     "source": [
      "### Data alignment"
     ]
    },
    {
     "cell_type": "code",
     "collapsed": false,
     "input": [
      "df.ix[:5]"
     ],
     "language": "python",
     "metadata": {},
     "outputs": [
      {
       "html": [
        "<div style=\"max-height:1000px;max-width:1500px;overflow:auto;\">\n",
        "<table border=\"1\" class=\"dataframe\">\n",
        "  <thead>\n",
        "    <tr style=\"text-align: right;\">\n",
        "      <th></th>\n",
        "      <th>Price</th>\n",
        "      <th>Volume</th>\n",
        "    </tr>\n",
        "    <tr>\n",
        "      <th>ts</th>\n",
        "      <th></th>\n",
        "      <th></th>\n",
        "    </tr>\n",
        "  </thead>\n",
        "  <tbody>\n",
        "    <tr>\n",
        "      <td><strong>2011-11-01 08:04:56.364000</strong></td>\n",
        "      <td> 104.55</td>\n",
        "      <td>  100</td>\n",
        "    </tr>\n",
        "    <tr>\n",
        "      <td><strong>2011-11-01 08:53:07.459000</strong></td>\n",
        "      <td> 104.43</td>\n",
        "      <td>  150</td>\n",
        "    </tr>\n",
        "    <tr>\n",
        "      <td><strong>2011-11-01 08:53:09.284000</strong></td>\n",
        "      <td> 104.43</td>\n",
        "      <td>  100</td>\n",
        "    </tr>\n",
        "    <tr>\n",
        "      <td><strong>2011-11-01 08:54:03.921000</strong></td>\n",
        "      <td> 104.50</td>\n",
        "      <td>  100</td>\n",
        "    </tr>\n",
        "    <tr>\n",
        "      <td><strong>2011-11-01 08:58:06.162000</strong></td>\n",
        "      <td> 104.46</td>\n",
        "      <td> 1000</td>\n",
        "    </tr>\n",
        "  </tbody>\n",
        "</table>\n",
        "</div>"
       ],
       "output_type": "pyout",
       "prompt_number": 210,
       "text": [
        "                             Price  Volume\n",
        "ts                                        \n",
        "2011-11-01 08:04:56.364000  104.55     100\n",
        "2011-11-01 08:53:07.459000  104.43     150\n",
        "2011-11-01 08:53:09.284000  104.43     100\n",
        "2011-11-01 08:54:03.921000  104.50     100\n",
        "2011-11-01 08:58:06.162000  104.46    1000"
       ]
      }
     ],
     "prompt_number": 210
    },
    {
     "cell_type": "code",
     "collapsed": false,
     "input": [
      "df.ix[6:11]"
     ],
     "language": "python",
     "metadata": {},
     "outputs": [
      {
       "html": [
        "<div style=\"max-height:1000px;max-width:1500px;overflow:auto;\">\n",
        "<table border=\"1\" class=\"dataframe\">\n",
        "  <thead>\n",
        "    <tr style=\"text-align: right;\">\n",
        "      <th></th>\n",
        "      <th>Price</th>\n",
        "      <th>Volume</th>\n",
        "    </tr>\n",
        "    <tr>\n",
        "      <th>ts</th>\n",
        "      <th></th>\n",
        "      <th></th>\n",
        "    </tr>\n",
        "  </thead>\n",
        "  <tbody>\n",
        "    <tr>\n",
        "      <td><strong>2011-11-01 08:58:06.162000</strong></td>\n",
        "      <td> 104.4600</td>\n",
        "      <td> 1000</td>\n",
        "    </tr>\n",
        "    <tr>\n",
        "      <td><strong>2011-11-01 08:58:06.164000</strong></td>\n",
        "      <td> 104.4600</td>\n",
        "      <td> 1000</td>\n",
        "    </tr>\n",
        "    <tr>\n",
        "      <td><strong>2011-11-01 08:58:06.164000</strong></td>\n",
        "      <td> 104.4600</td>\n",
        "      <td> 1000</td>\n",
        "    </tr>\n",
        "    <tr>\n",
        "      <td><strong>2011-11-01 09:28:59.153000</strong></td>\n",
        "      <td> 104.1700</td>\n",
        "      <td>  100</td>\n",
        "    </tr>\n",
        "    <tr>\n",
        "      <td><strong>2011-11-01 09:29:53.651000</strong></td>\n",
        "      <td> 103.3008</td>\n",
        "      <td>  426</td>\n",
        "    </tr>\n",
        "  </tbody>\n",
        "</table>\n",
        "</div>"
       ],
       "output_type": "pyout",
       "prompt_number": 211,
       "text": [
        "                               Price  Volume\n",
        "ts                                          \n",
        "2011-11-01 08:58:06.162000  104.4600    1000\n",
        "2011-11-01 08:58:06.164000  104.4600    1000\n",
        "2011-11-01 08:58:06.164000  104.4600    1000\n",
        "2011-11-01 09:28:59.153000  104.1700     100\n",
        "2011-11-01 09:29:53.651000  103.3008     426"
       ]
      }
     ],
     "prompt_number": 211
    },
    {
     "cell_type": "code",
     "collapsed": false,
     "input": [
      "df.ix[:5] + df.ix[6:11]"
     ],
     "language": "python",
     "metadata": {},
     "outputs": [
      {
       "html": [
        "<div style=\"max-height:1000px;max-width:1500px;overflow:auto;\">\n",
        "<table border=\"1\" class=\"dataframe\">\n",
        "  <thead>\n",
        "    <tr style=\"text-align: right;\">\n",
        "      <th></th>\n",
        "      <th>Price</th>\n",
        "      <th>Volume</th>\n",
        "    </tr>\n",
        "    <tr>\n",
        "      <th>ts</th>\n",
        "      <th></th>\n",
        "      <th></th>\n",
        "    </tr>\n",
        "  </thead>\n",
        "  <tbody>\n",
        "    <tr>\n",
        "      <td><strong>2011-11-01 08:04:56.364000</strong></td>\n",
        "      <td>    NaN</td>\n",
        "      <td>  NaN</td>\n",
        "    </tr>\n",
        "    <tr>\n",
        "      <td><strong>2011-11-01 08:53:07.459000</strong></td>\n",
        "      <td>    NaN</td>\n",
        "      <td>  NaN</td>\n",
        "    </tr>\n",
        "    <tr>\n",
        "      <td><strong>2011-11-01 08:53:09.284000</strong></td>\n",
        "      <td>    NaN</td>\n",
        "      <td>  NaN</td>\n",
        "    </tr>\n",
        "    <tr>\n",
        "      <td><strong>2011-11-01 08:54:03.921000</strong></td>\n",
        "      <td>    NaN</td>\n",
        "      <td>  NaN</td>\n",
        "    </tr>\n",
        "    <tr>\n",
        "      <td><strong>2011-11-01 08:58:06.162000</strong></td>\n",
        "      <td> 208.92</td>\n",
        "      <td> 2000</td>\n",
        "    </tr>\n",
        "    <tr>\n",
        "      <td><strong>2011-11-01 08:58:06.164000</strong></td>\n",
        "      <td>    NaN</td>\n",
        "      <td>  NaN</td>\n",
        "    </tr>\n",
        "    <tr>\n",
        "      <td><strong>2011-11-01 08:58:06.164000</strong></td>\n",
        "      <td>    NaN</td>\n",
        "      <td>  NaN</td>\n",
        "    </tr>\n",
        "    <tr>\n",
        "      <td><strong>2011-11-01 09:28:59.153000</strong></td>\n",
        "      <td>    NaN</td>\n",
        "      <td>  NaN</td>\n",
        "    </tr>\n",
        "    <tr>\n",
        "      <td><strong>2011-11-01 09:29:53.651000</strong></td>\n",
        "      <td>    NaN</td>\n",
        "      <td>  NaN</td>\n",
        "    </tr>\n",
        "  </tbody>\n",
        "</table>\n",
        "</div>"
       ],
       "output_type": "pyout",
       "prompt_number": 212,
       "text": [
        "                             Price  Volume\n",
        "ts                                        \n",
        "2011-11-01 08:04:56.364000     NaN     NaN\n",
        "2011-11-01 08:53:07.459000     NaN     NaN\n",
        "2011-11-01 08:53:09.284000     NaN     NaN\n",
        "2011-11-01 08:54:03.921000     NaN     NaN\n",
        "2011-11-01 08:58:06.162000  208.92    2000\n",
        "2011-11-01 08:58:06.164000     NaN     NaN\n",
        "2011-11-01 08:58:06.164000     NaN     NaN\n",
        "2011-11-01 09:28:59.153000     NaN     NaN\n",
        "2011-11-01 09:29:53.651000     NaN     NaN"
       ]
      }
     ],
     "prompt_number": 212
    },
    {
     "cell_type": "markdown",
     "metadata": {},
     "source": [
      "#### What is df.ix[:5] + df.ix[6:11]?"
     ]
    },
    {
     "cell_type": "markdown",
     "metadata": {},
     "source": [
      "### Creating lagged/lead data with shift"
     ]
    },
    {
     "cell_type": "code",
     "collapsed": false,
     "input": [
      "df.head()"
     ],
     "language": "python",
     "metadata": {},
     "outputs": [
      {
       "html": [
        "<div style=\"max-height:1000px;max-width:1500px;overflow:auto;\">\n",
        "<table border=\"1\" class=\"dataframe\">\n",
        "  <thead>\n",
        "    <tr style=\"text-align: right;\">\n",
        "      <th></th>\n",
        "      <th>Price</th>\n",
        "      <th>Volume</th>\n",
        "    </tr>\n",
        "    <tr>\n",
        "      <th>ts</th>\n",
        "      <th></th>\n",
        "      <th></th>\n",
        "    </tr>\n",
        "  </thead>\n",
        "  <tbody>\n",
        "    <tr>\n",
        "      <td><strong>2011-11-01 08:04:56.364000</strong></td>\n",
        "      <td> 104.55</td>\n",
        "      <td>  100</td>\n",
        "    </tr>\n",
        "    <tr>\n",
        "      <td><strong>2011-11-01 08:53:07.459000</strong></td>\n",
        "      <td> 104.43</td>\n",
        "      <td>  150</td>\n",
        "    </tr>\n",
        "    <tr>\n",
        "      <td><strong>2011-11-01 08:53:09.284000</strong></td>\n",
        "      <td> 104.43</td>\n",
        "      <td>  100</td>\n",
        "    </tr>\n",
        "    <tr>\n",
        "      <td><strong>2011-11-01 08:54:03.921000</strong></td>\n",
        "      <td> 104.50</td>\n",
        "      <td>  100</td>\n",
        "    </tr>\n",
        "    <tr>\n",
        "      <td><strong>2011-11-01 08:58:06.162000</strong></td>\n",
        "      <td> 104.46</td>\n",
        "      <td> 1000</td>\n",
        "    </tr>\n",
        "  </tbody>\n",
        "</table>\n",
        "</div>"
       ],
       "output_type": "pyout",
       "prompt_number": 213,
       "text": [
        "                             Price  Volume\n",
        "ts                                        \n",
        "2011-11-01 08:04:56.364000  104.55     100\n",
        "2011-11-01 08:53:07.459000  104.43     150\n",
        "2011-11-01 08:53:09.284000  104.43     100\n",
        "2011-11-01 08:54:03.921000  104.50     100\n",
        "2011-11-01 08:58:06.162000  104.46    1000"
       ]
      }
     ],
     "prompt_number": 213
    },
    {
     "cell_type": "code",
     "collapsed": false,
     "input": [
      "df.head().shift()"
     ],
     "language": "python",
     "metadata": {},
     "outputs": [
      {
       "html": [
        "<div style=\"max-height:1000px;max-width:1500px;overflow:auto;\">\n",
        "<table border=\"1\" class=\"dataframe\">\n",
        "  <thead>\n",
        "    <tr style=\"text-align: right;\">\n",
        "      <th></th>\n",
        "      <th>Price</th>\n",
        "      <th>Volume</th>\n",
        "    </tr>\n",
        "    <tr>\n",
        "      <th>ts</th>\n",
        "      <th></th>\n",
        "      <th></th>\n",
        "    </tr>\n",
        "  </thead>\n",
        "  <tbody>\n",
        "    <tr>\n",
        "      <td><strong>2011-11-01 08:04:56.364000</strong></td>\n",
        "      <td>    NaN</td>\n",
        "      <td> NaN</td>\n",
        "    </tr>\n",
        "    <tr>\n",
        "      <td><strong>2011-11-01 08:53:07.459000</strong></td>\n",
        "      <td> 104.55</td>\n",
        "      <td> 100</td>\n",
        "    </tr>\n",
        "    <tr>\n",
        "      <td><strong>2011-11-01 08:53:09.284000</strong></td>\n",
        "      <td> 104.43</td>\n",
        "      <td> 150</td>\n",
        "    </tr>\n",
        "    <tr>\n",
        "      <td><strong>2011-11-01 08:54:03.921000</strong></td>\n",
        "      <td> 104.43</td>\n",
        "      <td> 100</td>\n",
        "    </tr>\n",
        "    <tr>\n",
        "      <td><strong>2011-11-01 08:58:06.162000</strong></td>\n",
        "      <td> 104.50</td>\n",
        "      <td> 100</td>\n",
        "    </tr>\n",
        "  </tbody>\n",
        "</table>\n",
        "</div>"
       ],
       "output_type": "pyout",
       "prompt_number": 214,
       "text": [
        "                             Price  Volume\n",
        "ts                                        \n",
        "2011-11-01 08:04:56.364000     NaN     NaN\n",
        "2011-11-01 08:53:07.459000  104.55     100\n",
        "2011-11-01 08:53:09.284000  104.43     150\n",
        "2011-11-01 08:54:03.921000  104.43     100\n",
        "2011-11-01 08:58:06.162000  104.50     100"
       ]
      }
     ],
     "prompt_number": 214
    },
    {
     "cell_type": "code",
     "collapsed": false,
     "input": [
      "df.Price.pct_change()"
     ],
     "language": "python",
     "metadata": {},
     "outputs": [
      {
       "output_type": "pyout",
       "prompt_number": 215,
       "text": [
        "ts\n",
        "2011-11-01 08:04:56.364000         NaN\n",
        "2011-11-01 08:53:07.459000   -0.001148\n",
        "2011-11-01 08:53:09.284000    0.000000\n",
        "2011-11-01 08:54:03.921000    0.000670\n",
        "2011-11-01 08:58:06.162000   -0.000383\n",
        "2011-11-01 08:58:06.162000    0.000000\n",
        "2011-11-01 08:58:06.162000    0.000000\n",
        "2011-11-01 08:58:06.164000    0.000000\n",
        "2011-11-01 08:58:06.164000    0.000000\n",
        "2011-11-01 09:28:59.153000   -0.002776\n",
        "2011-11-01 09:29:53.651000   -0.008344\n",
        "2011-11-01 09:30:00.278000    0.008995\n",
        "2011-11-01 09:30:00.278000    0.000000\n",
        "2011-11-01 09:30:00.384000    0.000000\n",
        "2011-11-01 09:30:00.384000    0.000000\n",
        "...\n",
        "2011-11-01 10:01:48.143000    0.000000\n",
        "2011-11-01 10:01:48.143000    0.000000\n",
        "2011-11-01 10:01:48.682000    0.000000\n",
        "2011-11-01 10:01:56.407000    0.000177\n",
        "2011-11-01 10:02:07.914000    0.000015\n",
        "2011-11-01 10:02:07.914000    0.000000\n",
        "2011-11-01 10:02:07.924000    0.000000\n",
        "2011-11-01 10:02:10.789000    0.000096\n",
        "2011-11-01 10:02:19.687000   -0.000096\n",
        "2011-11-01 10:02:22.449000   -0.000096\n",
        "2011-11-01 10:02:22.451000    0.000000\n",
        "2011-11-01 10:02:22.451000    0.000000\n",
        "2011-11-01 10:02:22.453000    0.000000\n",
        "2011-11-01 10:02:22.455000    0.000000\n",
        "2011-11-01 10:02:46.482000   -0.000192\n",
        "Name: Price, Length: 1000"
       ]
      }
     ],
     "prompt_number": 215
    },
    {
     "cell_type": "markdown",
     "metadata": {},
     "source": [
      "### reindex"
     ]
    },
    {
     "cell_type": "code",
     "collapsed": false,
     "input": [
      "every_other = df.ix[[0, 1, 2, 5, 7]]\n",
      "every_other"
     ],
     "language": "python",
     "metadata": {},
     "outputs": [
      {
       "html": [
        "<div style=\"max-height:1000px;max-width:1500px;overflow:auto;\">\n",
        "<table border=\"1\" class=\"dataframe\">\n",
        "  <thead>\n",
        "    <tr style=\"text-align: right;\">\n",
        "      <th></th>\n",
        "      <th>Price</th>\n",
        "      <th>Volume</th>\n",
        "    </tr>\n",
        "    <tr>\n",
        "      <th>ts</th>\n",
        "      <th></th>\n",
        "      <th></th>\n",
        "    </tr>\n",
        "  </thead>\n",
        "  <tbody>\n",
        "    <tr>\n",
        "      <td><strong>2011-11-01 08:04:56.364000</strong></td>\n",
        "      <td> 104.55</td>\n",
        "      <td>  100</td>\n",
        "    </tr>\n",
        "    <tr>\n",
        "      <td><strong>2011-11-01 08:53:07.459000</strong></td>\n",
        "      <td> 104.43</td>\n",
        "      <td>  150</td>\n",
        "    </tr>\n",
        "    <tr>\n",
        "      <td><strong>2011-11-01 08:53:09.284000</strong></td>\n",
        "      <td> 104.43</td>\n",
        "      <td>  100</td>\n",
        "    </tr>\n",
        "    <tr>\n",
        "      <td><strong>2011-11-01 08:58:06.162000</strong></td>\n",
        "      <td> 104.46</td>\n",
        "      <td> 1000</td>\n",
        "    </tr>\n",
        "    <tr>\n",
        "      <td><strong>2011-11-01 08:58:06.164000</strong></td>\n",
        "      <td> 104.46</td>\n",
        "      <td> 1000</td>\n",
        "    </tr>\n",
        "  </tbody>\n",
        "</table>\n",
        "</div>"
       ],
       "output_type": "pyout",
       "prompt_number": 216,
       "text": [
        "                             Price  Volume\n",
        "ts                                        \n",
        "2011-11-01 08:04:56.364000  104.55     100\n",
        "2011-11-01 08:53:07.459000  104.43     150\n",
        "2011-11-01 08:53:09.284000  104.43     100\n",
        "2011-11-01 08:58:06.162000  104.46    1000\n",
        "2011-11-01 08:58:06.164000  104.46    1000"
       ]
      }
     ],
     "prompt_number": 216
    },
    {
     "cell_type": "code",
     "collapsed": false,
     "input": [
      "missing = every_other.reindex(df.ix[:20].index)\n",
      "missing"
     ],
     "language": "python",
     "metadata": {},
     "outputs": [
      {
       "html": [
        "<div style=\"max-height:1000px;max-width:1500px;overflow:auto;\">\n",
        "<table border=\"1\" class=\"dataframe\">\n",
        "  <thead>\n",
        "    <tr style=\"text-align: right;\">\n",
        "      <th></th>\n",
        "      <th>Price</th>\n",
        "      <th>Volume</th>\n",
        "    </tr>\n",
        "    <tr>\n",
        "      <th>ts</th>\n",
        "      <th></th>\n",
        "      <th></th>\n",
        "    </tr>\n",
        "  </thead>\n",
        "  <tbody>\n",
        "    <tr>\n",
        "      <td><strong>2011-11-01 08:04:56.364000</strong></td>\n",
        "      <td> 104.55</td>\n",
        "      <td>  100</td>\n",
        "    </tr>\n",
        "    <tr>\n",
        "      <td><strong>2011-11-01 08:53:07.459000</strong></td>\n",
        "      <td> 104.43</td>\n",
        "      <td>  150</td>\n",
        "    </tr>\n",
        "    <tr>\n",
        "      <td><strong>2011-11-01 08:53:09.284000</strong></td>\n",
        "      <td> 104.43</td>\n",
        "      <td>  100</td>\n",
        "    </tr>\n",
        "    <tr>\n",
        "      <td><strong>2011-11-01 08:54:03.921000</strong></td>\n",
        "      <td>    NaN</td>\n",
        "      <td>  NaN</td>\n",
        "    </tr>\n",
        "    <tr>\n",
        "      <td><strong>2011-11-01 08:58:06.162000</strong></td>\n",
        "      <td> 104.46</td>\n",
        "      <td> 1000</td>\n",
        "    </tr>\n",
        "    <tr>\n",
        "      <td><strong>2011-11-01 08:58:06.162000</strong></td>\n",
        "      <td> 104.46</td>\n",
        "      <td> 1000</td>\n",
        "    </tr>\n",
        "    <tr>\n",
        "      <td><strong>2011-11-01 08:58:06.162000</strong></td>\n",
        "      <td> 104.46</td>\n",
        "      <td> 1000</td>\n",
        "    </tr>\n",
        "    <tr>\n",
        "      <td><strong>2011-11-01 08:58:06.164000</strong></td>\n",
        "      <td> 104.46</td>\n",
        "      <td> 1000</td>\n",
        "    </tr>\n",
        "    <tr>\n",
        "      <td><strong>2011-11-01 08:58:06.164000</strong></td>\n",
        "      <td> 104.46</td>\n",
        "      <td> 1000</td>\n",
        "    </tr>\n",
        "    <tr>\n",
        "      <td><strong>2011-11-01 09:28:59.153000</strong></td>\n",
        "      <td>    NaN</td>\n",
        "      <td>  NaN</td>\n",
        "    </tr>\n",
        "    <tr>\n",
        "      <td><strong>2011-11-01 09:29:53.651000</strong></td>\n",
        "      <td>    NaN</td>\n",
        "      <td>  NaN</td>\n",
        "    </tr>\n",
        "    <tr>\n",
        "      <td><strong>2011-11-01 09:30:00.278000</strong></td>\n",
        "      <td>    NaN</td>\n",
        "      <td>  NaN</td>\n",
        "    </tr>\n",
        "    <tr>\n",
        "      <td><strong>2011-11-01 09:30:00.278000</strong></td>\n",
        "      <td>    NaN</td>\n",
        "      <td>  NaN</td>\n",
        "    </tr>\n",
        "    <tr>\n",
        "      <td><strong>2011-11-01 09:30:00.384000</strong></td>\n",
        "      <td>    NaN</td>\n",
        "      <td>  NaN</td>\n",
        "    </tr>\n",
        "    <tr>\n",
        "      <td><strong>2011-11-01 09:30:00.384000</strong></td>\n",
        "      <td>    NaN</td>\n",
        "      <td>  NaN</td>\n",
        "    </tr>\n",
        "    <tr>\n",
        "      <td><strong>2011-11-01 09:30:00.384000</strong></td>\n",
        "      <td>    NaN</td>\n",
        "      <td>  NaN</td>\n",
        "    </tr>\n",
        "    <tr>\n",
        "      <td><strong>2011-11-01 09:30:00.384000</strong></td>\n",
        "      <td>    NaN</td>\n",
        "      <td>  NaN</td>\n",
        "    </tr>\n",
        "    <tr>\n",
        "      <td><strong>2011-11-01 09:30:00.384000</strong></td>\n",
        "      <td>    NaN</td>\n",
        "      <td>  NaN</td>\n",
        "    </tr>\n",
        "    <tr>\n",
        "      <td><strong>2011-11-01 09:30:00.384000</strong></td>\n",
        "      <td>    NaN</td>\n",
        "      <td>  NaN</td>\n",
        "    </tr>\n",
        "    <tr>\n",
        "      <td><strong>2011-11-01 09:30:00.384000</strong></td>\n",
        "      <td>    NaN</td>\n",
        "      <td>  NaN</td>\n",
        "    </tr>\n",
        "  </tbody>\n",
        "</table>\n",
        "</div>"
       ],
       "output_type": "pyout",
       "prompt_number": 217,
       "text": [
        "                             Price  Volume\n",
        "ts                                        \n",
        "2011-11-01 08:04:56.364000  104.55     100\n",
        "2011-11-01 08:53:07.459000  104.43     150\n",
        "2011-11-01 08:53:09.284000  104.43     100\n",
        "2011-11-01 08:54:03.921000     NaN     NaN\n",
        "2011-11-01 08:58:06.162000  104.46    1000\n",
        "2011-11-01 08:58:06.162000  104.46    1000\n",
        "2011-11-01 08:58:06.162000  104.46    1000\n",
        "2011-11-01 08:58:06.164000  104.46    1000\n",
        "2011-11-01 08:58:06.164000  104.46    1000\n",
        "2011-11-01 09:28:59.153000     NaN     NaN\n",
        "2011-11-01 09:29:53.651000     NaN     NaN\n",
        "2011-11-01 09:30:00.278000     NaN     NaN\n",
        "2011-11-01 09:30:00.278000     NaN     NaN\n",
        "2011-11-01 09:30:00.384000     NaN     NaN\n",
        "2011-11-01 09:30:00.384000     NaN     NaN\n",
        "2011-11-01 09:30:00.384000     NaN     NaN\n",
        "2011-11-01 09:30:00.384000     NaN     NaN\n",
        "2011-11-01 09:30:00.384000     NaN     NaN\n",
        "2011-11-01 09:30:00.384000     NaN     NaN\n",
        "2011-11-01 09:30:00.384000     NaN     NaN"
       ]
      }
     ],
     "prompt_number": 217
    },
    {
     "cell_type": "code",
     "collapsed": false,
     "input": [
      "df = ticks.ix[:, ['Price', 'Volume']]\n",
      "df"
     ],
     "language": "python",
     "metadata": {},
     "outputs": []
    },
    {
     "cell_type": "code",
     "collapsed": false,
     "input": [
      "df = ticks.reindex(columns=['Price', 'Volume'])\n",
      "df"
     ],
     "language": "python",
     "metadata": {},
     "outputs": []
    },
    {
     "cell_type": "markdown",
     "metadata": {},
     "source": [
      "## Missing Data"
     ]
    },
    {
     "cell_type": "code",
     "collapsed": false,
     "input": [
      "missing"
     ],
     "language": "python",
     "metadata": {},
     "outputs": [
      {
       "html": [
        "<div style=\"max-height:1000px;max-width:1500px;overflow:auto;\">\n",
        "<table border=\"1\" class=\"dataframe\">\n",
        "  <thead>\n",
        "    <tr style=\"text-align: right;\">\n",
        "      <th></th>\n",
        "      <th>Price</th>\n",
        "      <th>Volume</th>\n",
        "    </tr>\n",
        "    <tr>\n",
        "      <th>ts</th>\n",
        "      <th></th>\n",
        "      <th></th>\n",
        "    </tr>\n",
        "  </thead>\n",
        "  <tbody>\n",
        "    <tr>\n",
        "      <td><strong>2011-11-01 08:04:56.364000</strong></td>\n",
        "      <td> 104.55</td>\n",
        "      <td>  100</td>\n",
        "    </tr>\n",
        "    <tr>\n",
        "      <td><strong>2011-11-01 08:53:07.459000</strong></td>\n",
        "      <td> 104.43</td>\n",
        "      <td>  150</td>\n",
        "    </tr>\n",
        "    <tr>\n",
        "      <td><strong>2011-11-01 08:53:09.284000</strong></td>\n",
        "      <td> 104.43</td>\n",
        "      <td>  100</td>\n",
        "    </tr>\n",
        "    <tr>\n",
        "      <td><strong>2011-11-01 08:54:03.921000</strong></td>\n",
        "      <td>    NaN</td>\n",
        "      <td>  NaN</td>\n",
        "    </tr>\n",
        "    <tr>\n",
        "      <td><strong>2011-11-01 08:58:06.162000</strong></td>\n",
        "      <td> 104.46</td>\n",
        "      <td> 1000</td>\n",
        "    </tr>\n",
        "    <tr>\n",
        "      <td><strong>2011-11-01 08:58:06.162000</strong></td>\n",
        "      <td> 104.46</td>\n",
        "      <td> 1000</td>\n",
        "    </tr>\n",
        "    <tr>\n",
        "      <td><strong>2011-11-01 08:58:06.162000</strong></td>\n",
        "      <td> 104.46</td>\n",
        "      <td> 1000</td>\n",
        "    </tr>\n",
        "    <tr>\n",
        "      <td><strong>2011-11-01 08:58:06.164000</strong></td>\n",
        "      <td> 104.46</td>\n",
        "      <td> 1000</td>\n",
        "    </tr>\n",
        "    <tr>\n",
        "      <td><strong>2011-11-01 08:58:06.164000</strong></td>\n",
        "      <td> 104.46</td>\n",
        "      <td> 1000</td>\n",
        "    </tr>\n",
        "    <tr>\n",
        "      <td><strong>2011-11-01 09:28:59.153000</strong></td>\n",
        "      <td>    NaN</td>\n",
        "      <td>  NaN</td>\n",
        "    </tr>\n",
        "    <tr>\n",
        "      <td><strong>2011-11-01 09:29:53.651000</strong></td>\n",
        "      <td>    NaN</td>\n",
        "      <td>  NaN</td>\n",
        "    </tr>\n",
        "    <tr>\n",
        "      <td><strong>2011-11-01 09:30:00.278000</strong></td>\n",
        "      <td>    NaN</td>\n",
        "      <td>  NaN</td>\n",
        "    </tr>\n",
        "    <tr>\n",
        "      <td><strong>2011-11-01 09:30:00.278000</strong></td>\n",
        "      <td>    NaN</td>\n",
        "      <td>  NaN</td>\n",
        "    </tr>\n",
        "    <tr>\n",
        "      <td><strong>2011-11-01 09:30:00.384000</strong></td>\n",
        "      <td>    NaN</td>\n",
        "      <td>  NaN</td>\n",
        "    </tr>\n",
        "    <tr>\n",
        "      <td><strong>2011-11-01 09:30:00.384000</strong></td>\n",
        "      <td>    NaN</td>\n",
        "      <td>  NaN</td>\n",
        "    </tr>\n",
        "    <tr>\n",
        "      <td><strong>2011-11-01 09:30:00.384000</strong></td>\n",
        "      <td>    NaN</td>\n",
        "      <td>  NaN</td>\n",
        "    </tr>\n",
        "    <tr>\n",
        "      <td><strong>2011-11-01 09:30:00.384000</strong></td>\n",
        "      <td>    NaN</td>\n",
        "      <td>  NaN</td>\n",
        "    </tr>\n",
        "    <tr>\n",
        "      <td><strong>2011-11-01 09:30:00.384000</strong></td>\n",
        "      <td>    NaN</td>\n",
        "      <td>  NaN</td>\n",
        "    </tr>\n",
        "    <tr>\n",
        "      <td><strong>2011-11-01 09:30:00.384000</strong></td>\n",
        "      <td>    NaN</td>\n",
        "      <td>  NaN</td>\n",
        "    </tr>\n",
        "    <tr>\n",
        "      <td><strong>2011-11-01 09:30:00.384000</strong></td>\n",
        "      <td>    NaN</td>\n",
        "      <td>  NaN</td>\n",
        "    </tr>\n",
        "  </tbody>\n",
        "</table>\n",
        "</div>"
       ],
       "output_type": "pyout",
       "prompt_number": 218,
       "text": [
        "                             Price  Volume\n",
        "ts                                        \n",
        "2011-11-01 08:04:56.364000  104.55     100\n",
        "2011-11-01 08:53:07.459000  104.43     150\n",
        "2011-11-01 08:53:09.284000  104.43     100\n",
        "2011-11-01 08:54:03.921000     NaN     NaN\n",
        "2011-11-01 08:58:06.162000  104.46    1000\n",
        "2011-11-01 08:58:06.162000  104.46    1000\n",
        "2011-11-01 08:58:06.162000  104.46    1000\n",
        "2011-11-01 08:58:06.164000  104.46    1000\n",
        "2011-11-01 08:58:06.164000  104.46    1000\n",
        "2011-11-01 09:28:59.153000     NaN     NaN\n",
        "2011-11-01 09:29:53.651000     NaN     NaN\n",
        "2011-11-01 09:30:00.278000     NaN     NaN\n",
        "2011-11-01 09:30:00.278000     NaN     NaN\n",
        "2011-11-01 09:30:00.384000     NaN     NaN\n",
        "2011-11-01 09:30:00.384000     NaN     NaN\n",
        "2011-11-01 09:30:00.384000     NaN     NaN\n",
        "2011-11-01 09:30:00.384000     NaN     NaN\n",
        "2011-11-01 09:30:00.384000     NaN     NaN\n",
        "2011-11-01 09:30:00.384000     NaN     NaN\n",
        "2011-11-01 09:30:00.384000     NaN     NaN"
       ]
      }
     ],
     "prompt_number": 218
    },
    {
     "cell_type": "markdown",
     "metadata": {},
     "source": [
      "#### Pandas NA handling is intrinsic"
     ]
    },
    {
     "cell_type": "code",
     "collapsed": false,
     "input": [
      "missing.mean()"
     ],
     "language": "python",
     "metadata": {},
     "outputs": [
      {
       "output_type": "pyout",
       "prompt_number": 219,
       "text": [
        "Price     104.46375\n",
        "Volume    668.75000"
       ]
      }
     ],
     "prompt_number": 219
    },
    {
     "cell_type": "code",
     "collapsed": false,
     "input": [
      "missing.values"
     ],
     "language": "python",
     "metadata": {},
     "outputs": [
      {
       "output_type": "pyout",
       "prompt_number": 220,
       "text": [
        "array([[  104.55,   100.  ],\n",
        "       [  104.43,   150.  ],\n",
        "       [  104.43,   100.  ],\n",
        "       [     nan,      nan],\n",
        "       [  104.46,  1000.  ],\n",
        "       [  104.46,  1000.  ],\n",
        "       [  104.46,  1000.  ],\n",
        "       [  104.46,  1000.  ],\n",
        "       [  104.46,  1000.  ],\n",
        "       [     nan,      nan],\n",
        "       [     nan,      nan],\n",
        "       [     nan,      nan],\n",
        "       [     nan,      nan],\n",
        "       [     nan,      nan],\n",
        "       [     nan,      nan],\n",
        "       [     nan,      nan],\n",
        "       [     nan,      nan],\n",
        "       [     nan,      nan],\n",
        "       [     nan,      nan],\n",
        "       [     nan,      nan]])"
       ]
      }
     ],
     "prompt_number": 220
    },
    {
     "cell_type": "code",
     "collapsed": false,
     "input": [
      "missing.values.mean(axis=0)"
     ],
     "language": "python",
     "metadata": {},
     "outputs": [
      {
       "output_type": "pyout",
       "prompt_number": 221,
       "text": [
        "array([ nan,  nan])"
       ]
      }
     ],
     "prompt_number": 221
    },
    {
     "cell_type": "markdown",
     "metadata": {},
     "source": [
      "#### We can fill NAs"
     ]
    },
    {
     "cell_type": "code",
     "collapsed": false,
     "input": [
      "missing.Price"
     ],
     "language": "python",
     "metadata": {},
     "outputs": [
      {
       "output_type": "pyout",
       "prompt_number": 222,
       "text": [
        "ts\n",
        "2011-11-01 08:04:56.364000    104.55\n",
        "2011-11-01 08:53:07.459000    104.43\n",
        "2011-11-01 08:53:09.284000    104.43\n",
        "2011-11-01 08:54:03.921000       NaN\n",
        "2011-11-01 08:58:06.162000    104.46\n",
        "2011-11-01 08:58:06.162000    104.46\n",
        "2011-11-01 08:58:06.162000    104.46\n",
        "2011-11-01 08:58:06.164000    104.46\n",
        "2011-11-01 08:58:06.164000    104.46\n",
        "2011-11-01 09:28:59.153000       NaN\n",
        "2011-11-01 09:29:53.651000       NaN\n",
        "2011-11-01 09:30:00.278000       NaN\n",
        "2011-11-01 09:30:00.278000       NaN\n",
        "2011-11-01 09:30:00.384000       NaN\n",
        "2011-11-01 09:30:00.384000       NaN\n",
        "2011-11-01 09:30:00.384000       NaN\n",
        "2011-11-01 09:30:00.384000       NaN\n",
        "2011-11-01 09:30:00.384000       NaN\n",
        "2011-11-01 09:30:00.384000       NaN\n",
        "2011-11-01 09:30:00.384000       NaN\n",
        "Name: Price"
       ]
      }
     ],
     "prompt_number": 222
    },
    {
     "cell_type": "code",
     "collapsed": false,
     "input": [
      "missing.Price.fillna(method='ffill')"
     ],
     "language": "python",
     "metadata": {},
     "outputs": [
      {
       "output_type": "pyout",
       "prompt_number": 223,
       "text": [
        "ts\n",
        "2011-11-01 08:04:56.364000    104.55\n",
        "2011-11-01 08:53:07.459000    104.43\n",
        "2011-11-01 08:53:09.284000    104.43\n",
        "2011-11-01 08:54:03.921000    104.43\n",
        "2011-11-01 08:58:06.162000    104.46\n",
        "2011-11-01 08:58:06.162000    104.46\n",
        "2011-11-01 08:58:06.162000    104.46\n",
        "2011-11-01 08:58:06.164000    104.46\n",
        "2011-11-01 08:58:06.164000    104.46\n",
        "2011-11-01 09:28:59.153000    104.46\n",
        "2011-11-01 09:29:53.651000    104.46\n",
        "2011-11-01 09:30:00.278000    104.46\n",
        "2011-11-01 09:30:00.278000    104.46\n",
        "2011-11-01 09:30:00.384000    104.46\n",
        "2011-11-01 09:30:00.384000    104.46\n",
        "2011-11-01 09:30:00.384000    104.46\n",
        "2011-11-01 09:30:00.384000    104.46\n",
        "2011-11-01 09:30:00.384000    104.46\n",
        "2011-11-01 09:30:00.384000    104.46\n",
        "2011-11-01 09:30:00.384000    104.46\n",
        "Name: Price"
       ]
      }
     ],
     "prompt_number": 223
    },
    {
     "cell_type": "code",
     "collapsed": false,
     "input": [
      "missing.Price.fillna(method='bfill')"
     ],
     "language": "python",
     "metadata": {},
     "outputs": [
      {
       "output_type": "pyout",
       "prompt_number": 224,
       "text": [
        "ts\n",
        "2011-11-01 08:04:56.364000    104.55\n",
        "2011-11-01 08:53:07.459000    104.43\n",
        "2011-11-01 08:53:09.284000    104.43\n",
        "2011-11-01 08:54:03.921000    104.46\n",
        "2011-11-01 08:58:06.162000    104.46\n",
        "2011-11-01 08:58:06.162000    104.46\n",
        "2011-11-01 08:58:06.162000    104.46\n",
        "2011-11-01 08:58:06.164000    104.46\n",
        "2011-11-01 08:58:06.164000    104.46\n",
        "2011-11-01 09:28:59.153000       NaN\n",
        "2011-11-01 09:29:53.651000       NaN\n",
        "2011-11-01 09:30:00.278000       NaN\n",
        "2011-11-01 09:30:00.278000       NaN\n",
        "2011-11-01 09:30:00.384000       NaN\n",
        "2011-11-01 09:30:00.384000       NaN\n",
        "2011-11-01 09:30:00.384000       NaN\n",
        "2011-11-01 09:30:00.384000       NaN\n",
        "2011-11-01 09:30:00.384000       NaN\n",
        "2011-11-01 09:30:00.384000       NaN\n",
        "2011-11-01 09:30:00.384000       NaN\n",
        "Name: Price"
       ]
      }
     ],
     "prompt_number": 224
    },
    {
     "cell_type": "code",
     "collapsed": false,
     "input": [
      "missing.Price.fillna(method='ffill', limit=3)"
     ],
     "language": "python",
     "metadata": {},
     "outputs": [
      {
       "output_type": "pyout",
       "prompt_number": 225,
       "text": [
        "ts\n",
        "2011-11-01 08:04:56.364000    104.55\n",
        "2011-11-01 08:53:07.459000    104.43\n",
        "2011-11-01 08:53:09.284000    104.43\n",
        "2011-11-01 08:54:03.921000    104.43\n",
        "2011-11-01 08:58:06.162000    104.46\n",
        "2011-11-01 08:58:06.162000    104.46\n",
        "2011-11-01 08:58:06.162000    104.46\n",
        "2011-11-01 08:58:06.164000    104.46\n",
        "2011-11-01 08:58:06.164000    104.46\n",
        "2011-11-01 09:28:59.153000    104.46\n",
        "2011-11-01 09:29:53.651000    104.46\n",
        "2011-11-01 09:30:00.278000    104.46\n",
        "2011-11-01 09:30:00.278000       NaN\n",
        "2011-11-01 09:30:00.384000       NaN\n",
        "2011-11-01 09:30:00.384000       NaN\n",
        "2011-11-01 09:30:00.384000       NaN\n",
        "2011-11-01 09:30:00.384000       NaN\n",
        "2011-11-01 09:30:00.384000       NaN\n",
        "2011-11-01 09:30:00.384000       NaN\n",
        "2011-11-01 09:30:00.384000       NaN\n",
        "Name: Price"
       ]
      }
     ],
     "prompt_number": 225
    },
    {
     "cell_type": "markdown",
     "metadata": {},
     "source": [
      "Does the filling method matter? How? Which is appropriate for this data? for your data?"
     ]
    },
    {
     "cell_type": "markdown",
     "metadata": {},
     "source": [
      "We can fill using constant values"
     ]
    },
    {
     "cell_type": "code",
     "collapsed": false,
     "input": [
      "missing.Price.fillna(missing.Price.mean())"
     ],
     "language": "python",
     "metadata": {},
     "outputs": [
      {
       "output_type": "pyout",
       "prompt_number": 226,
       "text": [
        "ts\n",
        "2011-11-01 08:04:56.364000    104.55000\n",
        "2011-11-01 08:53:07.459000    104.43000\n",
        "2011-11-01 08:53:09.284000    104.43000\n",
        "2011-11-01 08:54:03.921000    104.46375\n",
        "2011-11-01 08:58:06.162000    104.46000\n",
        "2011-11-01 08:58:06.162000    104.46000\n",
        "2011-11-01 08:58:06.162000    104.46000\n",
        "2011-11-01 08:58:06.164000    104.46000\n",
        "2011-11-01 08:58:06.164000    104.46000\n",
        "2011-11-01 09:28:59.153000    104.46375\n",
        "2011-11-01 09:29:53.651000    104.46375\n",
        "2011-11-01 09:30:00.278000    104.46375\n",
        "2011-11-01 09:30:00.278000    104.46375\n",
        "2011-11-01 09:30:00.384000    104.46375\n",
        "2011-11-01 09:30:00.384000    104.46375\n",
        "2011-11-01 09:30:00.384000    104.46375\n",
        "2011-11-01 09:30:00.384000    104.46375\n",
        "2011-11-01 09:30:00.384000    104.46375\n",
        "2011-11-01 09:30:00.384000    104.46375\n",
        "2011-11-01 09:30:00.384000    104.46375\n",
        "Name: Price"
       ]
      }
     ],
     "prompt_number": 226
    },
    {
     "cell_type": "markdown",
     "metadata": {},
     "source": [
      "We can interpolate"
     ]
    },
    {
     "cell_type": "code",
     "collapsed": false,
     "input": [
      "missing.Price.interpolate()"
     ],
     "language": "python",
     "metadata": {},
     "outputs": [
      {
       "output_type": "pyout",
       "prompt_number": 227,
       "text": [
        "ts\n",
        "2011-11-01 08:04:56.364000    104.550\n",
        "2011-11-01 08:53:07.459000    104.430\n",
        "2011-11-01 08:53:09.284000    104.430\n",
        "2011-11-01 08:54:03.921000    104.445\n",
        "2011-11-01 08:58:06.162000    104.460\n",
        "2011-11-01 08:58:06.162000    104.460\n",
        "2011-11-01 08:58:06.162000    104.460\n",
        "2011-11-01 08:58:06.164000    104.460\n",
        "2011-11-01 08:58:06.164000    104.460\n",
        "2011-11-01 09:28:59.153000    104.460\n",
        "2011-11-01 09:29:53.651000    104.460\n",
        "2011-11-01 09:30:00.278000    104.460\n",
        "2011-11-01 09:30:00.278000    104.460\n",
        "2011-11-01 09:30:00.384000    104.460\n",
        "2011-11-01 09:30:00.384000    104.460\n",
        "2011-11-01 09:30:00.384000    104.460\n",
        "2011-11-01 09:30:00.384000    104.460\n",
        "2011-11-01 09:30:00.384000    104.460\n",
        "2011-11-01 09:30:00.384000    104.460\n",
        "2011-11-01 09:30:00.384000    104.460\n",
        "Name: Price"
       ]
      }
     ],
     "prompt_number": 227
    },
    {
     "cell_type": "code",
     "collapsed": false,
     "input": [
      "missing.apply(Series.interpolate)"
     ],
     "language": "python",
     "metadata": {},
     "outputs": [
      {
       "html": [
        "<div style=\"max-height:1000px;max-width:1500px;overflow:auto;\">\n",
        "<table border=\"1\" class=\"dataframe\">\n",
        "  <thead>\n",
        "    <tr style=\"text-align: right;\">\n",
        "      <th></th>\n",
        "      <th>Price</th>\n",
        "      <th>Volume</th>\n",
        "    </tr>\n",
        "    <tr>\n",
        "      <th>ts</th>\n",
        "      <th></th>\n",
        "      <th></th>\n",
        "    </tr>\n",
        "  </thead>\n",
        "  <tbody>\n",
        "    <tr>\n",
        "      <td><strong>2011-11-01 08:04:56.364000</strong></td>\n",
        "      <td> 104.550</td>\n",
        "      <td>  100</td>\n",
        "    </tr>\n",
        "    <tr>\n",
        "      <td><strong>2011-11-01 08:53:07.459000</strong></td>\n",
        "      <td> 104.430</td>\n",
        "      <td>  150</td>\n",
        "    </tr>\n",
        "    <tr>\n",
        "      <td><strong>2011-11-01 08:53:09.284000</strong></td>\n",
        "      <td> 104.430</td>\n",
        "      <td>  100</td>\n",
        "    </tr>\n",
        "    <tr>\n",
        "      <td><strong>2011-11-01 08:54:03.921000</strong></td>\n",
        "      <td> 104.445</td>\n",
        "      <td>  550</td>\n",
        "    </tr>\n",
        "    <tr>\n",
        "      <td><strong>2011-11-01 08:58:06.162000</strong></td>\n",
        "      <td> 104.460</td>\n",
        "      <td> 1000</td>\n",
        "    </tr>\n",
        "    <tr>\n",
        "      <td><strong>2011-11-01 08:58:06.162000</strong></td>\n",
        "      <td> 104.460</td>\n",
        "      <td> 1000</td>\n",
        "    </tr>\n",
        "    <tr>\n",
        "      <td><strong>2011-11-01 08:58:06.162000</strong></td>\n",
        "      <td> 104.460</td>\n",
        "      <td> 1000</td>\n",
        "    </tr>\n",
        "    <tr>\n",
        "      <td><strong>2011-11-01 08:58:06.164000</strong></td>\n",
        "      <td> 104.460</td>\n",
        "      <td> 1000</td>\n",
        "    </tr>\n",
        "    <tr>\n",
        "      <td><strong>2011-11-01 08:58:06.164000</strong></td>\n",
        "      <td> 104.460</td>\n",
        "      <td> 1000</td>\n",
        "    </tr>\n",
        "    <tr>\n",
        "      <td><strong>2011-11-01 09:28:59.153000</strong></td>\n",
        "      <td> 104.460</td>\n",
        "      <td> 1000</td>\n",
        "    </tr>\n",
        "    <tr>\n",
        "      <td><strong>2011-11-01 09:29:53.651000</strong></td>\n",
        "      <td> 104.460</td>\n",
        "      <td> 1000</td>\n",
        "    </tr>\n",
        "    <tr>\n",
        "      <td><strong>2011-11-01 09:30:00.278000</strong></td>\n",
        "      <td> 104.460</td>\n",
        "      <td> 1000</td>\n",
        "    </tr>\n",
        "    <tr>\n",
        "      <td><strong>2011-11-01 09:30:00.278000</strong></td>\n",
        "      <td> 104.460</td>\n",
        "      <td> 1000</td>\n",
        "    </tr>\n",
        "    <tr>\n",
        "      <td><strong>2011-11-01 09:30:00.384000</strong></td>\n",
        "      <td> 104.460</td>\n",
        "      <td> 1000</td>\n",
        "    </tr>\n",
        "    <tr>\n",
        "      <td><strong>2011-11-01 09:30:00.384000</strong></td>\n",
        "      <td> 104.460</td>\n",
        "      <td> 1000</td>\n",
        "    </tr>\n",
        "    <tr>\n",
        "      <td><strong>2011-11-01 09:30:00.384000</strong></td>\n",
        "      <td> 104.460</td>\n",
        "      <td> 1000</td>\n",
        "    </tr>\n",
        "    <tr>\n",
        "      <td><strong>2011-11-01 09:30:00.384000</strong></td>\n",
        "      <td> 104.460</td>\n",
        "      <td> 1000</td>\n",
        "    </tr>\n",
        "    <tr>\n",
        "      <td><strong>2011-11-01 09:30:00.384000</strong></td>\n",
        "      <td> 104.460</td>\n",
        "      <td> 1000</td>\n",
        "    </tr>\n",
        "    <tr>\n",
        "      <td><strong>2011-11-01 09:30:00.384000</strong></td>\n",
        "      <td> 104.460</td>\n",
        "      <td> 1000</td>\n",
        "    </tr>\n",
        "    <tr>\n",
        "      <td><strong>2011-11-01 09:30:00.384000</strong></td>\n",
        "      <td> 104.460</td>\n",
        "      <td> 1000</td>\n",
        "    </tr>\n",
        "  </tbody>\n",
        "</table>\n",
        "</div>"
       ],
       "output_type": "pyout",
       "prompt_number": 228,
       "text": [
        "                              Price  Volume\n",
        "ts                                         \n",
        "2011-11-01 08:04:56.364000  104.550     100\n",
        "2011-11-01 08:53:07.459000  104.430     150\n",
        "2011-11-01 08:53:09.284000  104.430     100\n",
        "2011-11-01 08:54:03.921000  104.445     550\n",
        "2011-11-01 08:58:06.162000  104.460    1000\n",
        "2011-11-01 08:58:06.162000  104.460    1000\n",
        "2011-11-01 08:58:06.162000  104.460    1000\n",
        "2011-11-01 08:58:06.164000  104.460    1000\n",
        "2011-11-01 08:58:06.164000  104.460    1000\n",
        "2011-11-01 09:28:59.153000  104.460    1000\n",
        "2011-11-01 09:29:53.651000  104.460    1000\n",
        "2011-11-01 09:30:00.278000  104.460    1000\n",
        "2011-11-01 09:30:00.278000  104.460    1000\n",
        "2011-11-01 09:30:00.384000  104.460    1000\n",
        "2011-11-01 09:30:00.384000  104.460    1000\n",
        "2011-11-01 09:30:00.384000  104.460    1000\n",
        "2011-11-01 09:30:00.384000  104.460    1000\n",
        "2011-11-01 09:30:00.384000  104.460    1000\n",
        "2011-11-01 09:30:00.384000  104.460    1000\n",
        "2011-11-01 09:30:00.384000  104.460    1000"
       ]
      }
     ],
     "prompt_number": 228
    },
    {
     "cell_type": "markdown",
     "metadata": {},
     "source": [
      "We can ignore NAs"
     ]
    },
    {
     "cell_type": "code",
     "collapsed": false,
     "input": [
      "missing.dropna()"
     ],
     "language": "python",
     "metadata": {},
     "outputs": [
      {
       "ename": "Exception",
       "evalue": "Reindexing only valid with uniquely valued Index objects",
       "output_type": "pyerr",
       "traceback": [
        "\u001b[0;31m---------------------------------------------------------------------------\u001b[0m\n\u001b[0;31mException\u001b[0m                                 Traceback (most recent call last)",
        "\u001b[0;32m<ipython-input-229-b47e8fcbb7ba>\u001b[0m in \u001b[0;36m<module>\u001b[0;34m()\u001b[0m\n\u001b[0;32m----> 1\u001b[0;31m \u001b[0mmissing\u001b[0m\u001b[0;34m.\u001b[0m\u001b[0mdropna\u001b[0m\u001b[0;34m(\u001b[0m\u001b[0;34m)\u001b[0m\u001b[0;34m\u001b[0m\u001b[0m\n\u001b[0m",
        "\u001b[0;32m/Users/snorlax13mba/anaconda/lib/python2.7/site-packages/pandas/core/frame.pyc\u001b[0m in \u001b[0;36mdropna\u001b[0;34m(self, axis, how, thresh, subset)\u001b[0m\n\u001b[1;32m   2686\u001b[0m         \u001b[0mlabels\u001b[0m \u001b[0;34m=\u001b[0m \u001b[0mself\u001b[0m\u001b[0;34m.\u001b[0m\u001b[0m_get_axis\u001b[0m\u001b[0;34m(\u001b[0m\u001b[0maxis\u001b[0m\u001b[0;34m)\u001b[0m\u001b[0;34m\u001b[0m\u001b[0m\n\u001b[1;32m   2687\u001b[0m         \u001b[0mnew_labels\u001b[0m \u001b[0;34m=\u001b[0m \u001b[0mlabels\u001b[0m\u001b[0;34m[\u001b[0m\u001b[0mmask\u001b[0m\u001b[0;34m]\u001b[0m\u001b[0;34m\u001b[0m\u001b[0m\n\u001b[0;32m-> 2688\u001b[0;31m         \u001b[0;32mreturn\u001b[0m \u001b[0mself\u001b[0m\u001b[0;34m.\u001b[0m\u001b[0mreindex\u001b[0m\u001b[0;34m(\u001b[0m\u001b[0;34m**\u001b[0m\u001b[0;34m{\u001b[0m\u001b[0maxis_name\u001b[0m\u001b[0;34m:\u001b[0m \u001b[0mnew_labels\u001b[0m\u001b[0;34m}\u001b[0m\u001b[0;34m)\u001b[0m\u001b[0;34m\u001b[0m\u001b[0m\n\u001b[0m\u001b[1;32m   2689\u001b[0m \u001b[0;34m\u001b[0m\u001b[0m\n\u001b[1;32m   2690\u001b[0m     \u001b[0;32mdef\u001b[0m \u001b[0mdrop_duplicates\u001b[0m\u001b[0;34m(\u001b[0m\u001b[0mself\u001b[0m\u001b[0;34m,\u001b[0m \u001b[0mcols\u001b[0m\u001b[0;34m=\u001b[0m\u001b[0mNone\u001b[0m\u001b[0;34m,\u001b[0m \u001b[0mtake_last\u001b[0m\u001b[0;34m=\u001b[0m\u001b[0mFalse\u001b[0m\u001b[0;34m,\u001b[0m \u001b[0minplace\u001b[0m\u001b[0;34m=\u001b[0m\u001b[0mFalse\u001b[0m\u001b[0;34m)\u001b[0m\u001b[0;34m:\u001b[0m\u001b[0;34m\u001b[0m\u001b[0m\n",
        "\u001b[0;32m/Users/snorlax13mba/anaconda/lib/python2.7/site-packages/pandas/core/frame.pyc\u001b[0m in \u001b[0;36mreindex\u001b[0;34m(self, index, columns, method, level, fill_value, limit, copy)\u001b[0m\n\u001b[1;32m   2244\u001b[0m         \u001b[0;32mif\u001b[0m \u001b[0mindex\u001b[0m \u001b[0;32mis\u001b[0m \u001b[0;32mnot\u001b[0m \u001b[0mNone\u001b[0m\u001b[0;34m:\u001b[0m\u001b[0;34m\u001b[0m\u001b[0m\n\u001b[1;32m   2245\u001b[0m             frame = frame._reindex_index(index, method, copy, level,\n\u001b[0;32m-> 2246\u001b[0;31m                                          fill_value, limit)\n\u001b[0m\u001b[1;32m   2247\u001b[0m \u001b[0;34m\u001b[0m\u001b[0m\n\u001b[1;32m   2248\u001b[0m         \u001b[0;32mreturn\u001b[0m \u001b[0mframe\u001b[0m\u001b[0;34m\u001b[0m\u001b[0m\n",
        "\u001b[0;32m/Users/snorlax13mba/anaconda/lib/python2.7/site-packages/pandas/core/frame.pyc\u001b[0m in \u001b[0;36m_reindex_index\u001b[0;34m(self, new_index, method, copy, level, fill_value, limit)\u001b[0m\n\u001b[1;32m   2320\u001b[0m                        limit=None):\n\u001b[1;32m   2321\u001b[0m         new_index, indexer = self.index.reindex(new_index, method, level,\n\u001b[0;32m-> 2322\u001b[0;31m                                                 limit=limit)\n\u001b[0m\u001b[1;32m   2323\u001b[0m         return self._reindex_with_indexers(new_index, indexer, None, None,\n\u001b[1;32m   2324\u001b[0m                                            copy, fill_value)\n",
        "\u001b[0;32m/Users/snorlax13mba/anaconda/lib/python2.7/site-packages/pandas/core/index.pyc\u001b[0m in \u001b[0;36mreindex\u001b[0;34m(self, target, method, level, limit)\u001b[0m\n\u001b[1;32m    825\u001b[0m             \u001b[0;32melse\u001b[0m\u001b[0;34m:\u001b[0m\u001b[0;34m\u001b[0m\u001b[0m\n\u001b[1;32m    826\u001b[0m                 indexer = self.get_indexer(target, method=method,\n\u001b[0;32m--> 827\u001b[0;31m                                            limit=limit)\n\u001b[0m\u001b[1;32m    828\u001b[0m         \u001b[0;32mreturn\u001b[0m \u001b[0mtarget\u001b[0m\u001b[0;34m,\u001b[0m \u001b[0mindexer\u001b[0m\u001b[0;34m\u001b[0m\u001b[0m\n\u001b[1;32m    829\u001b[0m \u001b[0;34m\u001b[0m\u001b[0m\n",
        "\u001b[0;32m/Users/snorlax13mba/anaconda/lib/python2.7/site-packages/pandas/core/index.pyc\u001b[0m in \u001b[0;36mget_indexer\u001b[0;34m(self, target, method, limit)\u001b[0m\n\u001b[1;32m    746\u001b[0m \u001b[0;34m\u001b[0m\u001b[0m\n\u001b[1;32m    747\u001b[0m         \u001b[0;32mif\u001b[0m \u001b[0;32mnot\u001b[0m \u001b[0mself\u001b[0m\u001b[0;34m.\u001b[0m\u001b[0mis_unique\u001b[0m\u001b[0;34m:\u001b[0m\u001b[0;34m\u001b[0m\u001b[0m\n\u001b[0;32m--> 748\u001b[0;31m             raise Exception('Reindexing only valid with uniquely valued Index '\n\u001b[0m\u001b[1;32m    749\u001b[0m                             'objects')\n\u001b[1;32m    750\u001b[0m \u001b[0;34m\u001b[0m\u001b[0m\n",
        "\u001b[0;31mException\u001b[0m: Reindexing only valid with uniquely valued Index objects"
       ]
      }
     ],
     "prompt_number": 229
    },
    {
     "cell_type": "markdown",
     "metadata": {},
     "source": [
      "## Groupby"
     ]
    },
    {
     "cell_type": "markdown",
     "metadata": {},
     "source": [
      "Let's read in the data again without combining columns"
     ]
    },
    {
     "cell_type": "code",
     "collapsed": false,
     "input": [
      "ticks = pd.read_csv(path, parse_dates=['Date'])\n",
      "ticks"
     ],
     "language": "python",
     "metadata": {},
     "outputs": [
      {
       "output_type": "pyout",
       "prompt_number": 293,
       "text": [
        "<class 'pandas.core.frame.DataFrame'>\n",
        "Int64Index: 14632 entries, 0 to 14631\n",
        "Data columns:\n",
        "Date                                            14632  non-null values\n",
        "Time                                            14632  non-null values\n",
        "Price                                           14632  non-null values\n",
        "Volume                                          14632  non-null values\n",
        "Exchange Code                                   14632  non-null values\n",
        "Sales Condition                                 14632  non-null values\n",
        "Correction Indicator                            14632  non-null values\n",
        "Sequence Number                                 14632  non-null values\n",
        "Trade Stop Indicator                            14632  non-null values\n",
        "Source of Trade                                 14632  non-null values\n",
        "MDS 127 / TRF (Trade Reporting Facility) (*)    2421  non-null values\n",
        "Exclude Record Flag                             28  non-null values\n",
        "Filtered Price                                  0  non-null values\n",
        "dtypes: float64(2), int64(3), object(8)"
       ]
      }
     ],
     "prompt_number": 293
    },
    {
     "cell_type": "code",
     "collapsed": false,
     "input": [
      "df = ticks.ix[:, ['Price', 'Volume']]\n",
      "df"
     ],
     "language": "python",
     "metadata": {},
     "outputs": [
      {
       "output_type": "pyout",
       "prompt_number": 295,
       "text": [
        "<class 'pandas.core.frame.DataFrame'>\n",
        "Int64Index: 14632 entries, 0 to 14631\n",
        "Data columns:\n",
        "Price     14632  non-null values\n",
        "Volume    14632  non-null values\n",
        "dtypes: float64(1), int64(1)"
       ]
      }
     ],
     "prompt_number": 295
    },
    {
     "cell_type": "code",
     "collapsed": false,
     "input": [
      "df['Returns'] = df.Price.pct_change()"
     ],
     "language": "python",
     "metadata": {},
     "outputs": [],
     "prompt_number": 296
    },
    {
     "cell_type": "code",
     "collapsed": false,
     "input": [
      "grouped = df.groupby(ticks.Date)\n",
      "grouped"
     ],
     "language": "python",
     "metadata": {},
     "outputs": [
      {
       "output_type": "pyout",
       "prompt_number": 297,
       "text": [
        "<pandas.core.groupby.DataFrameGroupBy at 0x10a760b10>"
       ]
      }
     ],
     "prompt_number": 297
    },
    {
     "cell_type": "code",
     "collapsed": false,
     "input": [
      "grouped.Returns.mean()"
     ],
     "language": "python",
     "metadata": {},
     "outputs": [
      {
       "output_type": "pyout",
       "prompt_number": 298,
       "text": [
        "Date\n",
        "2011-11-01   -4.226326e-07\n",
        "2011-11-02    3.672861e-09\n",
        "2011-11-03   -1.658575e-06\n",
        "Name: Returns"
       ]
      }
     ],
     "prompt_number": 298
    },
    {
     "cell_type": "code",
     "collapsed": false,
     "input": [
      "grouped.Volume.sum()"
     ],
     "language": "python",
     "metadata": {},
     "outputs": [
      {
       "output_type": "pyout",
       "prompt_number": 299,
       "text": [
        "Date\n",
        "2011-11-01    2391125\n",
        "2011-11-02    1114754\n",
        "2011-11-03     783055\n",
        "Name: Volume"
       ]
      }
     ],
     "prompt_number": 299
    },
    {
     "cell_type": "code",
     "collapsed": false,
     "input": [
      "grouped.Price.std()"
     ],
     "language": "python",
     "metadata": {},
     "outputs": [
      {
       "output_type": "pyout",
       "prompt_number": 300,
       "text": [
        "Date\n",
        "2011-11-01    0.188347\n",
        "2011-11-02    0.140807\n",
        "2011-11-03    0.068991\n",
        "Name: Price"
       ]
      }
     ],
     "prompt_number": 300
    },
    {
     "cell_type": "markdown",
     "metadata": {},
     "source": [
      "### Custom aggregations"
     ]
    },
    {
     "cell_type": "markdown",
     "metadata": {},
     "source": [
      "Compounded returns"
     ]
    },
    {
     "cell_type": "code",
     "collapsed": false,
     "input": [
      "grouped.Returns.agg(lambda x: (1 + x).prod() - 1)"
     ],
     "language": "python",
     "metadata": {},
     "outputs": [
      {
       "output_type": "pyout",
       "prompt_number": 301,
       "text": [
        "Date\n",
        "2011-11-01   -3.156385e-03\n",
        "2011-11-02   -8.326673e-15\n",
        "2011-11-03   -3.933986e-03\n",
        "Name: Returns"
       ]
      }
     ],
     "prompt_number": 301
    },
    {
     "cell_type": "markdown",
     "metadata": {},
     "source": [
      "Daily volume weighted average price"
     ]
    },
    {
     "cell_type": "code",
     "collapsed": false,
     "input": [
      "grouped.agg(lambda x: (x.Price * x.Volume).sum() / x.Volume.sum())"
     ],
     "language": "python",
     "metadata": {},
     "outputs": [
      {
       "html": [
        "<div style=\"max-height:1000px;max-width:1500px;overflow:auto;\">\n",
        "<table border=\"1\" class=\"dataframe\">\n",
        "  <thead>\n",
        "    <tr style=\"text-align: right;\">\n",
        "      <th></th>\n",
        "      <th>Price</th>\n",
        "      <th>Volume</th>\n",
        "      <th>Returns</th>\n",
        "    </tr>\n",
        "    <tr>\n",
        "      <th>Date</th>\n",
        "      <th></th>\n",
        "      <th></th>\n",
        "      <th></th>\n",
        "    </tr>\n",
        "  </thead>\n",
        "  <tbody>\n",
        "    <tr>\n",
        "      <td><strong>2011-11-01</strong></td>\n",
        "      <td> 104.250489</td>\n",
        "      <td> 104.250489</td>\n",
        "      <td> 104.250489</td>\n",
        "    </tr>\n",
        "    <tr>\n",
        "      <td><strong>2011-11-02</strong></td>\n",
        "      <td> 104.139615</td>\n",
        "      <td> 104.139615</td>\n",
        "      <td> 104.139615</td>\n",
        "    </tr>\n",
        "    <tr>\n",
        "      <td><strong>2011-11-03</strong></td>\n",
        "      <td> 103.870989</td>\n",
        "      <td> 103.870989</td>\n",
        "      <td> 103.870989</td>\n",
        "    </tr>\n",
        "  </tbody>\n",
        "</table>\n",
        "</div>"
       ],
       "output_type": "pyout",
       "prompt_number": 302,
       "text": [
        "                 Price      Volume     Returns\n",
        "Date                                          \n",
        "2011-11-01  104.250489  104.250489  104.250489\n",
        "2011-11-02  104.139615  104.139615  104.139615\n",
        "2011-11-03  103.870989  103.870989  103.870989"
       ]
      }
     ],
     "prompt_number": 302
    },
    {
     "cell_type": "markdown",
     "metadata": {},
     "source": [
      "Daily percent change in price"
     ]
    },
    {
     "cell_type": "code",
     "collapsed": false,
     "input": [
      "grouped.agg(lambda x: x.irow(-1) / x.irow(0) - 1)"
     ],
     "language": "python",
     "metadata": {},
     "outputs": [
      {
       "html": [
        "<div style=\"max-height:1000px;max-width:1500px;overflow:auto;\">\n",
        "<table border=\"1\" class=\"dataframe\">\n",
        "  <thead>\n",
        "    <tr style=\"text-align: right;\">\n",
        "      <th></th>\n",
        "      <th>Price</th>\n",
        "      <th>Volume</th>\n",
        "      <th>Returns</th>\n",
        "    </tr>\n",
        "    <tr>\n",
        "      <th>Date</th>\n",
        "      <th></th>\n",
        "      <th></th>\n",
        "      <th></th>\n",
        "    </tr>\n",
        "  </thead>\n",
        "  <tbody>\n",
        "    <tr>\n",
        "      <td><strong>2011-11-01</strong></td>\n",
        "      <td>-0.003156</td>\n",
        "      <td>  2.000000</td>\n",
        "      <td>NaN</td>\n",
        "    </tr>\n",
        "    <tr>\n",
        "      <td><strong>2011-11-02</strong></td>\n",
        "      <td> 0.002790</td>\n",
        "      <td>  0.048333</td>\n",
        "      <td> -1</td>\n",
        "    </tr>\n",
        "    <tr>\n",
        "      <td><strong>2011-11-03</strong></td>\n",
        "      <td> 0.000385</td>\n",
        "      <td> 19.570000</td>\n",
        "      <td> -1</td>\n",
        "    </tr>\n",
        "  </tbody>\n",
        "</table>\n",
        "</div>"
       ],
       "output_type": "pyout",
       "prompt_number": 309,
       "text": [
        "               Price     Volume  Returns\n",
        "Date                                    \n",
        "2011-11-01 -0.003156   2.000000      NaN\n",
        "2011-11-02  0.002790   0.048333       -1\n",
        "2011-11-03  0.000385  19.570000       -1"
       ]
      }
     ],
     "prompt_number": 309
    },
    {
     "cell_type": "markdown",
     "metadata": {},
     "source": [
      "We could also have used first and last"
     ]
    },
    {
     "cell_type": "code",
     "collapsed": false,
     "input": [
      "grouped.last() / grouped.first() - 1"
     ],
     "language": "python",
     "metadata": {},
     "outputs": [
      {
       "html": [
        "<div style=\"max-height:1000px;max-width:1500px;overflow:auto;\">\n",
        "<table border=\"1\" class=\"dataframe\">\n",
        "  <thead>\n",
        "    <tr style=\"text-align: right;\">\n",
        "      <th></th>\n",
        "      <th>Price</th>\n",
        "      <th>Volume</th>\n",
        "      <th>Returns</th>\n",
        "    </tr>\n",
        "    <tr>\n",
        "      <th>Date</th>\n",
        "      <th></th>\n",
        "      <th></th>\n",
        "      <th></th>\n",
        "    </tr>\n",
        "  </thead>\n",
        "  <tbody>\n",
        "    <tr>\n",
        "      <td><strong>2011-11-01</strong></td>\n",
        "      <td>-0.003156</td>\n",
        "      <td>  2.000000</td>\n",
        "      <td>-1</td>\n",
        "    </tr>\n",
        "    <tr>\n",
        "      <td><strong>2011-11-02</strong></td>\n",
        "      <td> 0.002790</td>\n",
        "      <td>  0.048333</td>\n",
        "      <td>-1</td>\n",
        "    </tr>\n",
        "    <tr>\n",
        "      <td><strong>2011-11-03</strong></td>\n",
        "      <td> 0.000385</td>\n",
        "      <td> 19.570000</td>\n",
        "      <td>-1</td>\n",
        "    </tr>\n",
        "  </tbody>\n",
        "</table>\n",
        "</div>"
       ],
       "output_type": "pyout",
       "prompt_number": 310,
       "text": [
        "               Price     Volume  Returns\n",
        "Date                                    \n",
        "2011-11-01 -0.003156   2.000000       -1\n",
        "2011-11-02  0.002790   0.048333       -1\n",
        "2011-11-03  0.000385  19.570000       -1"
       ]
      }
     ],
     "prompt_number": 310
    },
    {
     "cell_type": "markdown",
     "metadata": {},
     "source": [
      "Difference here is that first/last gets the first/last non-na element"
     ]
    },
    {
     "cell_type": "markdown",
     "metadata": {},
     "source": [
      "### Non-aggregating Manipulations"
     ]
    },
    {
     "cell_type": "code",
     "collapsed": false,
     "input": [
      "rs = grouped.transform(lambda x: (x - x.mean()) / x.std())\n",
      "rs"
     ],
     "language": "python",
     "metadata": {},
     "outputs": []
    },
    {
     "cell_type": "code",
     "collapsed": false,
     "input": [
      "rs.min()"
     ],
     "language": "python",
     "metadata": {},
     "outputs": []
    },
    {
     "cell_type": "code",
     "collapsed": false,
     "input": [
      "rs.max()"
     ],
     "language": "python",
     "metadata": {},
     "outputs": []
    },
    {
     "cell_type": "code",
     "collapsed": false,
     "input": [
      "rs.mean()"
     ],
     "language": "python",
     "metadata": {},
     "outputs": []
    },
    {
     "cell_type": "code",
     "collapsed": false,
     "input": [
      "rs.std()"
     ],
     "language": "python",
     "metadata": {},
     "outputs": []
    },
    {
     "cell_type": "code",
     "collapsed": false,
     "input": [
      "ticks"
     ],
     "language": "python",
     "metadata": {},
     "outputs": []
    },
    {
     "cell_type": "code",
     "collapsed": false,
     "input": [
      "df = ticks.ix[:, ['Date', 'Time', 'Price', 'Volume']]\n",
      "df"
     ],
     "language": "python",
     "metadata": {},
     "outputs": []
    },
    {
     "cell_type": "code",
     "collapsed": false,
     "input": [
      "df = df.set_index(['Date', 'Time'])\n",
      "df"
     ],
     "language": "python",
     "metadata": {},
     "outputs": []
    },
    {
     "cell_type": "code",
     "collapsed": false,
     "input": [
      "rets = df.Price / df.Price.shift(5) - 1\n",
      "rets"
     ],
     "language": "python",
     "metadata": {},
     "outputs": []
    },
    {
     "cell_type": "code",
     "collapsed": false,
     "input": [
      "grouped = df.groupby(level=0)\n",
      "rs = grouped.transform(lambda x: (x / x.shift(5) - 1).cumsum())\n",
      "returns = rs.Price\n",
      "returns"
     ],
     "language": "python",
     "metadata": {},
     "outputs": []
    },
    {
     "cell_type": "markdown",
     "metadata": {},
     "source": [
      "### Practical 3\n",
      "\n",
      "Implement function that:\n",
      "\n",
      "- takes in a DataFrame with intraday data and a mapping for dates\n",
      "- compute the raw 2nd moment for each day"
     ]
    },
    {
     "cell_type": "code",
     "collapsed": false,
     "input": [
      "def raw_var(df, dates):\n",
      "    return df.groupby(dates).agg(lambda x: (x**2).sum() / (x.count() - 1))"
     ],
     "language": "python",
     "metadata": {},
     "outputs": [],
     "prompt_number": 313
    },
    {
     "cell_type": "code",
     "collapsed": false,
     "input": [
      "raw_var(df, ticks.Date)"
     ],
     "language": "python",
     "metadata": {},
     "outputs": [
      {
       "html": [
        "<div style=\"max-height:1000px;max-width:1500px;overflow:auto;\">\n",
        "<table border=\"1\" class=\"dataframe\">\n",
        "  <thead>\n",
        "    <tr style=\"text-align: right;\">\n",
        "      <th></th>\n",
        "      <th>Price</th>\n",
        "      <th>Volume</th>\n",
        "      <th>Returns</th>\n",
        "    </tr>\n",
        "    <tr>\n",
        "      <th>Date</th>\n",
        "      <th></th>\n",
        "      <th></th>\n",
        "      <th></th>\n",
        "    </tr>\n",
        "  </thead>\n",
        "  <tbody>\n",
        "    <tr>\n",
        "      <td><strong>2011-11-01</strong></td>\n",
        "      <td> 10861.093515</td>\n",
        "      <td> 12393295.177649</td>\n",
        "      <td> 2.817714e-08</td>\n",
        "    </tr>\n",
        "    <tr>\n",
        "      <td><strong>2011-11-02</strong></td>\n",
        "      <td> 10844.555943</td>\n",
        "      <td>   646318.922801</td>\n",
        "      <td> 7.344315e-09</td>\n",
        "    </tr>\n",
        "    <tr>\n",
        "      <td><strong>2011-11-03</strong></td>\n",
        "      <td> 10796.072772</td>\n",
        "      <td>  6452776.031726</td>\n",
        "      <td> 1.623339e-08</td>\n",
        "    </tr>\n",
        "  </tbody>\n",
        "</table>\n",
        "</div>"
       ],
       "output_type": "pyout",
       "prompt_number": 314,
       "text": [
        "                   Price           Volume       Returns\n",
        "Date                                                   \n",
        "2011-11-01  10861.093515  12393295.177649  2.817714e-08\n",
        "2011-11-02  10844.555943    646318.922801  7.344315e-09\n",
        "2011-11-03  10796.072772   6452776.031726  1.623339e-08"
       ]
      }
     ],
     "prompt_number": 314
    },
    {
     "cell_type": "markdown",
     "metadata": {},
     "source": [
      "Are student solutions robust to NAs?"
     ]
    },
    {
     "cell_type": "code",
     "collapsed": false,
     "input": [],
     "language": "python",
     "metadata": {},
     "outputs": []
    }
   ],
   "metadata": {}
  }
 ]
}